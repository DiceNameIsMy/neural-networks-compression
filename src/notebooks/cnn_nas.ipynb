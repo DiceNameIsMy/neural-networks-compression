{
 "cells": [
  {
   "cell_type": "code",
   "execution_count": 1,
   "id": "158fafbe",
   "metadata": {},
   "outputs": [],
   "source": [
    "import logging\n",
    "import sys\n",
    "from pathlib import Path\n",
    "\n",
    "\n",
    "logging.basicConfig(\n",
    "    level=logging.INFO,\n",
    "    format=\"%(levelname)s: %(message)s\",\n",
    "    force=True,\n",
    ")\n",
    "\n",
    "# Add the src directory to the Python path\n",
    "sys.path.append(str(Path.cwd().parent.parent))"
   ]
  },
  {
   "cell_type": "code",
   "execution_count": 2,
   "id": "e74b9878",
   "metadata": {},
   "outputs": [],
   "source": [
    "from pprint import pprint\n",
    "\n",
    "from pymoo.optimize import minimize\n",
    "\n",
    "from src.constants import SEED\n",
    "from src.nas.nas import NasParams\n",
    "from src.nas.plot import hist_accuracies\n"
   ]
  },
  {
   "cell_type": "code",
   "execution_count": 3,
   "id": "ca5e01c0",
   "metadata": {},
   "outputs": [
    {
     "name": "stdout",
     "output_type": "stream",
     "text": [
      "26\n",
      "(array([0, 0, 0, 0, 0, 0, 0, 0, 0, 0, 0, 0, 1, 0, 1, 0, 1, 0, 0, 0, 0, 0,\n",
      "       0, 0, 0, 0]),\n",
      " array([7, 2, 2, 1, 1, 2, 1, 1, 2, 1, 1, 2, 3, 7, 3, 7, 3, 7, 2, 3, 3, 0,\n",
      "       1, 1, 6, 3]))\n"
     ]
    }
   ],
   "source": [
    "from src.nas.cnn_chromosome import CNNChromosome, RawCNNChromosome\n",
    "\n",
    "pprint(RawCNNChromosome.get_size())\n",
    "pprint(RawCNNChromosome.get_bounds())"
   ]
  },
  {
   "cell_type": "code",
   "execution_count": null,
   "id": "ea255d6f",
   "metadata": {},
   "outputs": [
    {
     "data": {
      "text/plain": [
       "(229672.0, 1454520.0)"
      ]
     },
     "execution_count": 4,
     "metadata": {},
     "output_type": "execute_result"
    }
   ],
   "source": [
    "from src.datasets.mnist_dataset import MiniMNISTDataset\n",
    "from src.nas.cnn_nas_problem import CnnNasProblem\n",
    "\n",
    "\n",
    "CnnDatasetClass = MiniMNISTDataset\n",
    "cnn_nas_params = NasParams(\n",
    "    epochs=1,\n",
    "    patience=5,\n",
    "    amount_of_evaluations=1,\n",
    "    population_size=20,\n",
    "    population_offspring_count=8,\n",
    "    algorithm_generations=1,\n",
    "    population_store_file=CnnDatasetClass.__name__ + \"_population.csv\",\n",
    ")\n",
    "cnn_problem = CnnNasProblem(cnn_nas_params, CnnDatasetClass)\n",
    "\n",
    "cnn_problem.get_min_complexity(), cnn_problem.get_max_complexity()"
   ]
  },
  {
   "cell_type": "code",
   "execution_count": 5,
   "id": "08ef137a",
   "metadata": {},
   "outputs": [
    {
     "name": "stdout",
     "output_type": "stream",
     "text": [
      "CNNChromosome(in_bitwidth=8,\n",
      "              conv_layers=2,\n",
      "              conv_channels1=16,\n",
      "              conv_stride1=1,\n",
      "              conv_pooling_size1=1,\n",
      "              conv_channels2=32,\n",
      "              conv_stride2=1,\n",
      "              conv_pooling_size2=2,\n",
      "              conv_channels3=16,\n",
      "              conv_stride3=1,\n",
      "              conv_pooling_size3=1,\n",
      "              fc_layers=3,\n",
      "              fc_height1=32,\n",
      "              fc_bitwidth1=1,\n",
      "              fc_height2=32,\n",
      "              fc_bitwidth2=1,\n",
      "              fc_height3=32,\n",
      "              fc_bitwidth3=1,\n",
      "              dropout=0.0,\n",
      "              activation=<ActivationModule.BINARIZE_RESTE: 'binary_ReSTE'>,\n",
      "              reste_o=1.5,\n",
      "              reste_threshold=1.5,\n",
      "              quatization_mode=<QMode.DET: 'det'>,\n",
      "              binarization_mode=<QMode.DET: 'det'>,\n",
      "              learning_rate=0.0001,\n",
      "              weight_decay=0.01)\n"
     ]
    }
   ],
   "source": [
    "from src.models.cnn import CNN, CNNEvaluator\n",
    "\n",
    "x = [7, 1, 0, 0, 0, 2, 0, 1, 0, 0, 0, 2, 1, 0, 1, 0, 1, 0, 0, 2, 0, 0, 0, 0, 0, 0]\n",
    "cnn_ch = RawCNNChromosome(x).parse()\n",
    "pprint(cnn_ch)"
   ]
  },
  {
   "cell_type": "code",
   "execution_count": 6,
   "id": "5d4ed92b",
   "metadata": {},
   "outputs": [
    {
     "data": {
      "text/plain": [
       "CNN(\n",
       "  (in_quantize_layer): Module_Quantize()\n",
       "  (conv_layers): ModuleList(\n",
       "    (0): Sequential(\n",
       "      (0): Binary_ReSTE_Conv2d(1, 16, kernel_size=(3, 3), stride=(1, 1))\n",
       "      (1): BatchNorm2d(16, eps=1e-05, momentum=0.1, affine=True, track_running_stats=True)\n",
       "      (2): Module_Binarize_ReSTE()\n",
       "    )\n",
       "    (1): Sequential(\n",
       "      (0): Binary_ReSTE_Conv2d(16, 32, kernel_size=(3, 3), stride=(1, 1))\n",
       "      (1): BatchNorm2d(32, eps=1e-05, momentum=0.1, affine=True, track_running_stats=True)\n",
       "      (2): Module_Binarize_ReSTE()\n",
       "      (3): MaxPool2d(kernel_size=2, stride=2, padding=0, dilation=1, ceil_mode=False)\n",
       "    )\n",
       "  )\n",
       "  (fc_layers): Sequential(\n",
       "    (0): QuantizedWeightLinear(in_features=4608, out_features=32, bias=True)\n",
       "    (1): BatchNorm1d(32, eps=1e-05, momentum=0.1, affine=True, track_running_stats=True)\n",
       "    (2): Module_Binarize_ReSTE()\n",
       "    (3): QuantizedWeightLinear(in_features=32, out_features=32, bias=True)\n",
       "    (4): BatchNorm1d(32, eps=1e-05, momentum=0.1, affine=True, track_running_stats=True)\n",
       "    (5): Module_Binarize_ReSTE()\n",
       "    (6): QuantizedWeightLinear(in_features=32, out_features=32, bias=True)\n",
       "    (7): BatchNorm1d(32, eps=1e-05, momentum=0.1, affine=True, track_running_stats=True)\n",
       "    (8): Module_Binarize_ReSTE()\n",
       "    (9): Linear(in_features=32, out_features=10, bias=True)\n",
       "  )\n",
       ")"
      ]
     },
     "execution_count": 6,
     "metadata": {},
     "output_type": "execute_result"
    }
   ],
   "source": [
    "cnn_params = cnn_problem.get_nn_params(cnn_ch)\n",
    "CNN(cnn_params)"
   ]
  },
  {
   "cell_type": "code",
   "execution_count": 7,
   "id": "c34ca23e",
   "metadata": {},
   "outputs": [
    {
     "data": {
      "text/plain": [
       "{'max': 12.375, 'mean': np.float64(12.375), 'std': np.float64(0.0)}"
      ]
     },
     "execution_count": 7,
     "metadata": {},
     "output_type": "execute_result"
    }
   ],
   "source": [
    "CNNEvaluator(cnn_params).evaluate_model()"
   ]
  },
  {
   "cell_type": "code",
   "execution_count": 9,
   "id": "d79a0e92",
   "metadata": {},
   "outputs": [
    {
     "name": "stderr",
     "output_type": "stream",
     "text": [
      "INFO: Population file is empty. Using random sampling\n",
      "ERROR: Error during evaluation: Calculated padded input size per channel: (2 x 2). Kernel size: (3 x 3). Kernel size can't be greater than actual input size\n"
     ]
    },
    {
     "name": "stdout",
     "output_type": "stream",
     "text": [
      "==========================================================\n",
      "n_gen  |  n_eval  | n_nds  |      eps      |   indicator  \n",
      "==========================================================\n",
      "     1 |       20 |      7 |             - |             -\n",
      "Solutions: [[3 1 1 0 1 0 1 1 2 0 1 0 2 2 2 1 1 0 2 0 3 0 1 1 2 3]\n",
      " [0 0 0 0 1 2 1 1 0 1 1 0 2 1 1 0 3 6 0 3 3 0 1 0 6 0]\n",
      " [0 2 2 1 1 1 0 0 2 0 0 2 2 2 2 3 1 7 0 0 0 0 0 0 5 3]\n",
      " [1 1 0 0 1 0 0 0 2 1 1 0 3 4 3 4 1 5 2 0 2 0 1 0 2 2]\n",
      " [4 1 2 1 0 1 1 0 2 1 0 0 1 7 2 6 1 4 0 2 2 0 0 0 4 0]\n",
      " [4 2 1 1 0 0 0 0 1 1 0 0 1 6 3 2 3 5 2 2 1 0 0 1 2 3]\n",
      " [4 1 1 0 1 0 0 0 2 1 0 0 1 2 3 6 1 4 1 2 1 0 1 0 5 3]]\n",
      "Objectives: [[-0.3375      0.          0.10714286]\n",
      " [-0.40125     0.32382271  0.        ]\n",
      " [-0.81375     0.          0.42857143]\n",
      " [-0.4925      1.          0.10714286]\n",
      " [-0.43125     0.00562682  0.32142857]\n",
      " [-0.33875     0.          0.28571429]\n",
      " [-0.53625     0.23840264  0.14285714]]\n"
     ]
    }
   ],
   "source": [
    "from pymoo.optimize import minimize\n",
    "\n",
    "from src.constants import SEED\n",
    "\n",
    "\n",
    "algorithm = cnn_nas_params.get_algorithm()\n",
    "termination = cnn_nas_params.get_termination()\n",
    "\n",
    "res = minimize(cnn_problem, algorithm, verbose=True, seed=SEED, termination=termination)\n",
    "\n",
    "if cnn_nas_params.population_store_file is not None:\n",
    "    cnn_nas_params.store_population(res, cnn_nas_params.population_store_file)\n",
    "\n",
    "print(f\"Solutions: {res.X}\")\n",
    "print(f\"Objectives: {res.F}\")"
   ]
  },
  {
   "cell_type": "code",
   "execution_count": 10,
   "id": "970f88af",
   "metadata": {},
   "outputs": [
    {
     "data": {
      "text/html": [
       "<div>\n",
       "<style scoped>\n",
       "    .dataframe tbody tr th:only-of-type {\n",
       "        vertical-align: middle;\n",
       "    }\n",
       "\n",
       "    .dataframe tbody tr th {\n",
       "        vertical-align: top;\n",
       "    }\n",
       "\n",
       "    .dataframe thead th {\n",
       "        text-align: right;\n",
       "    }\n",
       "</style>\n",
       "<table border=\"1\" class=\"dataframe\">\n",
       "  <thead>\n",
       "    <tr style=\"text-align: right;\">\n",
       "      <th></th>\n",
       "      <th>Accuracy</th>\n",
       "      <th>Complexity</th>\n",
       "      <th>conv_in_channels</th>\n",
       "      <th>conv_in_dimensions</th>\n",
       "      <th>conv_in_bitwidth</th>\n",
       "      <th>conv_out_height</th>\n",
       "      <th>conv_layers</th>\n",
       "      <th>conv_activation</th>\n",
       "      <th>conv_reste_threshold</th>\n",
       "      <th>conv_reste_o</th>\n",
       "      <th>...</th>\n",
       "      <th>conv_dropout_rate</th>\n",
       "      <th>fc_layers</th>\n",
       "      <th>fc_activation</th>\n",
       "      <th>fc_qmode</th>\n",
       "      <th>fc_dropout_rate</th>\n",
       "      <th>train_epochs</th>\n",
       "      <th>train_learning_rate</th>\n",
       "      <th>train_weight_decay</th>\n",
       "      <th>train_early_stop_patience</th>\n",
       "      <th>Chromosome</th>\n",
       "    </tr>\n",
       "  </thead>\n",
       "  <tbody>\n",
       "    <tr>\n",
       "      <th>0</th>\n",
       "      <td>33.750</td>\n",
       "      <td>2.296720e+05</td>\n",
       "      <td>1</td>\n",
       "      <td>28</td>\n",
       "      <td>4</td>\n",
       "      <td>10</td>\n",
       "      <td>[{'channels': 24, 'kernel_size': 3, 'stride': ...</td>\n",
       "      <td>ActivationModule.RELU</td>\n",
       "      <td>1.5</td>\n",
       "      <td>4.0</td>\n",
       "      <td>...</td>\n",
       "      <td>0.2</td>\n",
       "      <td>[{'height': 784, 'weight_qmode': WeightQuantMo...</td>\n",
       "      <td>{'activation': ActivationModule.RELU, 'binary_...</td>\n",
       "      <td>QMode.STOCH</td>\n",
       "      <td>0.2</td>\n",
       "      <td>1</td>\n",
       "      <td>0.0005</td>\n",
       "      <td>0.001</td>\n",
       "      <td>5</td>\n",
       "      <td>[3, 1, 1, 0, 1, 0, 1, 1, 2, 0, 1, 0, 2, 2, 2, ...</td>\n",
       "    </tr>\n",
       "    <tr>\n",
       "      <th>1</th>\n",
       "      <td>40.125</td>\n",
       "      <td>6.263056e+05</td>\n",
       "      <td>1</td>\n",
       "      <td>28</td>\n",
       "      <td>1</td>\n",
       "      <td>10</td>\n",
       "      <td>[{'channels': 16, 'kernel_size': 3, 'stride': ...</td>\n",
       "      <td>ActivationModule.TERNARIZE</td>\n",
       "      <td>1.5</td>\n",
       "      <td>4.0</td>\n",
       "      <td>...</td>\n",
       "      <td>0.0</td>\n",
       "      <td>[{'height': 784, 'weight_qmode': WeightQuantMo...</td>\n",
       "      <td>{'activation': ActivationModule.TERNARIZE, 'bi...</td>\n",
       "      <td>QMode.STOCH</td>\n",
       "      <td>0.0</td>\n",
       "      <td>1</td>\n",
       "      <td>0.0100</td>\n",
       "      <td>0.010</td>\n",
       "      <td>5</td>\n",
       "      <td>[0, 0, 0, 0, 1, 2, 1, 1, 0, 1, 1, 0, 2, 1, 1, ...</td>\n",
       "    </tr>\n",
       "    <tr>\n",
       "      <th>2</th>\n",
       "      <td>81.375</td>\n",
       "      <td>2.296720e+05</td>\n",
       "      <td>1</td>\n",
       "      <td>28</td>\n",
       "      <td>1</td>\n",
       "      <td>10</td>\n",
       "      <td>[{'channels': 32, 'kernel_size': 3, 'stride': ...</td>\n",
       "      <td>ActivationModule.RELU</td>\n",
       "      <td>1.5</td>\n",
       "      <td>1.5</td>\n",
       "      <td>...</td>\n",
       "      <td>0.0</td>\n",
       "      <td>[{'height': 784, 'weight_qmode': WeightQuantMo...</td>\n",
       "      <td>{'activation': ActivationModule.RELU, 'binary_...</td>\n",
       "      <td>QMode.DET</td>\n",
       "      <td>0.0</td>\n",
       "      <td>1</td>\n",
       "      <td>0.0050</td>\n",
       "      <td>0.001</td>\n",
       "      <td>5</td>\n",
       "      <td>[0, 2, 2, 1, 1, 1, 0, 0, 2, 0, 0, 2, 2, 2, 2, ...</td>\n",
       "    </tr>\n",
       "    <tr>\n",
       "      <th>3</th>\n",
       "      <td>49.250</td>\n",
       "      <td>1.454520e+06</td>\n",
       "      <td>1</td>\n",
       "      <td>28</td>\n",
       "      <td>2</td>\n",
       "      <td>10</td>\n",
       "      <td>[{'channels': 16, 'kernel_size': 3, 'stride': ...</td>\n",
       "      <td>ActivationModule.RELU</td>\n",
       "      <td>1.5</td>\n",
       "      <td>3.0</td>\n",
       "      <td>...</td>\n",
       "      <td>0.2</td>\n",
       "      <td>[{'height': 784, 'weight_qmode': WeightQuantMo...</td>\n",
       "      <td>{'activation': ActivationModule.RELU, 'binary_...</td>\n",
       "      <td>QMode.STOCH</td>\n",
       "      <td>0.2</td>\n",
       "      <td>1</td>\n",
       "      <td>0.0005</td>\n",
       "      <td>0.002</td>\n",
       "      <td>5</td>\n",
       "      <td>[1, 1, 0, 0, 1, 0, 0, 0, 2, 1, 1, 0, 3, 4, 3, ...</td>\n",
       "    </tr>\n",
       "    <tr>\n",
       "      <th>4</th>\n",
       "      <td>43.125</td>\n",
       "      <td>2.365640e+05</td>\n",
       "      <td>1</td>\n",
       "      <td>28</td>\n",
       "      <td>5</td>\n",
       "      <td>10</td>\n",
       "      <td>[{'channels': 32, 'kernel_size': 3, 'stride': ...</td>\n",
       "      <td>ActivationModule.BINARIZE_RESTE</td>\n",
       "      <td>1.5</td>\n",
       "      <td>3.0</td>\n",
       "      <td>...</td>\n",
       "      <td>0.0</td>\n",
       "      <td>[{'height': 784, 'weight_qmode': WeightQuantMo...</td>\n",
       "      <td>{'activation': ActivationModule.BINARIZE_RESTE...</td>\n",
       "      <td>QMode.DET</td>\n",
       "      <td>0.0</td>\n",
       "      <td>1</td>\n",
       "      <td>0.0020</td>\n",
       "      <td>0.010</td>\n",
       "      <td>5</td>\n",
       "      <td>[4, 1, 2, 1, 0, 1, 1, 0, 2, 1, 0, 0, 1, 7, 2, ...</td>\n",
       "    </tr>\n",
       "    <tr>\n",
       "      <th>5</th>\n",
       "      <td>33.875</td>\n",
       "      <td>2.296720e+05</td>\n",
       "      <td>1</td>\n",
       "      <td>28</td>\n",
       "      <td>5</td>\n",
       "      <td>10</td>\n",
       "      <td>[{'channels': 24, 'kernel_size': 3, 'stride': ...</td>\n",
       "      <td>ActivationModule.BINARIZE_RESTE</td>\n",
       "      <td>1.5</td>\n",
       "      <td>2.0</td>\n",
       "      <td>...</td>\n",
       "      <td>0.2</td>\n",
       "      <td>[{'height': 784, 'weight_qmode': WeightQuantMo...</td>\n",
       "      <td>{'activation': ActivationModule.BINARIZE_RESTE...</td>\n",
       "      <td>QMode.DET</td>\n",
       "      <td>0.2</td>\n",
       "      <td>1</td>\n",
       "      <td>0.0005</td>\n",
       "      <td>0.001</td>\n",
       "      <td>5</td>\n",
       "      <td>[4, 2, 1, 1, 0, 0, 0, 0, 1, 1, 0, 0, 1, 6, 3, ...</td>\n",
       "    </tr>\n",
       "    <tr>\n",
       "      <th>6</th>\n",
       "      <td>53.625</td>\n",
       "      <td>5.216790e+05</td>\n",
       "      <td>1</td>\n",
       "      <td>28</td>\n",
       "      <td>5</td>\n",
       "      <td>10</td>\n",
       "      <td>[{'channels': 24, 'kernel_size': 3, 'stride': ...</td>\n",
       "      <td>ActivationModule.BINARIZE_RESTE</td>\n",
       "      <td>1.5</td>\n",
       "      <td>2.0</td>\n",
       "      <td>...</td>\n",
       "      <td>0.1</td>\n",
       "      <td>[{'height': 784, 'weight_qmode': WeightQuantMo...</td>\n",
       "      <td>{'activation': ActivationModule.BINARIZE_RESTE...</td>\n",
       "      <td>QMode.STOCH</td>\n",
       "      <td>0.1</td>\n",
       "      <td>1</td>\n",
       "      <td>0.0050</td>\n",
       "      <td>0.001</td>\n",
       "      <td>5</td>\n",
       "      <td>[4, 1, 1, 0, 1, 0, 0, 0, 2, 1, 0, 0, 1, 2, 3, ...</td>\n",
       "    </tr>\n",
       "  </tbody>\n",
       "</table>\n",
       "<p>7 rows × 21 columns</p>\n",
       "</div>"
      ],
      "text/plain": [
       "   Accuracy    Complexity  conv_in_channels  conv_in_dimensions  \\\n",
       "0    33.750  2.296720e+05                 1                  28   \n",
       "1    40.125  6.263056e+05                 1                  28   \n",
       "2    81.375  2.296720e+05                 1                  28   \n",
       "3    49.250  1.454520e+06                 1                  28   \n",
       "4    43.125  2.365640e+05                 1                  28   \n",
       "5    33.875  2.296720e+05                 1                  28   \n",
       "6    53.625  5.216790e+05                 1                  28   \n",
       "\n",
       "   conv_in_bitwidth  conv_out_height  \\\n",
       "0                 4               10   \n",
       "1                 1               10   \n",
       "2                 1               10   \n",
       "3                 2               10   \n",
       "4                 5               10   \n",
       "5                 5               10   \n",
       "6                 5               10   \n",
       "\n",
       "                                         conv_layers  \\\n",
       "0  [{'channels': 24, 'kernel_size': 3, 'stride': ...   \n",
       "1  [{'channels': 16, 'kernel_size': 3, 'stride': ...   \n",
       "2  [{'channels': 32, 'kernel_size': 3, 'stride': ...   \n",
       "3  [{'channels': 16, 'kernel_size': 3, 'stride': ...   \n",
       "4  [{'channels': 32, 'kernel_size': 3, 'stride': ...   \n",
       "5  [{'channels': 24, 'kernel_size': 3, 'stride': ...   \n",
       "6  [{'channels': 24, 'kernel_size': 3, 'stride': ...   \n",
       "\n",
       "                   conv_activation  conv_reste_threshold  conv_reste_o  ...  \\\n",
       "0            ActivationModule.RELU                   1.5           4.0  ...   \n",
       "1       ActivationModule.TERNARIZE                   1.5           4.0  ...   \n",
       "2            ActivationModule.RELU                   1.5           1.5  ...   \n",
       "3            ActivationModule.RELU                   1.5           3.0  ...   \n",
       "4  ActivationModule.BINARIZE_RESTE                   1.5           3.0  ...   \n",
       "5  ActivationModule.BINARIZE_RESTE                   1.5           2.0  ...   \n",
       "6  ActivationModule.BINARIZE_RESTE                   1.5           2.0  ...   \n",
       "\n",
       "  conv_dropout_rate                                          fc_layers  \\\n",
       "0               0.2  [{'height': 784, 'weight_qmode': WeightQuantMo...   \n",
       "1               0.0  [{'height': 784, 'weight_qmode': WeightQuantMo...   \n",
       "2               0.0  [{'height': 784, 'weight_qmode': WeightQuantMo...   \n",
       "3               0.2  [{'height': 784, 'weight_qmode': WeightQuantMo...   \n",
       "4               0.0  [{'height': 784, 'weight_qmode': WeightQuantMo...   \n",
       "5               0.2  [{'height': 784, 'weight_qmode': WeightQuantMo...   \n",
       "6               0.1  [{'height': 784, 'weight_qmode': WeightQuantMo...   \n",
       "\n",
       "                                       fc_activation     fc_qmode  \\\n",
       "0  {'activation': ActivationModule.RELU, 'binary_...  QMode.STOCH   \n",
       "1  {'activation': ActivationModule.TERNARIZE, 'bi...  QMode.STOCH   \n",
       "2  {'activation': ActivationModule.RELU, 'binary_...    QMode.DET   \n",
       "3  {'activation': ActivationModule.RELU, 'binary_...  QMode.STOCH   \n",
       "4  {'activation': ActivationModule.BINARIZE_RESTE...    QMode.DET   \n",
       "5  {'activation': ActivationModule.BINARIZE_RESTE...    QMode.DET   \n",
       "6  {'activation': ActivationModule.BINARIZE_RESTE...  QMode.STOCH   \n",
       "\n",
       "  fc_dropout_rate  train_epochs  train_learning_rate  train_weight_decay  \\\n",
       "0             0.2             1               0.0005               0.001   \n",
       "1             0.0             1               0.0100               0.010   \n",
       "2             0.0             1               0.0050               0.001   \n",
       "3             0.2             1               0.0005               0.002   \n",
       "4             0.0             1               0.0020               0.010   \n",
       "5             0.2             1               0.0005               0.001   \n",
       "6             0.1             1               0.0050               0.001   \n",
       "\n",
       "   train_early_stop_patience  \\\n",
       "0                          5   \n",
       "1                          5   \n",
       "2                          5   \n",
       "3                          5   \n",
       "4                          5   \n",
       "5                          5   \n",
       "6                          5   \n",
       "\n",
       "                                          Chromosome  \n",
       "0  [3, 1, 1, 0, 1, 0, 1, 1, 2, 0, 1, 0, 2, 2, 2, ...  \n",
       "1  [0, 0, 0, 0, 1, 2, 1, 1, 0, 1, 1, 0, 2, 1, 1, ...  \n",
       "2  [0, 2, 2, 1, 1, 1, 0, 0, 2, 0, 0, 2, 2, 2, 2, ...  \n",
       "3  [1, 1, 0, 0, 1, 0, 0, 0, 2, 1, 1, 0, 3, 4, 3, ...  \n",
       "4  [4, 1, 2, 1, 0, 1, 1, 0, 2, 1, 0, 0, 1, 7, 2, ...  \n",
       "5  [4, 2, 1, 1, 0, 0, 0, 0, 1, 1, 0, 0, 1, 6, 3, ...  \n",
       "6  [4, 1, 1, 0, 1, 0, 0, 0, 2, 1, 0, 0, 1, 2, 3, ...  \n",
       "\n",
       "[7 rows x 21 columns]"
      ]
     },
     "execution_count": 10,
     "metadata": {},
     "output_type": "execute_result"
    }
   ],
   "source": [
    "df = cnn_problem.result_as_df(res)\n",
    "df"
   ]
  },
  {
   "cell_type": "code",
   "execution_count": 11,
   "id": "5f2e8667",
   "metadata": {},
   "outputs": [
    {
     "name": "stdout",
     "output_type": "stream",
     "text": [
      "CNNParams(conv=ConvParams(in_channels=1,\n",
      "                          in_dimensions=28,\n",
      "                          in_bitwidth=4,\n",
      "                          out_height=10,\n",
      "                          layers=[ConvLayerParams(channels=24,\n",
      "                                                  kernel_size=3,\n",
      "                                                  stride=1,\n",
      "                                                  padding=0,\n",
      "                                                  dilation=1,\n",
      "                                                  groups=1,\n",
      "                                                  bias=True,\n",
      "                                                  pooling_kernel_size=2),\n",
      "                                  ConvLayerParams(channels=16,\n",
      "                                                  kernel_size=3,\n",
      "                                                  stride=2,\n",
      "                                                  padding=0,\n",
      "                                                  dilation=1,\n",
      "                                                  groups=1,\n",
      "                                                  bias=True,\n",
      "                                                  pooling_kernel_size=2)],\n",
      "                          activation=<ActivationModule.RELU: 'relu'>,\n",
      "                          reste_threshold=1.5,\n",
      "                          reste_o=4.0,\n",
      "                          qmode=<QMode.STOCH: 'stoch'>,\n",
      "                          dropout_rate=0.2),\n",
      "          fc=FCParams(layers=[FCLayerParams(height=784,\n",
      "                                            weight_qmode=<WeightQuantMode.NBITS: 'nbits'>,\n",
      "                                            weight_bitwidth=4),\n",
      "                              FCLayerParams(height=64,\n",
      "                                            weight_qmode=<WeightQuantMode.NBITS: 'nbits'>,\n",
      "                                            weight_bitwidth=3),\n",
      "                              FCLayerParams(height=10,\n",
      "                                            weight_qmode=<WeightQuantMode.NONE: 'none'>,\n",
      "                                            weight_bitwidth=32)],\n",
      "                      activation=ActivationParams(activation=<ActivationModule.RELU: 'relu'>,\n",
      "                                                  binary_qmode=<QMode.STOCH: 'stoch'>,\n",
      "                                                  reste_o=4.0,\n",
      "                                                  reste_threshold=1.5),\n",
      "                      qmode=<QMode.STOCH: 'stoch'>,\n",
      "                      dropout_rate=0.2),\n",
      "          train=NNTrainParams(train_loader=<torch.utils.data.dataloader.DataLoader object at 0x7fb3c2f0fe00>,\n",
      "                              test_loader=<torch.utils.data.dataloader.DataLoader object at 0x7fb3c23a02d0>,\n",
      "                              epochs=1,\n",
      "                              learning_rate=0.0005,\n",
      "                              weight_decay=0.001,\n",
      "                              early_stop_patience=5),\n",
      "          in_bitwidth=4)\n"
     ]
    }
   ],
   "source": [
    "pprint(cnn_problem.get_nn_params(RawCNNChromosome(res.X[0]).parse()))"
   ]
  },
  {
   "cell_type": "code",
   "execution_count": 12,
   "id": "5b636faa",
   "metadata": {},
   "outputs": [
    {
     "data": {
      "image/png": "[encoded data removed]",
      "text/plain": [
       "<Figure size 640x480 with 1 Axes>"
      ]
     },
     "metadata": {},
     "output_type": "display_data"
    }
   ],
   "source": [
    "fig = hist_accuracies(df[\"Accuracy\"])"
   ]
  },
  {
   "cell_type": "code",
   "execution_count": 13,
   "id": "5d6ab23c",
   "metadata": {},
   "outputs": [
    {
     "data": {
      "image/png": "[encoded data removed]",
      "text/plain": [
       "<Figure size 1000x600 with 1 Axes>"
      ]
     },
     "metadata": {},
     "output_type": "display_data"
    }
   ],
   "source": [
    "from src.nas import plot\n",
    "\n",
    "plot.plot_pareto_front(df[\"Accuracy\"], df[\"Complexity\"])"
   ]
  },
  {
   "cell_type": "code",
   "execution_count": 26,
   "id": "c6fc9100",
   "metadata": {},
   "outputs": [
    {
     "name": "stdout",
     "output_type": "stream",
     "text": [
      "CNNChromosome(in_bitwidth=1,\n",
      "              conv_layers=3,\n",
      "              conv_channels1=32,\n",
      "              conv_stride1=2,\n",
      "              conv_pooling_size1=2,\n",
      "              conv_channels2=24,\n",
      "              conv_stride2=1,\n",
      "              conv_pooling_size2=1,\n",
      "              conv_channels3=32,\n",
      "              conv_stride3=1,\n",
      "              conv_pooling_size3=1,\n",
      "              fc_layers=3,\n",
      "              fc_height1=64,\n",
      "              fc_bitwidth1=3,\n",
      "              fc_height2=64,\n",
      "              fc_bitwidth2=4,\n",
      "              fc_height3=32,\n",
      "              fc_bitwidth3=8,\n",
      "              dropout=0.0,\n",
      "              activation=<ActivationModule.RELU: 'relu'>,\n",
      "              reste_o=1.5,\n",
      "              reste_threshold=1.5,\n",
      "              quatization_mode=<QMode.DET: 'det'>,\n",
      "              binarization_mode=<QMode.DET: 'det'>,\n",
      "              learning_rate=0.005,\n",
      "              weight_decay=0.001)\n"
     ]
    },
    {
     "data": {
      "text/plain": [
       "np.float64(81.375)"
      ]
     },
     "execution_count": 26,
     "metadata": {},
     "output_type": "execute_result"
    }
   ],
   "source": [
    "pprint(RawCNNChromosome(df.iloc[2][\"Chromosome\"]).parse())\n",
    "\n",
    "df.iloc[2][\"Accuracy\"]"
   ]
  },
  {
   "cell_type": "code",
   "execution_count": 27,
   "id": "f0b5f15b",
   "metadata": {},
   "outputs": [
    {
     "name": "stdout",
     "output_type": "stream",
     "text": [
      "CNNChromosome(in_bitwidth=5,\n",
      "              conv_layers=2,\n",
      "              conv_channels1=32,\n",
      "              conv_stride1=2,\n",
      "              conv_pooling_size1=1,\n",
      "              conv_channels2=24,\n",
      "              conv_stride2=2,\n",
      "              conv_pooling_size2=1,\n",
      "              conv_channels3=32,\n",
      "              conv_stride3=2,\n",
      "              conv_pooling_size3=1,\n",
      "              fc_layers=1,\n",
      "              fc_height1=32,\n",
      "              fc_bitwidth1=8,\n",
      "              fc_height2=64,\n",
      "              fc_bitwidth2=7,\n",
      "              fc_height3=32,\n",
      "              fc_bitwidth3=5,\n",
      "              dropout=0.0,\n",
      "              activation=<ActivationModule.BINARIZE_RESTE: 'binary_ReSTE'>,\n",
      "              reste_o=3.0,\n",
      "              reste_threshold=1.5,\n",
      "              quatization_mode=<QMode.DET: 'det'>,\n",
      "              binarization_mode=<QMode.DET: 'det'>,\n",
      "              learning_rate=0.002,\n",
      "              weight_decay=0.01)\n"
     ]
    },
    {
     "data": {
      "text/plain": [
       "np.float64(43.125)"
      ]
     },
     "execution_count": 27,
     "metadata": {},
     "output_type": "execute_result"
    }
   ],
   "source": [
    "pprint(RawCNNChromosome(df.iloc[4][\"Chromosome\"]).parse())\n",
    "\n",
    "df.iloc[4][\"Accuracy\"]"
   ]
  }
 ],
 "metadata": {
  "kernelspec": {
   "display_name": "venv",
   "language": "python",
   "name": "python3"
  },
  "language_info": {
   "codemirror_mode": {
    "name": "ipython",
    "version": 3
   },
   "file_extension": ".py",
   "mimetype": "text/x-python",
   "name": "python",
   "nbconvert_exporter": "python",
   "pygments_lexer": "ipython3",
   "version": "3.13.2"
  }
 },
 "nbformat": 4,
 "nbformat_minor": 5
}
