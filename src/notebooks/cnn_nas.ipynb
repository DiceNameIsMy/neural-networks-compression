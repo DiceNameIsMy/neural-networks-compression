{
 "cells": [
  {
   "cell_type": "code",
   "execution_count": 10,
   "id": "158fafbe",
   "metadata": {},
   "outputs": [],
   "source": [
    "import logging\n",
    "import sys\n",
    "from pathlib import Path\n",
    "\n",
    "\n",
    "logging.basicConfig(\n",
    "    level=logging.DEBUG,\n",
    "    format=\"%(levelname)s: %(message)s\",\n",
    "    force=True,\n",
    ")\n",
    "\n",
    "# Add the src directory to the Python path\n",
    "sys.path.append(str(Path.cwd().parent.parent))"
   ]
  },
  {
   "cell_type": "code",
   "execution_count": 11,
   "id": "e74b9878",
   "metadata": {},
   "outputs": [],
   "source": [
    "from pprint import pprint\n",
    "\n",
    "from pymoo.optimize import minimize\n",
    "\n",
    "from src.constants import SEED\n",
    "from src.nas.nas_params import NasParams\n",
    "from src.nas.plot import hist_accuracies\n"
   ]
  },
  {
   "cell_type": "code",
   "execution_count": 12,
   "id": "ca5e01c0",
   "metadata": {},
   "outputs": [
    {
     "name": "stdout",
     "output_type": "stream",
     "text": [
      "26\n",
      "(array([0, 0, 0, 0, 0, 0, 0, 0, 0, 0, 0, 0, 1, 0, 1, 0, 1, 0, 0, 0, 0, 0,\n",
      "       0, 0, 0, 0]),\n",
      " array([7, 2, 2, 1, 1, 2, 1, 1, 2, 1, 1, 2, 3, 7, 3, 7, 3, 7, 2, 3, 3, 0,\n",
      "       1, 1, 6, 3]))\n"
     ]
    }
   ],
   "source": [
    "from src.nas.cnn_chromosome import CNNChromosome, RawCNNChromosome\n",
    "\n",
    "pprint(RawCNNChromosome.get_size())\n",
    "pprint(RawCNNChromosome.get_bounds())"
   ]
  },
  {
   "cell_type": "code",
   "execution_count": 18,
   "id": "ea255d6f",
   "metadata": {},
   "outputs": [
    {
     "data": {
      "text/plain": [
       "(229672.0, 1454520.0)"
      ]
     },
     "execution_count": 18,
     "metadata": {},
     "output_type": "execute_result"
    }
   ],
   "source": [
    "from src.datasets.mnist_dataset import MiniMNISTDataset\n",
    "from src.nas.cnn_nas_problem import CnnNasProblem\n",
    "\n",
    "\n",
    "CnnDatasetClass = MiniMNISTDataset\n",
    "cnn_nas_params = NasParams(\n",
    "    epochs=3,\n",
    "    patience=5,\n",
    "    amount_of_evaluations=1,\n",
    "    population_size=20,\n",
    "    population_offspring_count=8,\n",
    "    algorithm_generations=1,\n",
    "    population_store_file=CnnDatasetClass.__name__ + \"_population.csv\",\n",
    ")\n",
    "cnn_problem = CnnNasProblem(cnn_nas_params, CnnDatasetClass)\n",
    "\n",
    "cnn_problem.get_min_complexity(), cnn_problem.get_max_complexity()"
   ]
  },
  {
   "cell_type": "code",
   "execution_count": 14,
   "id": "08ef137a",
   "metadata": {},
   "outputs": [
    {
     "name": "stdout",
     "output_type": "stream",
     "text": [
      "CNNChromosome(in_bitwidth=1,\n",
      "              conv_layers=3,\n",
      "              conv_channels1=32,\n",
      "              conv_stride1=2,\n",
      "              conv_pooling_size1=2,\n",
      "              conv_channels2=24,\n",
      "              conv_stride2=1,\n",
      "              conv_pooling_size2=1,\n",
      "              conv_channels3=32,\n",
      "              conv_stride3=1,\n",
      "              conv_pooling_size3=1,\n",
      "              fc_layers=3,\n",
      "              fc_height1=64,\n",
      "              fc_bitwidth1=3,\n",
      "              fc_height2=64,\n",
      "              fc_bitwidth2=4,\n",
      "              fc_height3=32,\n",
      "              fc_bitwidth3=8,\n",
      "              dropout=0.0,\n",
      "              activation=<ActivationModule.RELU: 'relu'>,\n",
      "              reste_o=1.5,\n",
      "              reste_threshold=1.5,\n",
      "              quatization_mode=<QMode.DET: 'det'>,\n",
      "              binarization_mode=<QMode.DET: 'det'>,\n",
      "              learning_rate=0.005,\n",
      "              weight_decay=0.001)\n"
     ]
    }
   ],
   "source": [
    "from src.models.cnn import CNN, CNNEvaluator\n",
    "\n",
    "x = [0, 2, 2, 1, 1, 1, 0, 0, 2, 0, 0, 2, 2, 2, 2, 3, 1, 7, 0, 0, 0, 0, 0, 0, 5, 3]\n",
    "cnn_ch = RawCNNChromosome(x).parse()\n",
    "pprint(cnn_ch)"
   ]
  },
  {
   "cell_type": "code",
   "execution_count": 15,
   "id": "5d4ed92b",
   "metadata": {},
   "outputs": [
    {
     "data": {
      "text/plain": [
       "CNN(\n",
       "  (in_quantize_layer): Module_Quantize()\n",
       "  (conv_layers): ModuleList(\n",
       "    (0): Sequential(\n",
       "      (0): Conv2dWrapper(1, 32, kernel_size=(3, 3), stride=(2, 2))\n",
       "      (1): BatchNorm2d(32, eps=1e-05, momentum=0.1, affine=True, track_running_stats=True)\n",
       "      (2): ReLU()\n",
       "      (3): MaxPool2d(kernel_size=2, stride=2, padding=0, dilation=1, ceil_mode=False)\n",
       "    )\n",
       "    (1): Sequential(\n",
       "      (0): Conv2dWrapper(32, 24, kernel_size=(3, 3), stride=(1, 1))\n",
       "      (1): BatchNorm2d(24, eps=1e-05, momentum=0.1, affine=True, track_running_stats=True)\n",
       "      (2): ReLU()\n",
       "    )\n",
       "    (2): Sequential(\n",
       "      (0): Conv2dWrapper(24, 32, kernel_size=(3, 3), stride=(1, 1))\n",
       "      (1): BatchNorm2d(32, eps=1e-05, momentum=0.1, affine=True, track_running_stats=True)\n",
       "      (2): ReLU()\n",
       "    )\n",
       "  )\n",
       "  (fc_layers): Sequential(\n",
       "    (0): QuantizedWeightLinear(in_features=128, out_features=64, bias=True)\n",
       "    (1): BatchNorm1d(64, eps=1e-05, momentum=0.1, affine=True, track_running_stats=True)\n",
       "    (2): ReLU()\n",
       "    (3): QuantizedWeightLinear(in_features=64, out_features=64, bias=True)\n",
       "    (4): BatchNorm1d(64, eps=1e-05, momentum=0.1, affine=True, track_running_stats=True)\n",
       "    (5): ReLU()\n",
       "    (6): QuantizedWeightLinear(in_features=64, out_features=32, bias=True)\n",
       "    (7): BatchNorm1d(32, eps=1e-05, momentum=0.1, affine=True, track_running_stats=True)\n",
       "    (8): ReLU()\n",
       "    (9): Linear(in_features=32, out_features=10, bias=True)\n",
       "  )\n",
       ")"
      ]
     },
     "execution_count": 15,
     "metadata": {},
     "output_type": "execute_result"
    }
   ],
   "source": [
    "cnn_params = cnn_problem.get_nn_params(cnn_ch)\n",
    "CNN(cnn_params)"
   ]
  },
  {
   "cell_type": "code",
   "execution_count": 16,
   "id": "68ebd847",
   "metadata": {},
   "outputs": [
    {
     "data": {
      "text/plain": [
       "(torch.Size([60000, 28, 28]), torch.Size([10000, 28, 28]))"
      ]
     },
     "execution_count": 16,
     "metadata": {},
     "output_type": "execute_result"
    }
   ],
   "source": [
    "from src.datasets.mnist_dataset import fetch_mnist_dataset\n",
    "\n",
    "\n",
    "train_dataset, test_dataset = fetch_mnist_dataset()\n",
    "train_dataset.data.shape, test_dataset.data.shape"
   ]
  },
  {
   "cell_type": "code",
   "execution_count": 8,
   "id": "7edc29dd",
   "metadata": {},
   "outputs": [
    {
     "data": {
      "text/plain": [
       "(tensor(4), tensor([5, 0, 4,  ..., 3, 9, 6], dtype=torch.int32))"
      ]
     },
     "execution_count": 8,
     "metadata": {},
     "output_type": "execute_result"
    }
   ],
   "source": [
    "import numpy as np\n",
    "\n",
    "\n",
    "X, y = MiniMNISTDataset.get_xy()\n",
    "y_1d = np.argmax(y)\n",
    "y_1d, y"
   ]
  },
  {
   "cell_type": "code",
   "execution_count": 19,
   "id": "c34ca23e",
   "metadata": {},
   "outputs": [
    {
     "name": "stderr",
     "output_type": "stream",
     "text": [
      "/home/nur/Projects/vut-ip1-nn-quantization/src/datasets/dataset.py:20: UserWarning: To copy construct from a tensor, it is recommended to use sourceTensor.detach().clone() or sourceTensor.detach().clone().requires_grad_(True), rather than torch.tensor(sourceTensor).\n",
      "  self.X = torch.tensor(X, dtype=torch.float32)\n",
      "/home/nur/Projects/vut-ip1-nn-quantization/src/datasets/dataset.py:21: UserWarning: To copy construct from a tensor, it is recommended to use sourceTensor.detach().clone() or sourceTensor.detach().clone().requires_grad_(True), rather than torch.tensor(sourceTensor).\n",
      "  self.y = torch.tensor(y, dtype=torch.int64)\n",
      "DEBUG: Train Epoch:  1 [ 128/3200] Loss: 2.3783\n",
      "DEBUG: Train Epoch:  1 [ 768/3200] Loss: 1.8347\n",
      "DEBUG: Train Epoch:  1 [1408/3200] Loss: 1.5424\n",
      "DEBUG: Train Epoch:  1 [2048/3200] Loss: 1.3588\n",
      "DEBUG: Train Epoch:  1 [2688/3200] Loss: 1.1780\n",
      "DEBUG: Test set: Average loss: 1.3726, Accuracy: 635/800 (79.38%)\n",
      "DEBUG: Train Epoch:  2 [ 128/3200] Loss: 0.9088\n",
      "DEBUG: Train Epoch:  2 [ 768/3200] Loss: 0.8058\n",
      "DEBUG: Train Epoch:  2 [1408/3200] Loss: 0.6608\n",
      "DEBUG: Train Epoch:  2 [2048/3200] Loss: 0.5253\n",
      "DEBUG: Train Epoch:  2 [2688/3200] Loss: 0.4075\n",
      "DEBUG: Test set: Average loss: 0.4309, Accuracy: 723/800 (90.38%)\n",
      "DEBUG: Train Epoch:  3 [ 128/3200] Loss: 0.3492\n",
      "DEBUG: Train Epoch:  3 [ 768/3200] Loss: 0.2993\n",
      "DEBUG: Train Epoch:  3 [1408/3200] Loss: 0.2172\n",
      "DEBUG: Train Epoch:  3 [2048/3200] Loss: 0.2880\n",
      "DEBUG: Train Epoch:  3 [2688/3200] Loss: 0.2676\n",
      "DEBUG: Test set: Average loss: 0.2853, Accuracy: 746/800 (93.25%)\n",
      "DEBUG: Train Epoch:  4 [ 128/3200] Loss: 0.1584\n",
      "DEBUG: Train Epoch:  4 [ 768/3200] Loss: 0.1336\n",
      "DEBUG: Train Epoch:  4 [1408/3200] Loss: 0.1521\n",
      "DEBUG: Train Epoch:  4 [2048/3200] Loss: 0.1772\n",
      "DEBUG: Train Epoch:  4 [2688/3200] Loss: 0.1113\n",
      "DEBUG: Test set: Average loss: 0.2081, Accuracy: 754/800 (94.25%)\n",
      "DEBUG: Test set: Average loss: 0.2081, Accuracy: 754/800 (94.25%)\n",
      "DEBUG: Train Epoch:  1 [ 128/3200] Loss: 2.3452\n",
      "DEBUG: Train Epoch:  1 [ 768/3200] Loss: 1.8628\n",
      "DEBUG: Train Epoch:  1 [1408/3200] Loss: 1.6278\n",
      "DEBUG: Train Epoch:  1 [2048/3200] Loss: 1.3720\n",
      "DEBUG: Train Epoch:  1 [2688/3200] Loss: 1.1690\n",
      "DEBUG: Test set: Average loss: 1.4153, Accuracy: 574/800 (71.75%)\n",
      "DEBUG: Train Epoch:  2 [ 128/3200] Loss: 0.9606\n",
      "DEBUG: Train Epoch:  2 [ 768/3200] Loss: 0.8382\n",
      "DEBUG: Train Epoch:  2 [1408/3200] Loss: 0.6084\n",
      "DEBUG: Train Epoch:  2 [2048/3200] Loss: 0.5884\n",
      "DEBUG: Train Epoch:  2 [2688/3200] Loss: 0.5684\n",
      "DEBUG: Test set: Average loss: 0.5023, Accuracy: 709/800 (88.62%)\n",
      "DEBUG: Train Epoch:  3 [ 128/3200] Loss: 0.3641\n",
      "DEBUG: Train Epoch:  3 [ 768/3200] Loss: 0.3263\n",
      "DEBUG: Train Epoch:  3 [1408/3200] Loss: 0.2610\n",
      "DEBUG: Train Epoch:  3 [2048/3200] Loss: 0.1506\n",
      "DEBUG: Train Epoch:  3 [2688/3200] Loss: 0.2628\n",
      "DEBUG: Test set: Average loss: 0.3373, Accuracy: 738/800 (92.25%)\n",
      "DEBUG: Train Epoch:  4 [ 128/3200] Loss: 0.1395\n",
      "DEBUG: Train Epoch:  4 [ 768/3200] Loss: 0.1794\n",
      "DEBUG: Train Epoch:  4 [1408/3200] Loss: 0.1393\n",
      "DEBUG: Train Epoch:  4 [2048/3200] Loss: 0.1208\n",
      "DEBUG: Train Epoch:  4 [2688/3200] Loss: 0.1693\n",
      "DEBUG: Test set: Average loss: 0.2075, Accuracy: 757/800 (94.62%)\n",
      "DEBUG: Test set: Average loss: 0.2075, Accuracy: 757/800 (94.62%)\n",
      "DEBUG: Train Epoch:  1 [ 128/3200] Loss: 2.3834\n",
      "DEBUG: Train Epoch:  1 [ 768/3200] Loss: 1.8935\n",
      "DEBUG: Train Epoch:  1 [1408/3200] Loss: 1.7023\n",
      "DEBUG: Train Epoch:  1 [2048/3200] Loss: 1.4549\n",
      "DEBUG: Train Epoch:  1 [2688/3200] Loss: 1.2229\n",
      "DEBUG: Test set: Average loss: 1.4005, Accuracy: 613/800 (76.62%)\n",
      "DEBUG: Train Epoch:  2 [ 128/3200] Loss: 1.0244\n",
      "DEBUG: Train Epoch:  2 [ 768/3200] Loss: 0.9018\n",
      "DEBUG: Train Epoch:  2 [1408/3200] Loss: 0.7516\n",
      "DEBUG: Train Epoch:  2 [2048/3200] Loss: 0.6309\n",
      "DEBUG: Train Epoch:  2 [2688/3200] Loss: 0.5387\n",
      "DEBUG: Test set: Average loss: 0.5329, Accuracy: 722/800 (90.25%)\n",
      "DEBUG: Train Epoch:  3 [ 128/3200] Loss: 0.3537\n",
      "DEBUG: Train Epoch:  3 [ 768/3200] Loss: 0.4371\n",
      "DEBUG: Train Epoch:  3 [1408/3200] Loss: 0.3153\n",
      "DEBUG: Train Epoch:  3 [2048/3200] Loss: 0.2892\n",
      "DEBUG: Train Epoch:  3 [2688/3200] Loss: 0.3076\n",
      "DEBUG: Test set: Average loss: 0.2807, Accuracy: 742/800 (92.75%)\n",
      "DEBUG: Train Epoch:  4 [ 128/3200] Loss: 0.1803\n",
      "DEBUG: Train Epoch:  4 [ 768/3200] Loss: 0.1898\n",
      "DEBUG: Train Epoch:  4 [1408/3200] Loss: 0.1608\n",
      "DEBUG: Train Epoch:  4 [2048/3200] Loss: 0.1590\n",
      "DEBUG: Train Epoch:  4 [2688/3200] Loss: 0.1523\n",
      "DEBUG: Test set: Average loss: 0.2051, Accuracy: 753/800 (94.12%)\n",
      "DEBUG: Test set: Average loss: 0.2051, Accuracy: 753/800 (94.12%)\n",
      "DEBUG: Train Epoch:  1 [ 128/3200] Loss: 2.4898\n",
      "DEBUG: Train Epoch:  1 [ 768/3200] Loss: 1.8953\n",
      "DEBUG: Train Epoch:  1 [1408/3200] Loss: 1.5938\n",
      "DEBUG: Train Epoch:  1 [2048/3200] Loss: 1.4116\n",
      "DEBUG: Train Epoch:  1 [2688/3200] Loss: 1.1089\n",
      "DEBUG: Test set: Average loss: 1.4362, Accuracy: 574/800 (71.75%)\n",
      "DEBUG: Train Epoch:  2 [ 128/3200] Loss: 0.9532\n",
      "DEBUG: Train Epoch:  2 [ 768/3200] Loss: 0.7835\n",
      "DEBUG: Train Epoch:  2 [1408/3200] Loss: 0.6895\n",
      "DEBUG: Train Epoch:  2 [2048/3200] Loss: 0.6483\n",
      "DEBUG: Train Epoch:  2 [2688/3200] Loss: 0.4768\n",
      "DEBUG: Test set: Average loss: 0.6514, Accuracy: 682/800 (85.25%)\n",
      "DEBUG: Train Epoch:  3 [ 128/3200] Loss: 0.3487\n",
      "DEBUG: Train Epoch:  3 [ 768/3200] Loss: 0.3733\n",
      "DEBUG: Train Epoch:  3 [1408/3200] Loss: 0.3566\n",
      "DEBUG: Train Epoch:  3 [2048/3200] Loss: 0.2034\n",
      "DEBUG: Train Epoch:  3 [2688/3200] Loss: 0.2927\n",
      "DEBUG: Test set: Average loss: 0.3262, Accuracy: 725/800 (90.62%)\n",
      "DEBUG: Train Epoch:  4 [ 128/3200] Loss: 0.2170\n",
      "DEBUG: Train Epoch:  4 [ 768/3200] Loss: 0.1129\n",
      "DEBUG: Train Epoch:  4 [1408/3200] Loss: 0.1600\n",
      "DEBUG: Train Epoch:  4 [2048/3200] Loss: 0.2534\n",
      "DEBUG: Train Epoch:  4 [2688/3200] Loss: 0.1971\n",
      "DEBUG: Test set: Average loss: 0.2672, Accuracy: 735/800 (91.88%)\n",
      "DEBUG: Test set: Average loss: 0.2672, Accuracy: 735/800 (91.88%)\n",
      "DEBUG: Train Epoch:  1 [ 128/3200] Loss: 2.4085\n",
      "DEBUG: Train Epoch:  1 [ 768/3200] Loss: 1.8624\n",
      "DEBUG: Train Epoch:  1 [1408/3200] Loss: 1.6138\n",
      "DEBUG: Train Epoch:  1 [2048/3200] Loss: 1.4973\n",
      "DEBUG: Train Epoch:  1 [2688/3200] Loss: 1.2526\n",
      "DEBUG: Test set: Average loss: 1.3531, Accuracy: 596/800 (74.50%)\n",
      "DEBUG: Train Epoch:  2 [ 128/3200] Loss: 1.0755\n",
      "DEBUG: Train Epoch:  2 [ 768/3200] Loss: 0.8246\n",
      "DEBUG: Train Epoch:  2 [1408/3200] Loss: 0.7024\n",
      "DEBUG: Train Epoch:  2 [2048/3200] Loss: 0.6350\n",
      "DEBUG: Train Epoch:  2 [2688/3200] Loss: 0.5156\n",
      "DEBUG: Test set: Average loss: 0.5386, Accuracy: 710/800 (88.75%)\n",
      "DEBUG: Train Epoch:  3 [ 128/3200] Loss: 0.4102\n",
      "DEBUG: Train Epoch:  3 [ 768/3200] Loss: 0.2669\n",
      "DEBUG: Train Epoch:  3 [1408/3200] Loss: 0.3233\n",
      "DEBUG: Train Epoch:  3 [2048/3200] Loss: 0.2622\n",
      "DEBUG: Train Epoch:  3 [2688/3200] Loss: 0.2538\n",
      "DEBUG: Test set: Average loss: 0.3444, Accuracy: 730/800 (91.25%)\n",
      "DEBUG: Train Epoch:  4 [ 128/3200] Loss: 0.1805\n",
      "DEBUG: Train Epoch:  4 [ 768/3200] Loss: 0.1889\n",
      "DEBUG: Train Epoch:  4 [1408/3200] Loss: 0.3031\n",
      "DEBUG: Train Epoch:  4 [2048/3200] Loss: 0.2585\n",
      "DEBUG: Train Epoch:  4 [2688/3200] Loss: 0.2086\n",
      "DEBUG: Test set: Average loss: 0.2576, Accuracy: 746/800 (93.25%)\n",
      "DEBUG: Test set: Average loss: 0.2576, Accuracy: 746/800 (93.25%)\n"
     ]
    },
    {
     "data": {
      "text/plain": [
       "{'max': 94.625,\n",
       " 'mean': np.float64(93.625),\n",
       " 'std': np.float64(0.9842509842514764),\n",
       " 'accuracies': [94.25, 94.625, 94.125, 91.875, 93.25]}"
      ]
     },
     "execution_count": 19,
     "metadata": {},
     "output_type": "execute_result"
    }
   ],
   "source": [
    "from src.models.cnn import KFoldCNNEvaluator\n",
    "\n",
    "\n",
    "KFoldCNNEvaluator(cnn_params).evaluate_model()"
   ]
  },
  {
   "cell_type": "code",
   "execution_count": 17,
   "id": "d79a0e92",
   "metadata": {},
   "outputs": [
    {
     "name": "stderr",
     "output_type": "stream",
     "text": [
      "INFO: Population file loaded successfully\n",
      "DEBUG: Evaluating CNNParams(conv=ConvParams(in_channels=1, in_dimensions=28, in_bitwidth=1, out_height=10, layers=[ConvLayerParams(channels=32, kernel_size=3, stride=2, padding=0, dilation=1, groups=1, bias=True, pooling_kernel_size=2), ConvLayerParams(channels=24, kernel_size=3, stride=1, padding=0, dilation=1, groups=1, bias=True, pooling_kernel_size=1), ConvLayerParams(channels=32, kernel_size=3, stride=1, padding=0, dilation=1, groups=1, bias=True, pooling_kernel_size=1)], activation=<ActivationModule.RELU: 'relu'>, reste_threshold=1.5, reste_o=1.5, qmode=<QMode.DET: 'det'>, dropout_rate=0.0), fc=FCParams(layers=[FCLayerParams(height=784, weight_qmode=<WeightQuantMode.NBITS: 'nbits'>, weight_bitwidth=1), FCLayerParams(height=64, weight_qmode=<WeightQuantMode.NBITS: 'nbits'>, weight_bitwidth=3), FCLayerParams(height=64, weight_qmode=<WeightQuantMode.NBITS: 'nbits'>, weight_bitwidth=4), FCLayerParams(height=32, weight_qmode=<WeightQuantMode.NBITS: 'nbits'>, weight_bitwidth=8), FCLayerParams(height=10, weight_qmode=<WeightQuantMode.NONE: 'none'>, weight_bitwidth=32)], activation=ActivationParams(activation=<ActivationModule.RELU: 'relu'>, binary_qmode=<QMode.DET: 'det'>, reste_o=1.5, reste_threshold=1.5), qmode=<QMode.DET: 'det'>, dropout_rate=0.0), train=NNTrainParams(DatasetCls=<class 'src.datasets.mnist_dataset.MiniMNISTDataset'>, train_loader=<torch.utils.data.dataloader.DataLoader object at 0x73dfb2554550>, test_loader=<torch.utils.data.dataloader.DataLoader object at 0x73dfb2554850>, epochs=4, learning_rate=0.005, weight_decay=0.001, early_stop_patience=5), in_bitwidth=1)\n",
      "/home/nur/Projects/vut-ip1-nn-quantization/src/datasets/dataset.py:20: UserWarning: To copy construct from a tensor, it is recommended to use sourceTensor.detach().clone() or sourceTensor.detach().clone().requires_grad_(True), rather than torch.tensor(sourceTensor).\n",
      "  self.X = torch.tensor(X, dtype=torch.float32)\n",
      "/home/nur/Projects/vut-ip1-nn-quantization/src/datasets/dataset.py:21: UserWarning: To copy construct from a tensor, it is recommended to use sourceTensor.detach().clone() or sourceTensor.detach().clone().requires_grad_(True), rather than torch.tensor(sourceTensor).\n",
      "  self.y = torch.tensor(y, dtype=torch.int64)\n",
      "DEBUG: Train Epoch:  1 [ 128/3200] Loss: 2.3458\n",
      "DEBUG: Train Epoch:  1 [ 768/3200] Loss: 2.0048\n",
      "DEBUG: Train Epoch:  1 [1408/3200] Loss: 1.7316\n",
      "DEBUG: Train Epoch:  1 [2048/3200] Loss: 1.5057\n",
      "DEBUG: Train Epoch:  1 [2688/3200] Loss: 1.3405\n",
      "DEBUG: Test set: Average loss: 1.4204, Accuracy: 532/800 (66.50%)\n",
      "DEBUG: Train Epoch:  2 [ 128/3200] Loss: 1.0286\n",
      "DEBUG: Train Epoch:  2 [ 768/3200] Loss: 0.8534\n",
      "DEBUG: Train Epoch:  2 [1408/3200] Loss: 0.7315\n",
      "DEBUG: Train Epoch:  2 [2048/3200] Loss: 0.6478\n",
      "DEBUG: Train Epoch:  2 [2688/3200] Loss: 0.5562\n",
      "DEBUG: Test set: Average loss: 0.4822, Accuracy: 720/800 (90.00%)\n",
      "DEBUG: Train Epoch:  3 [ 128/3200] Loss: 0.3656\n",
      "DEBUG: Train Epoch:  3 [ 768/3200] Loss: 0.2815\n",
      "DEBUG: Train Epoch:  3 [1408/3200] Loss: 0.2804\n",
      "DEBUG: Train Epoch:  3 [2048/3200] Loss: 0.3007\n",
      "DEBUG: Train Epoch:  3 [2688/3200] Loss: 0.4140\n",
      "DEBUG: Test set: Average loss: 0.2969, Accuracy: 734/800 (91.75%)\n",
      "DEBUG: Train Epoch:  4 [ 128/3200] Loss: 0.1914\n",
      "DEBUG: Train Epoch:  4 [ 768/3200] Loss: 0.1244\n",
      "DEBUG: Train Epoch:  4 [1408/3200] Loss: 0.1623\n",
      "DEBUG: Train Epoch:  4 [2048/3200] Loss: 0.1532\n",
      "DEBUG: Train Epoch:  4 [2688/3200] Loss: 0.0986\n",
      "DEBUG: Test set: Average loss: 0.2319, Accuracy: 746/800 (93.25%)\n",
      "DEBUG: Test set: Average loss: 0.2319, Accuracy: 746/800 (93.25%)\n",
      "DEBUG: Train Epoch:  1 [ 128/3200] Loss: 2.3558\n",
      "DEBUG: Train Epoch:  1 [ 768/3200] Loss: 1.9553\n",
      "DEBUG: Train Epoch:  1 [1408/3200] Loss: 1.7231\n",
      "DEBUG: Train Epoch:  1 [2048/3200] Loss: 1.3870\n",
      "DEBUG: Train Epoch:  1 [2688/3200] Loss: 1.1865\n",
      "DEBUG: Test set: Average loss: 1.3212, Accuracy: 559/800 (69.88%)\n",
      "DEBUG: Train Epoch:  2 [ 128/3200] Loss: 0.9662\n",
      "DEBUG: Train Epoch:  2 [ 768/3200] Loss: 0.8041\n",
      "DEBUG: Train Epoch:  2 [1408/3200] Loss: 0.6691\n",
      "DEBUG: Train Epoch:  2 [2048/3200] Loss: 0.5674\n",
      "DEBUG: Train Epoch:  2 [2688/3200] Loss: 0.4496\n",
      "DEBUG: Test set: Average loss: 0.4881, Accuracy: 713/800 (89.12%)\n",
      "DEBUG: Train Epoch:  3 [ 128/3200] Loss: 0.3415\n",
      "DEBUG: Train Epoch:  3 [ 768/3200] Loss: 0.2787\n",
      "DEBUG: Train Epoch:  3 [1408/3200] Loss: 0.2967\n",
      "DEBUG: Train Epoch:  3 [2048/3200] Loss: 0.3087\n",
      "DEBUG: Train Epoch:  3 [2688/3200] Loss: 0.2932\n",
      "DEBUG: Test set: Average loss: 0.3434, Accuracy: 724/800 (90.50%)\n",
      "DEBUG: Train Epoch:  4 [ 128/3200] Loss: 0.2465\n",
      "DEBUG: Train Epoch:  4 [ 768/3200] Loss: 0.1324\n",
      "DEBUG: Train Epoch:  4 [1408/3200] Loss: 0.1500\n",
      "DEBUG: Train Epoch:  4 [2048/3200] Loss: 0.1369\n",
      "DEBUG: Train Epoch:  4 [2688/3200] Loss: 0.1221\n",
      "DEBUG: Test set: Average loss: 0.2476, Accuracy: 752/800 (94.00%)\n",
      "DEBUG: Test set: Average loss: 0.2476, Accuracy: 752/800 (94.00%)\n",
      "DEBUG: Train Epoch:  1 [ 128/3200] Loss: 2.4476\n",
      "DEBUG: Train Epoch:  1 [ 768/3200] Loss: 1.8538\n",
      "DEBUG: Train Epoch:  1 [1408/3200] Loss: 1.5438\n",
      "DEBUG: Train Epoch:  1 [2048/3200] Loss: 1.4107\n",
      "DEBUG: Train Epoch:  1 [2688/3200] Loss: 1.1875\n",
      "DEBUG: Test set: Average loss: 1.2392, Accuracy: 632/800 (79.00%)\n",
      "DEBUG: Train Epoch:  2 [ 128/3200] Loss: 1.0014\n",
      "DEBUG: Train Epoch:  2 [ 768/3200] Loss: 0.8317\n",
      "DEBUG: Train Epoch:  2 [1408/3200] Loss: 0.6649\n",
      "DEBUG: Train Epoch:  2 [2048/3200] Loss: 0.6384\n",
      "DEBUG: Train Epoch:  2 [2688/3200] Loss: 0.5211\n",
      "DEBUG: Test set: Average loss: 0.4743, Accuracy: 719/800 (89.88%)\n",
      "DEBUG: Train Epoch:  3 [ 128/3200] Loss: 0.3109\n",
      "DEBUG: Train Epoch:  3 [ 768/3200] Loss: 0.3794\n",
      "DEBUG: Train Epoch:  3 [1408/3200] Loss: 0.2218\n",
      "DEBUG: Train Epoch:  3 [2048/3200] Loss: 0.3378\n",
      "DEBUG: Train Epoch:  3 [2688/3200] Loss: 0.1697\n",
      "DEBUG: Test set: Average loss: 0.2758, Accuracy: 743/800 (92.88%)\n",
      "DEBUG: Train Epoch:  4 [ 128/3200] Loss: 0.1141\n",
      "DEBUG: Train Epoch:  4 [ 768/3200] Loss: 0.1420\n",
      "DEBUG: Train Epoch:  4 [1408/3200] Loss: 0.1578\n",
      "DEBUG: Train Epoch:  4 [2048/3200] Loss: 0.1284\n",
      "DEBUG: Train Epoch:  4 [2688/3200] Loss: 0.1684\n",
      "DEBUG: Test set: Average loss: 0.2113, Accuracy: 757/800 (94.62%)\n",
      "DEBUG: Test set: Average loss: 0.2113, Accuracy: 757/800 (94.62%)\n",
      "DEBUG: Train Epoch:  1 [ 128/3200] Loss: 2.3974\n",
      "DEBUG: Train Epoch:  1 [ 768/3200] Loss: 1.9388\n",
      "DEBUG: Train Epoch:  1 [1408/3200] Loss: 1.6326\n",
      "DEBUG: Train Epoch:  1 [2048/3200] Loss: 1.4474\n",
      "DEBUG: Train Epoch:  1 [2688/3200] Loss: 1.2205\n",
      "DEBUG: Test set: Average loss: 1.4072, Accuracy: 552/800 (69.00%)\n",
      "DEBUG: Train Epoch:  2 [ 128/3200] Loss: 1.0802\n",
      "DEBUG: Train Epoch:  2 [ 768/3200] Loss: 0.8542\n",
      "DEBUG: Train Epoch:  2 [1408/3200] Loss: 0.7353\n",
      "DEBUG: Train Epoch:  2 [2048/3200] Loss: 0.5749\n",
      "DEBUG: Train Epoch:  2 [2688/3200] Loss: 0.6303\n",
      "DEBUG: Test set: Average loss: 0.4912, Accuracy: 714/800 (89.25%)\n",
      "DEBUG: Train Epoch:  3 [ 128/3200] Loss: 0.3586\n",
      "DEBUG: Train Epoch:  3 [ 768/3200] Loss: 0.3063\n",
      "DEBUG: Train Epoch:  3 [1408/3200] Loss: 0.2695\n",
      "DEBUG: Train Epoch:  3 [2048/3200] Loss: 0.2591\n",
      "DEBUG: Train Epoch:  3 [2688/3200] Loss: 0.2618\n",
      "DEBUG: Test set: Average loss: 0.2923, Accuracy: 742/800 (92.75%)\n",
      "DEBUG: Train Epoch:  4 [ 128/3200] Loss: 0.1848\n",
      "DEBUG: Train Epoch:  4 [ 768/3200] Loss: 0.1546\n",
      "DEBUG: Train Epoch:  4 [1408/3200] Loss: 0.1636\n",
      "DEBUG: Train Epoch:  4 [2048/3200] Loss: 0.2597\n",
      "DEBUG: Train Epoch:  4 [2688/3200] Loss: 0.1143\n",
      "DEBUG: Test set: Average loss: 0.2705, Accuracy: 738/800 (92.25%)\n",
      "DEBUG: Test set: Average loss: 0.2705, Accuracy: 738/800 (92.25%)\n",
      "DEBUG: Train Epoch:  1 [ 128/3200] Loss: 2.3097\n",
      "DEBUG: Train Epoch:  1 [ 768/3200] Loss: 1.9156\n",
      "DEBUG: Train Epoch:  1 [1408/3200] Loss: 1.6970\n",
      "DEBUG: Train Epoch:  1 [2048/3200] Loss: 1.4768\n",
      "DEBUG: Train Epoch:  1 [2688/3200] Loss: 1.2328\n",
      "DEBUG: Test set: Average loss: 1.4717, Accuracy: 587/800 (73.38%)\n",
      "DEBUG: Train Epoch:  2 [ 128/3200] Loss: 0.9645\n",
      "DEBUG: Train Epoch:  2 [ 768/3200] Loss: 0.8835\n",
      "DEBUG: Train Epoch:  2 [1408/3200] Loss: 0.7328\n",
      "DEBUG: Train Epoch:  2 [2048/3200] Loss: 0.5203\n",
      "DEBUG: Train Epoch:  2 [2688/3200] Loss: 0.5069\n",
      "DEBUG: Test set: Average loss: 0.5089, Accuracy: 707/800 (88.38%)\n",
      "DEBUG: Train Epoch:  3 [ 128/3200] Loss: 0.4001\n",
      "DEBUG: Train Epoch:  3 [ 768/3200] Loss: 0.4283\n",
      "DEBUG: Train Epoch:  3 [1408/3200] Loss: 0.2453\n",
      "DEBUG: Train Epoch:  3 [2048/3200] Loss: 0.2816\n",
      "DEBUG: Train Epoch:  3 [2688/3200] Loss: 0.3313\n",
      "DEBUG: Test set: Average loss: 0.3298, Accuracy: 730/800 (91.25%)\n",
      "DEBUG: Train Epoch:  4 [ 128/3200] Loss: 0.1688\n",
      "DEBUG: Train Epoch:  4 [ 768/3200] Loss: 0.1869\n",
      "DEBUG: Train Epoch:  4 [1408/3200] Loss: 0.1942\n",
      "DEBUG: Train Epoch:  4 [2048/3200] Loss: 0.2315\n",
      "DEBUG: Train Epoch:  4 [2688/3200] Loss: 0.1672\n",
      "DEBUG: Test set: Average loss: 0.3403, Accuracy: 725/800 (90.62%)\n",
      "DEBUG: Test set: Average loss: 0.3403, Accuracy: 725/800 (90.62%)\n"
     ]
    },
    {
     "name": "stdout",
     "output_type": "stream",
     "text": [
      "==========================================================\n",
      "n_gen  |  n_eval  | n_nds  |      eps      |   indicator  \n",
      "==========================================================\n",
      "     1 |        1 |      1 |             - |             -\n",
      "Solutions: [[0 2 2 1 1 1 0 0 2 0 0 2 2 2 2 3 1 7 0 0 0 0 0 0 5 3]]\n",
      "Objectives: [[-0.94625  0.     ]]\n"
     ]
    }
   ],
   "source": [
    "algorithm = cnn_nas_params.get_algorithm()\n",
    "termination = cnn_nas_params.get_termination()\n",
    "\n",
    "res = minimize(cnn_problem, algorithm, verbose=True, seed=SEED, termination=termination)\n",
    "\n",
    "if cnn_nas_params.population_store_file is not None:\n",
    "    cnn_nas_params.store_population(res, cnn_nas_params.population_store_file)\n",
    "\n",
    "print(f\"Solutions: {res.X}\")\n",
    "print(f\"Objectives: {res.F}\")"
   ]
  },
  {
   "cell_type": "code",
   "execution_count": 20,
   "id": "970f88af",
   "metadata": {},
   "outputs": [
    {
     "data": {
      "text/html": [
       "<div>\n",
       "<style scoped>\n",
       "    .dataframe tbody tr th:only-of-type {\n",
       "        vertical-align: middle;\n",
       "    }\n",
       "\n",
       "    .dataframe tbody tr th {\n",
       "        vertical-align: top;\n",
       "    }\n",
       "\n",
       "    .dataframe thead th {\n",
       "        text-align: right;\n",
       "    }\n",
       "</style>\n",
       "<table border=\"1\" class=\"dataframe\">\n",
       "  <thead>\n",
       "    <tr style=\"text-align: right;\">\n",
       "      <th></th>\n",
       "      <th>Accuracy</th>\n",
       "      <th>Complexity</th>\n",
       "      <th>conv_in_channels</th>\n",
       "      <th>conv_in_dimensions</th>\n",
       "      <th>conv_in_bitwidth</th>\n",
       "      <th>conv_out_height</th>\n",
       "      <th>conv_layers</th>\n",
       "      <th>conv_activation</th>\n",
       "      <th>conv_reste_threshold</th>\n",
       "      <th>conv_reste_o</th>\n",
       "      <th>...</th>\n",
       "      <th>fc_layers</th>\n",
       "      <th>fc_activation</th>\n",
       "      <th>fc_qmode</th>\n",
       "      <th>fc_dropout_rate</th>\n",
       "      <th>train_DatasetCls</th>\n",
       "      <th>train_epochs</th>\n",
       "      <th>train_learning_rate</th>\n",
       "      <th>train_weight_decay</th>\n",
       "      <th>train_early_stop_patience</th>\n",
       "      <th>Chromosome</th>\n",
       "    </tr>\n",
       "  </thead>\n",
       "  <tbody>\n",
       "    <tr>\n",
       "      <th>0</th>\n",
       "      <td>94.625</td>\n",
       "      <td>229672.0</td>\n",
       "      <td>1</td>\n",
       "      <td>28</td>\n",
       "      <td>1</td>\n",
       "      <td>10</td>\n",
       "      <td>[{'channels': 32, 'kernel_size': 3, 'stride': ...</td>\n",
       "      <td>ActivationModule.RELU</td>\n",
       "      <td>1.5</td>\n",
       "      <td>1.5</td>\n",
       "      <td>...</td>\n",
       "      <td>[{'height': 784, 'weight_qmode': WeightQuantMo...</td>\n",
       "      <td>{'activation': ActivationModule.RELU, 'binary_...</td>\n",
       "      <td>QMode.DET</td>\n",
       "      <td>0.0</td>\n",
       "      <td>&lt;class 'src.datasets.mnist_dataset.MiniMNISTDa...</td>\n",
       "      <td>3</td>\n",
       "      <td>0.005</td>\n",
       "      <td>0.001</td>\n",
       "      <td>5</td>\n",
       "      <td>[0, 2, 2, 1, 1, 1, 0, 0, 2, 0, 0, 2, 2, 2, 2, ...</td>\n",
       "    </tr>\n",
       "  </tbody>\n",
       "</table>\n",
       "<p>1 rows × 22 columns</p>\n",
       "</div>"
      ],
      "text/plain": [
       "   Accuracy  Complexity  conv_in_channels  conv_in_dimensions  \\\n",
       "0    94.625    229672.0                 1                  28   \n",
       "\n",
       "   conv_in_bitwidth  conv_out_height  \\\n",
       "0                 1               10   \n",
       "\n",
       "                                         conv_layers        conv_activation  \\\n",
       "0  [{'channels': 32, 'kernel_size': 3, 'stride': ...  ActivationModule.RELU   \n",
       "\n",
       "   conv_reste_threshold  conv_reste_o  ...  \\\n",
       "0                   1.5           1.5  ...   \n",
       "\n",
       "                                           fc_layers  \\\n",
       "0  [{'height': 784, 'weight_qmode': WeightQuantMo...   \n",
       "\n",
       "                                       fc_activation   fc_qmode  \\\n",
       "0  {'activation': ActivationModule.RELU, 'binary_...  QMode.DET   \n",
       "\n",
       "  fc_dropout_rate                                   train_DatasetCls  \\\n",
       "0             0.0  <class 'src.datasets.mnist_dataset.MiniMNISTDa...   \n",
       "\n",
       "   train_epochs train_learning_rate  train_weight_decay  \\\n",
       "0             3               0.005               0.001   \n",
       "\n",
       "   train_early_stop_patience  \\\n",
       "0                          5   \n",
       "\n",
       "                                          Chromosome  \n",
       "0  [0, 2, 2, 1, 1, 1, 0, 0, 2, 0, 0, 2, 2, 2, 2, ...  \n",
       "\n",
       "[1 rows x 22 columns]"
      ]
     },
     "execution_count": 20,
     "metadata": {},
     "output_type": "execute_result"
    }
   ],
   "source": [
    "df = cnn_problem.result_as_df(res)\n",
    "df"
   ]
  },
  {
   "cell_type": "code",
   "execution_count": 21,
   "id": "5f2e8667",
   "metadata": {},
   "outputs": [
    {
     "name": "stdout",
     "output_type": "stream",
     "text": [
      "CNNParams(conv=ConvParams(in_channels=1,\n",
      "                          in_dimensions=28,\n",
      "                          in_bitwidth=1,\n",
      "                          out_height=10,\n",
      "                          layers=[ConvLayerParams(channels=32,\n",
      "                                                  kernel_size=3,\n",
      "                                                  stride=2,\n",
      "                                                  padding=0,\n",
      "                                                  dilation=1,\n",
      "                                                  groups=1,\n",
      "                                                  bias=True,\n",
      "                                                  pooling_kernel_size=2),\n",
      "                                  ConvLayerParams(channels=24,\n",
      "                                                  kernel_size=3,\n",
      "                                                  stride=1,\n",
      "                                                  padding=0,\n",
      "                                                  dilation=1,\n",
      "                                                  groups=1,\n",
      "                                                  bias=True,\n",
      "                                                  pooling_kernel_size=1),\n",
      "                                  ConvLayerParams(channels=32,\n",
      "                                                  kernel_size=3,\n",
      "                                                  stride=1,\n",
      "                                                  padding=0,\n",
      "                                                  dilation=1,\n",
      "                                                  groups=1,\n",
      "                                                  bias=True,\n",
      "                                                  pooling_kernel_size=1)],\n",
      "                          activation=<ActivationModule.RELU: 'relu'>,\n",
      "                          reste_threshold=1.5,\n",
      "                          reste_o=1.5,\n",
      "                          qmode=<QMode.DET: 'det'>,\n",
      "                          dropout_rate=0.0),\n",
      "          fc=FCParams(layers=[FCLayerParams(height=784,\n",
      "                                            weight_qmode=<WeightQuantMode.NBITS: 'nbits'>,\n",
      "                                            weight_bitwidth=1),\n",
      "                              FCLayerParams(height=64,\n",
      "                                            weight_qmode=<WeightQuantMode.NBITS: 'nbits'>,\n",
      "                                            weight_bitwidth=3),\n",
      "                              FCLayerParams(height=64,\n",
      "                                            weight_qmode=<WeightQuantMode.NBITS: 'nbits'>,\n",
      "                                            weight_bitwidth=4),\n",
      "                              FCLayerParams(height=32,\n",
      "                                            weight_qmode=<WeightQuantMode.NBITS: 'nbits'>,\n",
      "                                            weight_bitwidth=8),\n",
      "                              FCLayerParams(height=10,\n",
      "                                            weight_qmode=<WeightQuantMode.NONE: 'none'>,\n",
      "                                            weight_bitwidth=32)],\n",
      "                      activation=ActivationParams(activation=<ActivationModule.RELU: 'relu'>,\n",
      "                                                  binary_qmode=<QMode.DET: 'det'>,\n",
      "                                                  reste_o=1.5,\n",
      "                                                  reste_threshold=1.5),\n",
      "                      qmode=<QMode.DET: 'det'>,\n",
      "                      dropout_rate=0.0),\n",
      "          train=NNTrainParams(DatasetCls=<class 'src.datasets.mnist_dataset.MiniMNISTDataset'>,\n",
      "                              train_loader=<torch.utils.data.dataloader.DataLoader object at 0x73dfb2555c50>,\n",
      "                              test_loader=<torch.utils.data.dataloader.DataLoader object at 0x73dfb2555350>,\n",
      "                              epochs=3,\n",
      "                              learning_rate=0.005,\n",
      "                              weight_decay=0.001,\n",
      "                              early_stop_patience=5),\n",
      "          in_bitwidth=1)\n"
     ]
    }
   ],
   "source": [
    "pprint(cnn_problem.get_nn_params(RawCNNChromosome(res.X[0]).parse()))"
   ]
  },
  {
   "cell_type": "code",
   "execution_count": 12,
   "id": "5b636faa",
   "metadata": {},
   "outputs": [
    {
     "data": {
      "image/png": "[encoded data removed]",
      "text/plain": [
       "<Figure size 640x480 with 1 Axes>"
      ]
     },
     "metadata": {},
     "output_type": "display_data"
    }
   ],
   "source": [
    "fig = hist_accuracies(df[\"Accuracy\"])"
   ]
  },
  {
   "cell_type": "code",
   "execution_count": 13,
   "id": "5d6ab23c",
   "metadata": {},
   "outputs": [
    {
     "data": {
      "image/png": "[encoded data removed]",
      "text/plain": [
       "<Figure size 1000x600 with 1 Axes>"
      ]
     },
     "metadata": {},
     "output_type": "display_data"
    }
   ],
   "source": [
    "from src.nas import plot\n",
    "\n",
    "fig = plot.plot_pareto_front(df[\"Accuracy\"], df[\"Complexity\"])"
   ]
  },
  {
   "cell_type": "code",
   "execution_count": 26,
   "id": "c6fc9100",
   "metadata": {},
   "outputs": [
    {
     "name": "stdout",
     "output_type": "stream",
     "text": [
      "CNNChromosome(in_bitwidth=1,\n",
      "              conv_layers=3,\n",
      "              conv_channels1=32,\n",
      "              conv_stride1=2,\n",
      "              conv_pooling_size1=2,\n",
      "              conv_channels2=24,\n",
      "              conv_stride2=1,\n",
      "              conv_pooling_size2=1,\n",
      "              conv_channels3=32,\n",
      "              conv_stride3=1,\n",
      "              conv_pooling_size3=1,\n",
      "              fc_layers=3,\n",
      "              fc_height1=64,\n",
      "              fc_bitwidth1=3,\n",
      "              fc_height2=64,\n",
      "              fc_bitwidth2=4,\n",
      "              fc_height3=32,\n",
      "              fc_bitwidth3=8,\n",
      "              dropout=0.0,\n",
      "              activation=<ActivationModule.RELU: 'relu'>,\n",
      "              reste_o=1.5,\n",
      "              reste_threshold=1.5,\n",
      "              quatization_mode=<QMode.DET: 'det'>,\n",
      "              binarization_mode=<QMode.DET: 'det'>,\n",
      "              learning_rate=0.005,\n",
      "              weight_decay=0.001)\n"
     ]
    },
    {
     "data": {
      "text/plain": [
       "np.float64(81.375)"
      ]
     },
     "execution_count": 26,
     "metadata": {},
     "output_type": "execute_result"
    }
   ],
   "source": [
    "pprint(RawCNNChromosome(df.iloc[2][\"Chromosome\"]).parse())\n",
    "\n",
    "df.iloc[2][\"Accuracy\"]"
   ]
  },
  {
   "cell_type": "code",
   "execution_count": 27,
   "id": "f0b5f15b",
   "metadata": {},
   "outputs": [
    {
     "name": "stdout",
     "output_type": "stream",
     "text": [
      "CNNChromosome(in_bitwidth=5,\n",
      "              conv_layers=2,\n",
      "              conv_channels1=32,\n",
      "              conv_stride1=2,\n",
      "              conv_pooling_size1=1,\n",
      "              conv_channels2=24,\n",
      "              conv_stride2=2,\n",
      "              conv_pooling_size2=1,\n",
      "              conv_channels3=32,\n",
      "              conv_stride3=2,\n",
      "              conv_pooling_size3=1,\n",
      "              fc_layers=1,\n",
      "              fc_height1=32,\n",
      "              fc_bitwidth1=8,\n",
      "              fc_height2=64,\n",
      "              fc_bitwidth2=7,\n",
      "              fc_height3=32,\n",
      "              fc_bitwidth3=5,\n",
      "              dropout=0.0,\n",
      "              activation=<ActivationModule.BINARIZE_RESTE: 'binary_ReSTE'>,\n",
      "              reste_o=3.0,\n",
      "              reste_threshold=1.5,\n",
      "              quatization_mode=<QMode.DET: 'det'>,\n",
      "              binarization_mode=<QMode.DET: 'det'>,\n",
      "              learning_rate=0.002,\n",
      "              weight_decay=0.01)\n"
     ]
    },
    {
     "data": {
      "text/plain": [
       "np.float64(43.125)"
      ]
     },
     "execution_count": 27,
     "metadata": {},
     "output_type": "execute_result"
    }
   ],
   "source": [
    "pprint(RawCNNChromosome(df.iloc[4][\"Chromosome\"]).parse())\n",
    "\n",
    "df.iloc[4][\"Accuracy\"]"
   ]
  }
 ],
 "metadata": {
  "kernelspec": {
   "display_name": "venv",
   "language": "python",
   "name": "python3"
  },
  "language_info": {
   "codemirror_mode": {
    "name": "ipython",
    "version": 3
   },
   "file_extension": ".py",
   "mimetype": "text/x-python",
   "name": "python",
   "nbconvert_exporter": "python",
   "pygments_lexer": "ipython3",
   "version": "3.13.3"
  }
 },
 "nbformat": 4,
 "nbformat_minor": 5
}
