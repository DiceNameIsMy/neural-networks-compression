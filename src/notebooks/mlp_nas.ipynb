{
    "cells": [
        {
            "cell_type": "code",
            "execution_count": 2,
            "id": "9fe4b9a6",
            "metadata": {},
            "outputs": [],
            "source": [
                "import logging\n",
                "import sys\n",
                "from pathlib import Path\n",
                "\n",
                "\n",
                "logging.basicConfig(\n",
                "    level=logging.INFO,\n",
                "    format=\"%(levelname)s: %(message)s\",\n",
                "    force=True,\n",
                ")\n",
                "\n",
                "# Add the src directory to the Python path\n",
                "sys.path.append(str(Path.cwd().parent.parent))"
            ]
        },
        {
            "cell_type": "code",
            "execution_count": 5,
            "id": "165f61bd",
            "metadata": {},
            "outputs": [
                {
                    "data": {
                        "text/plain": [
                            "(array([0, 0, 0, 0, 0, 0, 0, 0, 0, 0, 0, 0, 0, 0, 0, 0, 0]),\n",
                            " array([7, 3, 6, 7, 6, 7, 6, 7, 7, 3, 4, 0, 0, 0, 2, 6, 3]),\n",
                            " 17)"
                        ]
                    },
                    "execution_count": 5,
                    "metadata": {},
                    "output_type": "execute_result"
                }
            ],
            "source": [
                "from src.nas.chromosome import ChromosomeConfig\n",
                "from src.nas.mlp_chromosome import MLPChromosome\n",
                "\n",
                "ch_cfg = ChromosomeConfig(MLPChromosome)\n",
                "low, high = ch_cfg.get_bounds()\n",
                "low, high, ch_cfg.get_size()\n"
            ]
        },
        {
            "cell_type": "code",
            "execution_count": 8,
            "id": "cd166169",
            "metadata": {},
            "outputs": [
                {
                    "data": {
                        "text/plain": [
                            "(64.8, 25228.8)"
                        ]
                    },
                    "execution_count": 8,
                    "metadata": {},
                    "output_type": "execute_result"
                }
            ],
            "source": [
                "from src.nas.mlp_nas_problem import MlpNasProblem\n",
                "from src.nas.nas_params import NasParams\n",
                "from src.datasets.vertebral_dataset import VertebralDataset\n",
                "from src.datasets.breast_cancer_dataset import BreastCancerDataset\n",
                "from src.nas.plot import hist_accuracies\n",
                "\n",
                "\n",
                "DatasetClass = VertebralDataset\n",
                "params = NasParams(\n",
                "    epochs=15,\n",
                "    patience=5,\n",
                "    amount_of_evaluations=1,\n",
                "    population_size=30,\n",
                "    population_offspring_count=10,\n",
                "    algorithm_generations=1,\n",
                "    population_store_file=DatasetClass.__name__ + \"_population.csv\",\n",
                ")\n",
                "problem = MlpNasProblem(params, DatasetClass)\n",
                "\n",
                "problem.get_min_complexity(), problem.get_max_complexity()"
            ]
        },
        {
            "cell_type": "code",
            "execution_count": 9,
            "id": "f3200630",
            "metadata": {},
            "outputs": [
                {
                    "data": {
                        "text/plain": [
                            "(64.8, 25228.8)"
                        ]
                    },
                    "execution_count": 9,
                    "metadata": {},
                    "output_type": "execute_result"
                }
            ],
            "source": [
                "plow = problem.get_nn_params(ch_cfg.decode(low))\n",
                "phigh = problem.get_nn_params(ch_cfg.decode(high))\n",
                "\n",
                "plow.get_complexity(), phigh.get_complexity()"
            ]
        },
        {
            "cell_type": "code",
            "execution_count": 10,
            "id": "7d40b06a",
            "metadata": {},
            "outputs": [
                {
                    "name": "stderr",
                    "output_type": "stream",
                    "text": [
                        "INFO: Population file `VertebralDataset_population.csv` is empty. Using random sampling\n"
                    ]
                },
                {
                    "name": "stdout",
                    "output_type": "stream",
                    "text": [
                        "==========================================================\n",
                        "n_gen  |  n_eval  | n_nds  |      eps      |   indicator  \n",
                        "==========================================================\n",
                        "     1 |       30 |      4 |             - |             -\n",
                        "Solutions: [[6 2 3 1 3 0 1 5 5 0 0 0 0 0 2 2 3]\n",
                        " [4 0 0 4 4 1 2 0 2 0 4 0 0 0 0 3 2]\n",
                        " [6 0 4 2 6 2 0 5 4 0 0 0 0 0 0 4 0]\n",
                        " [2 0 2 6 5 4 0 5 0 2 4 0 0 0 0 6 2]]\n",
                        "Objectives: [[-0.91935484  0.05209293]\n",
                        " [-0.70967742  0.00340411]\n",
                        " [-0.79032258  0.00465413]\n",
                        " [-0.69354839  0.00150634]]\n"
                    ]
                }
            ],
            "source": [
                "from pymoo.optimize import minimize\n",
                "\n",
                "from src.constants import SEED\n",
                "\n",
                "\n",
                "algorithm = params.get_algorithm()\n",
                "termination = params.get_termination()\n",
                "\n",
                "res = minimize(problem, algorithm, verbose=True, seed=SEED, termination=termination)\n",
                "\n",
                "if params.population_store_file is not None:\n",
                "    params.store_population(res, params.population_store_file)\n",
                "\n",
                "print(f\"Solutions: {res.X}\")\n",
                "print(f\"Objectives: {res.F}\")"
            ]
        },
        {
            "cell_type": "code",
            "execution_count": 11,
            "id": "41dcfc03",
            "metadata": {},
            "outputs": [
                {
                    "data": {
                        "text/html": [
                            "<div>\n",
                            "<style scoped>\n",
                            "    .dataframe tbody tr th:only-of-type {\n",
                            "        vertical-align: middle;\n",
                            "    }\n",
                            "\n",
                            "    .dataframe tbody tr th {\n",
                            "        vertical-align: top;\n",
                            "    }\n",
                            "\n",
                            "    .dataframe thead th {\n",
                            "        text-align: right;\n",
                            "    }\n",
                            "</style>\n",
                            "<table border=\"1\" class=\"dataframe\">\n",
                            "  <thead>\n",
                            "    <tr style=\"text-align: right;\">\n",
                            "      <th></th>\n",
                            "      <th>Accuracy</th>\n",
                            "      <th>Complexity</th>\n",
                            "      <th>fc</th>\n",
                            "      <th>train</th>\n",
                            "      <th>Chromosome</th>\n",
                            "    </tr>\n",
                            "  </thead>\n",
                            "  <tbody>\n",
                            "    <tr>\n",
                            "      <th>0</th>\n",
                            "      <td>91.935484</td>\n",
                            "      <td>1375.666396</td>\n",
                            "      <td>{'layers': [{'height': 6, 'compression': NNPar...</td>\n",
                            "      <td>{'DatasetCls': &lt;class 'src.datasets.vertebral_...</td>\n",
                            "      <td>[6, 2, 3, 1, 3, 0, 1, 5, 5, 0, 0, 0, 0, 0, 2, ...</td>\n",
                            "    </tr>\n",
                            "    <tr>\n",
                            "      <th>1</th>\n",
                            "      <td>70.967742</td>\n",
                            "      <td>150.460941</td>\n",
                            "      <td>{'layers': [{'height': 6, 'compression': NNPar...</td>\n",
                            "      <td>{'DatasetCls': &lt;class 'src.datasets.vertebral_...</td>\n",
                            "      <td>[4, 0, 0, 4, 4, 1, 2, 0, 2, 0, 4, 0, 0, 0, 0, ...</td>\n",
                            "    </tr>\n",
                            "    <tr>\n",
                            "      <th>2</th>\n",
                            "      <td>79.032258</td>\n",
                            "      <td>181.916599</td>\n",
                            "      <td>{'layers': [{'height': 6, 'compression': NNPar...</td>\n",
                            "      <td>{'DatasetCls': &lt;class 'src.datasets.vertebral_...</td>\n",
                            "      <td>[6, 0, 4, 2, 6, 2, 0, 5, 4, 0, 0, 0, 0, 0, 0, ...</td>\n",
                            "    </tr>\n",
                            "    <tr>\n",
                            "      <th>3</th>\n",
                            "      <td>69.354839</td>\n",
                            "      <td>102.705570</td>\n",
                            "      <td>{'layers': [{'height': 6, 'compression': NNPar...</td>\n",
                            "      <td>{'DatasetCls': &lt;class 'src.datasets.vertebral_...</td>\n",
                            "      <td>[2, 0, 2, 6, 5, 4, 0, 5, 0, 2, 4, 0, 0, 0, 0, ...</td>\n",
                            "    </tr>\n",
                            "  </tbody>\n",
                            "</table>\n",
                            "</div>"
                        ],
                        "text/plain": [
                            "    Accuracy   Complexity                                                 fc  \\\n",
                            "0  91.935484  1375.666396  {'layers': [{'height': 6, 'compression': NNPar...   \n",
                            "1  70.967742   150.460941  {'layers': [{'height': 6, 'compression': NNPar...   \n",
                            "2  79.032258   181.916599  {'layers': [{'height': 6, 'compression': NNPar...   \n",
                            "3  69.354839   102.705570  {'layers': [{'height': 6, 'compression': NNPar...   \n",
                            "\n",
                            "                                               train  \\\n",
                            "0  {'DatasetCls': <class 'src.datasets.vertebral_...   \n",
                            "1  {'DatasetCls': <class 'src.datasets.vertebral_...   \n",
                            "2  {'DatasetCls': <class 'src.datasets.vertebral_...   \n",
                            "3  {'DatasetCls': <class 'src.datasets.vertebral_...   \n",
                            "\n",
                            "                                          Chromosome  \n",
                            "0  [6, 2, 3, 1, 3, 0, 1, 5, 5, 0, 0, 0, 0, 0, 2, ...  \n",
                            "1  [4, 0, 0, 4, 4, 1, 2, 0, 2, 0, 4, 0, 0, 0, 0, ...  \n",
                            "2  [6, 0, 4, 2, 6, 2, 0, 5, 4, 0, 0, 0, 0, 0, 0, ...  \n",
                            "3  [2, 0, 2, 6, 5, 4, 0, 5, 0, 2, 4, 0, 0, 0, 0, ...  "
                        ]
                    },
                    "execution_count": 11,
                    "metadata": {},
                    "output_type": "execute_result"
                }
            ],
            "source": [
                "df = problem.result_as_df(res)\n",
                "df"
            ]
        },
        {
            "cell_type": "code",
            "execution_count": 13,
            "id": "7b1445ae",
            "metadata": {},
            "outputs": [
                {
                    "name": "stdout",
                    "output_type": "stream",
                    "text": [
                        "MLPParams(fc=FCParams(layers=[FCLayerParams(height=6,\n",
                        "                                            compression=<NNParamsCompMode.NBITS: 'nbits'>,\n",
                        "                                            bitwidth=7),\n",
                        "                              FCLayerParams(height=12,\n",
                        "                                            compression=<NNParamsCompMode.NONE: 'none'>,\n",
                        "                                            bitwidth=2),\n",
                        "                              FCLayerParams(height=12,\n",
                        "                                            compression=<NNParamsCompMode.NONE: 'none'>,\n",
                        "                                            bitwidth=1),\n",
                        "                              FCLayerParams(height=3,\n",
                        "                                            compression=<NNParamsCompMode.NONE: 'none'>,\n",
                        "                                            bitwidth=6)],\n",
                        "                      activation=ActivationParams(activation=<Activation.NONE: 'none'>,\n",
                        "                                                  binary_qmode=<QMode.DET: 'det'>,\n",
                        "                                                  reste_o=1.5,\n",
                        "                                                  reste_threshold=1.5),\n",
                        "                      qmode=<QMode.DET: 'det'>,\n",
                        "                      dropout_rate=0.2),\n",
                        "          train=NNTrainParams(DatasetCls=<class 'src.datasets.vertebral_dataset.VertebralDataset'>,\n",
                        "                              train_loader=<torch.utils.data.dataloader.DataLoader object at 0x7ff15e78dd10>,\n",
                        "                              test_loader=<torch.utils.data.dataloader.DataLoader object at 0x7ff15e88b490>,\n",
                        "                              batch_size=32,\n",
                        "                              epochs=15,\n",
                        "                              learning_rate=0.0005,\n",
                        "                              weight_decay=0.001,\n",
                        "                              early_stop_patience=5))\n"
                    ]
                }
            ],
            "source": [
                "from pprint import pprint\n",
                "\n",
                "ch = ch_cfg.decode(df.loc[0][\"Chromosome\"])\n",
                "params = problem.get_nn_params(ch)\n",
                "pprint(params)"
            ]
        },
        {
            "cell_type": "code",
            "execution_count": 14,
            "id": "691b5151",
            "metadata": {},
            "outputs": [
                {
                    "data": {
                        "image/png": "[encoded data removed]",
                        "text/plain": [
                            "<Figure size 640x480 with 1 Axes>"
                        ]
                    },
                    "metadata": {},
                    "output_type": "display_data"
                }
            ],
            "source": [
                "fig = hist_accuracies(df[\"Accuracy\"])"
            ]
        },
        {
            "cell_type": "code",
            "execution_count": 17,
            "id": "3cad46d6",
            "metadata": {},
            "outputs": [
                {
                    "data": {
                        "image/png": "[encoded data removed]",
                        "text/plain": [
                            "<Figure size 1000x600 with 1 Axes>"
                        ]
                    },
                    "metadata": {},
                    "output_type": "display_data"
                }
            ],
            "source": [
                "from src.nas import plot\n",
                "\n",
                "fig = plot.plot_pareto_front(df[\"Accuracy\"], df[\"Complexity\"])"
            ]
        },
        {
            "cell_type": "code",
            "execution_count": 27,
            "id": "2ed4f643",
            "metadata": {},
            "outputs": [
                {
                    "data": {
                        "text/plain": [
                            "{'max': 90.3225806451613,\n",
                            " 'mean': np.float64(72.79569892473118),\n",
                            " 'std': np.float64(12.793439757192129),\n",
                            " 'accuracies': [74.19354838709677,\n",
                            "  74.19354838709677,\n",
                            "  70.96774193548387,\n",
                            "  35.483870967741936,\n",
                            "  75.80645161290323,\n",
                            "  75.80645161290323,\n",
                            "  54.83870967741935,\n",
                            "  70.96774193548387,\n",
                            "  66.12903225806451,\n",
                            "  75.80645161290323,\n",
                            "  80.64516129032258,\n",
                            "  82.25806451612904,\n",
                            "  90.3225806451613,\n",
                            "  79.03225806451613,\n",
                            "  85.48387096774194],\n",
                            " 'best_model': MLP(\n",
                            "   (layers): Sequential(\n",
                            "     (0): Quantize()\n",
                            "     (1): Linear(in_features=6, out_features=12, bias=True)\n",
                            "     (2): BatchNorm1d(12, eps=1e-05, momentum=0.1, affine=True, track_running_stats=True)\n",
                            "     (3): Dropout(p=0.2, inplace=False)\n",
                            "     (4): Identity()\n",
                            "     (5): Linear(in_features=12, out_features=12, bias=True)\n",
                            "     (6): BatchNorm1d(12, eps=1e-05, momentum=0.1, affine=True, track_running_stats=True)\n",
                            "     (7): Dropout(p=0.2, inplace=False)\n",
                            "     (8): Identity()\n",
                            "     (9): Linear(in_features=12, out_features=3, bias=True)\n",
                            "     (10): BatchNorm1d(3, eps=1e-05, momentum=0.1, affine=True, track_running_stats=True)\n",
                            "     (11): Dropout(p=0.2, inplace=False)\n",
                            "     (12): Identity()\n",
                            "   )\n",
                            " )}"
                        ]
                    },
                    "execution_count": 27,
                    "metadata": {},
                    "output_type": "execute_result"
                }
            ],
            "source": [
                "from src.models.eval import KFoldNNArchitectureEvaluator, NNArchitectureEvaluator\n",
                "\n",
                "KFoldNNArchitectureEvaluator(problem.get_nn_params(ch)).evaluate_accuracy(times=3)"
            ]
        },
        {
            "cell_type": "code",
            "execution_count": null,
            "id": "0c498daf",
            "metadata": {},
            "outputs": [
                {
                    "data": {
                        "text/plain": [
                            "74.19354838709677"
                        ]
                    },
                    "execution_count": 24,
                    "metadata": {},
                    "output_type": "execute_result"
                }
            ],
            "source": [
                "\n",
                "\n",
                "accuracy, model = problem.best_models[tuple(df[\"Chromosome\"].iloc[0])]\n",
                "\n",
                "NNArchitectureEvaluator(params).test_model(model)"
            ]
        }
    ],
    "metadata": {
        "kernelspec": {
            "display_name": "venv",
            "language": "python",
            "name": "python3"
        },
        "language_info": {
            "codemirror_mode": {
                "name": "ipython",
                "version": 3
            },
            "file_extension": ".py",
            "mimetype": "text/x-python",
            "name": "python",
            "nbconvert_exporter": "python",
            "pygments_lexer": "ipython3",
            "version": "3.13.3"
        }
    },
    "nbformat": 4,
    "nbformat_minor": 5
}
