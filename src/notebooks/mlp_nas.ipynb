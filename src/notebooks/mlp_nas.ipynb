{
 "cells": [
  {
   "cell_type": "code",
   "execution_count": 1,
   "id": "9fe4b9a6",
   "metadata": {},
   "outputs": [],
   "source": [
    "import logging\n",
    "import sys\n",
    "from pathlib import Path\n",
    "\n",
    "\n",
    "logging.basicConfig(\n",
    "    level=logging.INFO,\n",
    "    format=\"%(levelname)s: %(message)s\",\n",
    "    force=True,\n",
    ")\n",
    "\n",
    "# Add the src directory to the Python path\n",
    "sys.path.append(str(Path.cwd().parent.parent))"
   ]
  },
  {
   "cell_type": "code",
   "execution_count": 2,
   "id": "165f61bd",
   "metadata": {},
   "outputs": [
    {
     "data": {
      "text/plain": [
       "(array([0, 0, 1, 0, 1, 0, 1, 0, 0, 0, 0, 0, 0, 0, 0]),\n",
       " array([7, 3, 8, 7, 8, 7, 8, 7, 2, 3, 3, 1, 1, 6, 3]))"
      ]
     },
     "execution_count": 2,
     "metadata": {},
     "output_type": "execute_result"
    }
   ],
   "source": [
    "from src.nas.mlp_chromosome import RawMLPChromosome\n",
    "\n",
    "\n",
    "low, high = RawMLPChromosome.get_bounds()\n",
    "low, high"
   ]
  },
  {
   "cell_type": "code",
   "execution_count": 3,
   "id": "cd166169",
   "metadata": {},
   "outputs": [
    {
     "name": "stderr",
     "output_type": "stream",
     "text": [
      "INFO: Loading cached vertebral from /home/nur/Projects/vut-ip1-nn-quantization/datasets_cache/vertebral_cache.pkl\n",
      "INFO: Loading cached breast_cancer from /home/nur/Projects/vut-ip1-nn-quantization/datasets_cache/breast_cancer_cache.pkl\n"
     ]
    },
    {
     "data": {
      "text/plain": [
       "(162.0, np.float64(2160.0))"
      ]
     },
     "execution_count": 3,
     "metadata": {},
     "output_type": "execute_result"
    }
   ],
   "source": [
    "from src.nas.mlp_nas_problem import MlpNasProblem\n",
    "from src.nas.nas import NasParams\n",
    "from src.datasets.vertebral_dataset import VertebralDataset\n",
    "from src.datasets.breast_cancer_dataset import BreastCancerDataset\n",
    "from src.nas.plot import hist_accuracies\n",
    "\n",
    "\n",
    "DatasetClass = VertebralDataset\n",
    "params = NasParams(\n",
    "    epochs=10,\n",
    "    patience=5,\n",
    "    amount_of_evaluations=1,\n",
    "    population_size=10,\n",
    "    population_offspring_count=4,\n",
    "    algorithm_generations=1,\n",
    "    # population_store_file=DatasetClass.__name__ + \"_population.csv\",\n",
    ")\n",
    "problem = MlpNasProblem(params, DatasetClass)\n",
    "\n",
    "problem.get_min_complexity(), problem.get_max_complexity()"
   ]
  },
  {
   "cell_type": "code",
   "execution_count": 4,
   "id": "f3200630",
   "metadata": {},
   "outputs": [
    {
     "data": {
      "text/plain": [
       "(162.0, np.float64(2160.0))"
      ]
     },
     "execution_count": 4,
     "metadata": {},
     "output_type": "execute_result"
    }
   ],
   "source": [
    "plow = problem.get_nn_params(RawMLPChromosome(low).parse())\n",
    "phigh = problem.get_nn_params(RawMLPChromosome(high).parse())\n",
    "\n",
    "problem.compute_nn_complexity(plow), problem.compute_nn_complexity(phigh)"
   ]
  },
  {
   "cell_type": "code",
   "execution_count": 5,
   "id": "7d40b06a",
   "metadata": {},
   "outputs": [
    {
     "name": "stderr",
     "output_type": "stream",
     "text": [
      "INFO: No population file provided. Using random sampling\n"
     ]
    },
    {
     "name": "stdout",
     "output_type": "stream",
     "text": [
      "==========================================================\n",
      "n_gen  |  n_eval  | n_nds  |      eps      |   indicator  \n",
      "==========================================================\n",
      "     1 |       10 |      3 |             - |             -\n",
      "Solutions: [[4 0 3 7 2 0 4 4 1 0 3 0 0 5 3]\n",
      " [7 1 4 1 8 5 6 4 2 1 3 0 1 5 1]\n",
      " [0 0 7 6 1 0 1 2 2 0 0 1 0 4 2]]\n",
      "Objectives: [[-0.70967742  0.10718336  0.03571429]\n",
      " [-0.58064516  0.07027027  0.21428571]\n",
      " [-0.29032258  0.          0.        ]]\n"
     ]
    }
   ],
   "source": [
    "from pymoo.optimize import minimize\n",
    "\n",
    "from src.constants import SEED\n",
    "\n",
    "\n",
    "algorithm = params.get_algorithm()\n",
    "termination = params.get_termination()\n",
    "\n",
    "res = minimize(problem, algorithm, verbose=True, seed=SEED, termination=termination)\n",
    "\n",
    "if params.population_store_file is not None:\n",
    "    params.store_population(res, params.population_store_file)\n",
    "\n",
    "print(f\"Solutions: {res.X}\")\n",
    "print(f\"Objectives: {res.F}\")"
   ]
  },
  {
   "cell_type": "code",
   "execution_count": 6,
   "id": "41dcfc03",
   "metadata": {},
   "outputs": [
    {
     "data": {
      "text/html": [
       "<div>\n",
       "<style scoped>\n",
       "    .dataframe tbody tr th:only-of-type {\n",
       "        vertical-align: middle;\n",
       "    }\n",
       "\n",
       "    .dataframe tbody tr th {\n",
       "        vertical-align: top;\n",
       "    }\n",
       "\n",
       "    .dataframe thead th {\n",
       "        text-align: right;\n",
       "    }\n",
       "</style>\n",
       "<table border=\"1\" class=\"dataframe\">\n",
       "  <thead>\n",
       "    <tr style=\"text-align: right;\">\n",
       "      <th></th>\n",
       "      <th>Accuracy</th>\n",
       "      <th>Complexity</th>\n",
       "      <th>fc</th>\n",
       "      <th>train</th>\n",
       "      <th>Chromosome</th>\n",
       "    </tr>\n",
       "  </thead>\n",
       "  <tbody>\n",
       "    <tr>\n",
       "      <th>0</th>\n",
       "      <td>70.967742</td>\n",
       "      <td>376.152351</td>\n",
       "      <td>{'layers': [{'height': 6, 'weight_qmode': Weig...</td>\n",
       "      <td>{'train_loader': ([tensor([[ 63.7724,  12.7634...</td>\n",
       "      <td>[4, 0, 3, 7, 2, 0, 4, 4, 1, 0, 3, 0, 0, 5, 3]</td>\n",
       "    </tr>\n",
       "    <tr>\n",
       "      <th>1</th>\n",
       "      <td>58.064516</td>\n",
       "      <td>302.400000</td>\n",
       "      <td>{'layers': [{'height': 6, 'weight_qmode': Weig...</td>\n",
       "      <td>{'train_loader': ([tensor([[ 54.9194,  21.0623...</td>\n",
       "      <td>[7, 1, 4, 1, 8, 5, 6, 4, 2, 1, 3, 0, 1, 5, 1]</td>\n",
       "    </tr>\n",
       "    <tr>\n",
       "      <th>2</th>\n",
       "      <td>29.032258</td>\n",
       "      <td>162.000000</td>\n",
       "      <td>{'layers': [{'height': 6, 'weight_qmode': Weig...</td>\n",
       "      <td>{'train_loader': ([tensor([[ 52.8622,   9.4104...</td>\n",
       "      <td>[0, 0, 7, 6, 1, 0, 1, 2, 2, 0, 0, 1, 0, 4, 2]</td>\n",
       "    </tr>\n",
       "  </tbody>\n",
       "</table>\n",
       "</div>"
      ],
      "text/plain": [
       "    Accuracy  Complexity                                                 fc  \\\n",
       "0  70.967742  376.152351  {'layers': [{'height': 6, 'weight_qmode': Weig...   \n",
       "1  58.064516  302.400000  {'layers': [{'height': 6, 'weight_qmode': Weig...   \n",
       "2  29.032258  162.000000  {'layers': [{'height': 6, 'weight_qmode': Weig...   \n",
       "\n",
       "                                               train  \\\n",
       "0  {'train_loader': ([tensor([[ 38.1266,   6.5576...   \n",
       "1  {'train_loader': ([tensor([[ 82.9053,  29.8941...   \n",
       "2  {'train_loader': ([tensor([[ 43.7183,   9.8120...   \n",
       "\n",
       "                                      Chromosome  \n",
       "0  [4, 0, 3, 7, 2, 0, 4, 4, 1, 0, 3, 0, 0, 5, 3]  \n",
       "1  [7, 1, 4, 1, 8, 5, 6, 4, 2, 1, 3, 0, 1, 5, 1]  \n",
       "2  [0, 0, 7, 6, 1, 0, 1, 2, 2, 0, 0, 1, 0, 4, 2]  "
      ]
     },
     "execution_count": 6,
     "metadata": {},
     "output_type": "execute_result"
    }
   ],
   "source": [
    "df = problem.result_as_df(res)\n",
    "df"
   ]
  },
  {
   "cell_type": "code",
   "execution_count": 7,
   "id": "7b1445ae",
   "metadata": {},
   "outputs": [
    {
     "name": "stdout",
     "output_type": "stream",
     "text": [
      "MLPParams(fc=FCParams(layers=[FCLayerParams(height=6,\n",
      "                                            weight_qmode=<WeightQuantMode.NBITS: 'nbits'>,\n",
      "                                            weight_bitwidth=5),\n",
      "                              FCLayerParams(height=3,\n",
      "                                            weight_qmode=<WeightQuantMode.NONE: 'none'>,\n",
      "                                            weight_bitwidth=32)],\n",
      "                      activation=ActivationParams(activation=<ActivationModule.RELU: 'relu'>,\n",
      "                                                  binary_qmode=<QMode.DET: 'det'>,\n",
      "                                                  reste_o=4.0,\n",
      "                                                  reste_threshold=1.5),\n",
      "                      qmode=<QMode.DET: 'det'>,\n",
      "                      dropout_rate=0.1),\n",
      "          train=NNTrainParams(train_loader=<torch.utils.data.dataloader.DataLoader object at 0x7acebd6552b0>,\n",
      "                              test_loader=<torch.utils.data.dataloader.DataLoader object at 0x7acebd76fc50>,\n",
      "                              epochs=10,\n",
      "                              learning_rate=0.005,\n",
      "                              weight_decay=0.001,\n",
      "                              early_stop_patience=5))\n"
     ]
    }
   ],
   "source": [
    "from pprint import pprint\n",
    "\n",
    "ch = RawMLPChromosome(df.loc[0][\"Chromosome\"]).parse()\n",
    "params = problem.get_nn_params(ch)\n",
    "pprint(params)"
   ]
  },
  {
   "cell_type": "code",
   "execution_count": 8,
   "id": "691b5151",
   "metadata": {},
   "outputs": [
    {
     "data": {
      "image/png": "[encoded data removed]",
      "text/plain": [
       "<Figure size 640x480 with 1 Axes>"
      ]
     },
     "metadata": {},
     "output_type": "display_data"
    }
   ],
   "source": [
    "fig = hist_accuracies(df[\"Accuracy\"])"
   ]
  },
  {
   "cell_type": "code",
   "execution_count": 9,
   "id": "3cad46d6",
   "metadata": {},
   "outputs": [
    {
     "data": {
      "image/png": "[encoded data removed]",
      "text/plain": [
       "<Figure size 1000x600 with 1 Axes>"
      ]
     },
     "metadata": {},
     "output_type": "display_data"
    }
   ],
   "source": [
    "from src.nas import plot\n",
    "\n",
    "plot.plot_pareto_front(df[\"Accuracy\"], df[\"Complexity\"])"
   ]
  }
 ],
 "metadata": {
  "kernelspec": {
   "display_name": "venv",
   "language": "python",
   "name": "python3"
  },
  "language_info": {
   "codemirror_mode": {
    "name": "ipython",
    "version": 3
   },
   "file_extension": ".py",
   "mimetype": "text/x-python",
   "name": "python",
   "nbconvert_exporter": "python",
   "pygments_lexer": "ipython3",
   "version": "3.13.2"
  }
 },
 "nbformat": 4,
 "nbformat_minor": 5
}
