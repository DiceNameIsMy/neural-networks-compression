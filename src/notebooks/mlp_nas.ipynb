{
    "cells": [
        {
            "cell_type": "code",
            "execution_count": 1,
            "id": "9fe4b9a6",
            "metadata": {},
            "outputs": [],
            "source": [
                "import logging\n",
                "import sys\n",
                "from pathlib import Path\n",
                "\n",
                "\n",
                "logging.basicConfig(\n",
                "    level=logging.INFO,\n",
                "    format=\"%(levelname)s: %(message)s\",\n",
                "    force=True,\n",
                ")\n",
                "\n",
                "# Add the src directory to the Python path\n",
                "sys.path.append(str(Path.cwd().parent.parent))"
            ]
        },
        {
            "cell_type": "code",
            "execution_count": 2,
            "id": "165f61bd",
            "metadata": {},
            "outputs": [
                {
                    "data": {
                        "text/plain": [
                            "(array([0, 0, 0, 0, 0, 0, 0, 0, 0, 0, 0, 0, 0, 0, 0, 0, 0]),\n",
                            " array([7, 3, 6, 7, 6, 7, 6, 7, 7, 3, 3, 0, 0, 0, 2, 0, 0]),\n",
                            " 17)"
                        ]
                    },
                    "execution_count": 2,
                    "metadata": {},
                    "output_type": "execute_result"
                }
            ],
            "source": [
                "from src.nas.chromosome import ChromosomeConfig\n",
                "from src.nas.mlp_chromosome import MLPChromosome\n",
                "\n",
                "ch_cfg = ChromosomeConfig(MLPChromosome)\n",
                "low, high = ch_cfg.get_bounds()\n",
                "low, high, ch_cfg.get_size()\n"
            ]
        },
        {
            "cell_type": "code",
            "execution_count": 3,
            "id": "cd166169",
            "metadata": {},
            "outputs": [
                {
                    "name": "stderr",
                    "output_type": "stream",
                    "text": [
                        "INFO: Loading cached dataset `vertebral` from /home/nur/Projects/vut-ip1-nn-quantization/datasets_cache/vertebral_cache.pkl\n",
                        "INFO: Loading cached dataset `breast_cancer` from /home/nur/Projects/vut-ip1-nn-quantization/datasets_cache/breast_cancer_cache.pkl\n"
                    ]
                },
                {
                    "data": {
                        "text/plain": [
                            "(18.0, 75742.0)"
                        ]
                    },
                    "execution_count": 3,
                    "metadata": {},
                    "output_type": "execute_result"
                }
            ],
            "source": [
                "from src.nas.mlp_nas_problem import MlpNasProblem\n",
                "from src.nas.nas_params import NasParams\n",
                "from src.datasets.vertebral_dataset import VertebralDataset\n",
                "from src.datasets.breast_cancer_dataset import BreastCancerDataset\n",
                "from src.nas.plot import hist_accuracies\n",
                "\n",
                "\n",
                "DatasetClass = VertebralDataset\n",
                "params = NasParams(\n",
                "    batch_size=32,\n",
                "    epochs=30,\n",
                "    patience=5,\n",
                "    amount_of_evaluations=1,\n",
                "    population_size=10,\n",
                "    population_offspring_count=4,\n",
                "    algorithm_generations=1,\n",
                "    min_accuracy=0.0,\n",
                "    max_complexity=1,\n",
                "    population_store_file=None,\n",
                ")\n",
                "problem = MlpNasProblem(params, DatasetClass)\n",
                "\n",
                "problem.get_min_complexity(), problem.get_max_complexity()"
            ]
        },
        {
            "cell_type": "code",
            "execution_count": 4,
            "id": "f3200630",
            "metadata": {},
            "outputs": [
                {
                    "data": {
                        "text/plain": [
                            "(18.0, 75742.0)"
                        ]
                    },
                    "execution_count": 4,
                    "metadata": {},
                    "output_type": "execute_result"
                }
            ],
            "source": [
                "from src.models.eval import NNArchitectureEvaluator\n",
                "\n",
                "\n",
                "plow_train = problem.get_nn_train_params(ch_cfg.decode(low))\n",
                "plow = problem.get_nn_params(ch_cfg.decode(low))\n",
                "\n",
                "phigh_train = problem.get_nn_train_params(ch_cfg.decode(high))\n",
                "phigh = problem.get_nn_params(ch_cfg.decode(high))\n",
                "\n",
                "NNArchitectureEvaluator(plow_train).evaluate_complexity(plow), NNArchitectureEvaluator(phigh_train).evaluate_complexity(phigh)"
            ]
        },
        {
            "cell_type": "code",
            "execution_count": 5,
            "id": "5c2d7cc8",
            "metadata": {},
            "outputs": [
                {
                    "data": {
                        "text/plain": [
                            "{'max': np.float64(80.32258064516128),\n",
                            " 'mean': np.float64(79.13978494623656),\n",
                            " 'std': np.float64(1.24471364546131),\n",
                            " 'accuracies': array([80.32258065, 79.67741935, 77.41935484]),\n",
                            " 'best_model': MLP(\n",
                            "   (layers): Sequential(\n",
                            "     (0): Quantize()\n",
                            "     (1): Linear(in_features=6, out_features=16, bias=False)\n",
                            "     (2): BatchNorm1d(16, eps=1e-05, momentum=0.1, affine=True, track_running_stats=True)\n",
                            "     (3): Dropout(p=0.1, inplace=False)\n",
                            "     (4): ReLU()\n",
                            "     (5): Linear(in_features=16, out_features=3, bias=False)\n",
                            "     (6): BatchNorm1d(3, eps=1e-05, momentum=0.1, affine=True, track_running_stats=True)\n",
                            "     (7): Dropout(p=0.1, inplace=False)\n",
                            "     (8): ReLU()\n",
                            "   )\n",
                            " )}"
                        ]
                    },
                    "execution_count": 5,
                    "metadata": {},
                    "output_type": "execute_result"
                }
            ],
            "source": [
                "import numpy as np\n",
                "\n",
                "raw_ch = np.array([5,1,4,6,0,0,0,2,1,3,3,0,0,0,1,0,0])\n",
                "ch = ch_cfg.decode(raw_ch)\n",
                "train, p = problem.get_nn_train_params(ch), problem.get_nn_params(ch)\n",
                "NNArchitectureEvaluator(train).evaluate_accuracy(p, times=3)"
            ]
        },
        {
            "cell_type": "code",
            "execution_count": 6,
            "id": "7d40b06a",
            "metadata": {},
            "outputs": [
                {
                    "name": "stderr",
                    "output_type": "stream",
                    "text": [
                        "INFO: Using random initial population\n"
                    ]
                },
                {
                    "name": "stdout",
                    "output_type": "stream",
                    "text": [
                        "==========================================================================================\n",
                        "n_gen  |  n_eval  | n_nds  |     cv_min    |     cv_avg    |      eps      |   indicator  \n",
                        "==========================================================================================\n",
                        "     1 |       10 |      5 |  0.000000E+00 |  0.000000E+00 |             - |             -\n",
                        "Solutions: [[5 0 6 2 5 0 3 4 4 1 3 0 0 0 1 0 0]\n",
                        " [4 0 2 7 1 5 5 4 7 3 0 0 0 0 2 0 0]\n",
                        " [1 0 4 1 1 2 3 3 7 1 2 0 0 0 0 0 0]\n",
                        " [3 2 2 7 1 1 4 1 2 0 3 0 0 0 0 0 0]\n",
                        " [5 1 4 6 0 0 0 2 1 3 3 0 0 0 1 0 0]]\n",
                        "Objectives: [[-4.83870968e-01  6.33880936e-04]\n",
                        " [-7.48387097e-01  7.36886588e-03]\n",
                        " [-2.96774194e-01  2.77322910e-04]\n",
                        " [-6.64516129e-01  3.79007976e-03]\n",
                        " [-8.32258065e-01  6.31239765e-02]]\n"
                    ]
                }
            ],
            "source": [
                "from pymoo.optimize import minimize\n",
                "\n",
                "from src.constants import SEED\n",
                "\n",
                "\n",
                "algorithm = params.get_algorithm()\n",
                "termination = params.get_termination()\n",
                "\n",
                "res = minimize(problem, algorithm, verbose=True, seed=SEED, termination=termination)\n",
                "df = problem.result_as_df(res)\n",
                "\n",
                "if params.population_store_file is not None:\n",
                "    params.store_population(df, params.population_store_file)\n",
                "\n",
                "print(f\"Solutions: {res.X}\")\n",
                "print(f\"Objectives: {res.F}\")"
            ]
        },
        {
            "cell_type": "code",
            "execution_count": 8,
            "id": "41dcfc03",
            "metadata": {},
            "outputs": [
                {
                    "data": {
                        "text/html": [
                            "<div>\n",
                            "<style scoped>\n",
                            "    .dataframe tbody tr th:only-of-type {\n",
                            "        vertical-align: middle;\n",
                            "    }\n",
                            "\n",
                            "    .dataframe tbody tr th {\n",
                            "        vertical-align: top;\n",
                            "    }\n",
                            "\n",
                            "    .dataframe thead th {\n",
                            "        text-align: right;\n",
                            "    }\n",
                            "</style>\n",
                            "<table border=\"1\" class=\"dataframe\">\n",
                            "  <thead>\n",
                            "    <tr style=\"text-align: right;\">\n",
                            "      <th></th>\n",
                            "      <th>Accuracy</th>\n",
                            "      <th>Complexity</th>\n",
                            "      <th>Chromosome</th>\n",
                            "      <th>ModelParams</th>\n",
                            "      <th>TrainParams</th>\n",
                            "    </tr>\n",
                            "  </thead>\n",
                            "  <tbody>\n",
                            "    <tr>\n",
                            "      <th>0</th>\n",
                            "      <td>48.387097</td>\n",
                            "      <td>66.0</td>\n",
                            "      <td>[5, 0, 6, 2, 5, 0, 3, 4, 4, 1, 3, 0, 0, 0, 1, ...</td>\n",
                            "      <td>{'fc': {'layers': [{'height': 6, 'compression'...</td>\n",
                            "      <td>{'DatasetCls': &lt;class 'src.datasets.vertebral_...</td>\n",
                            "    </tr>\n",
                            "    <tr>\n",
                            "      <th>1</th>\n",
                            "      <td>74.838710</td>\n",
                            "      <td>576.0</td>\n",
                            "      <td>[4, 0, 2, 7, 1, 5, 5, 4, 7, 3, 0, 0, 0, 0, 2, ...</td>\n",
                            "      <td>{'fc': {'layers': [{'height': 6, 'compression'...</td>\n",
                            "      <td>{'DatasetCls': &lt;class 'src.datasets.vertebral_...</td>\n",
                            "    </tr>\n",
                            "    <tr>\n",
                            "      <th>2</th>\n",
                            "      <td>29.677419</td>\n",
                            "      <td>39.0</td>\n",
                            "      <td>[1, 0, 4, 1, 1, 2, 3, 3, 7, 1, 2, 0, 0, 0, 0, ...</td>\n",
                            "      <td>{'fc': {'layers': [{'height': 6, 'compression'...</td>\n",
                            "      <td>{'DatasetCls': &lt;class 'src.datasets.vertebral_...</td>\n",
                            "    </tr>\n",
                            "    <tr>\n",
                            "      <th>3</th>\n",
                            "      <td>66.451613</td>\n",
                            "      <td>305.0</td>\n",
                            "      <td>[3, 2, 2, 7, 1, 1, 4, 1, 2, 0, 3, 0, 0, 0, 0, ...</td>\n",
                            "      <td>{'fc': {'layers': [{'height': 6, 'compression'...</td>\n",
                            "      <td>{'DatasetCls': &lt;class 'src.datasets.vertebral_...</td>\n",
                            "    </tr>\n",
                            "    <tr>\n",
                            "      <th>4</th>\n",
                            "      <td>83.225806</td>\n",
                            "      <td>4798.0</td>\n",
                            "      <td>[5, 1, 4, 6, 0, 0, 0, 2, 1, 3, 3, 0, 0, 0, 1, ...</td>\n",
                            "      <td>{'fc': {'layers': [{'height': 6, 'compression'...</td>\n",
                            "      <td>{'DatasetCls': &lt;class 'src.datasets.vertebral_...</td>\n",
                            "    </tr>\n",
                            "  </tbody>\n",
                            "</table>\n",
                            "</div>"
                        ],
                        "text/plain": [
                            "    Accuracy  Complexity                                         Chromosome  \\\n",
                            "0  48.387097        66.0  [5, 0, 6, 2, 5, 0, 3, 4, 4, 1, 3, 0, 0, 0, 1, ...   \n",
                            "1  74.838710       576.0  [4, 0, 2, 7, 1, 5, 5, 4, 7, 3, 0, 0, 0, 0, 2, ...   \n",
                            "2  29.677419        39.0  [1, 0, 4, 1, 1, 2, 3, 3, 7, 1, 2, 0, 0, 0, 0, ...   \n",
                            "3  66.451613       305.0  [3, 2, 2, 7, 1, 1, 4, 1, 2, 0, 3, 0, 0, 0, 0, ...   \n",
                            "4  83.225806      4798.0  [5, 1, 4, 6, 0, 0, 0, 2, 1, 3, 3, 0, 0, 0, 1, ...   \n",
                            "\n",
                            "                                         ModelParams  \\\n",
                            "0  {'fc': {'layers': [{'height': 6, 'compression'...   \n",
                            "1  {'fc': {'layers': [{'height': 6, 'compression'...   \n",
                            "2  {'fc': {'layers': [{'height': 6, 'compression'...   \n",
                            "3  {'fc': {'layers': [{'height': 6, 'compression'...   \n",
                            "4  {'fc': {'layers': [{'height': 6, 'compression'...   \n",
                            "\n",
                            "                                         TrainParams  \n",
                            "0  {'DatasetCls': <class 'src.datasets.vertebral_...  \n",
                            "1  {'DatasetCls': <class 'src.datasets.vertebral_...  \n",
                            "2  {'DatasetCls': <class 'src.datasets.vertebral_...  \n",
                            "3  {'DatasetCls': <class 'src.datasets.vertebral_...  \n",
                            "4  {'DatasetCls': <class 'src.datasets.vertebral_...  "
                        ]
                    },
                    "execution_count": 8,
                    "metadata": {},
                    "output_type": "execute_result"
                }
            ],
            "source": [
                "df.head()"
            ]
        },
        {
            "cell_type": "code",
            "execution_count": 7,
            "id": "7b1445ae",
            "metadata": {},
            "outputs": [
                {
                    "name": "stdout",
                    "output_type": "stream",
                    "text": [
                        "MLPParams(fc=FCParams(layers=[FCLayerParams(height=6,\n",
                        "                                            compression=<NNParamsCompMode.NBITS: 'nbits'>,\n",
                        "                                            bitwidth=5),\n",
                        "                              FCLayerParams(height=3,\n",
                        "                                            compression=<NNParamsCompMode.NONE: 'none'>,\n",
                        "                                            bitwidth=8)],\n",
                        "                      activation=ActivationParams(activation=<Activation.NONE: 'none'>,\n",
                        "                                                  binary_qmode=<QMode.DET: 'det'>,\n",
                        "                                                  reste_o=1.5,\n",
                        "                                                  reste_threshold=1.5),\n",
                        "                      qmode=<QMode.DET: 'det'>,\n",
                        "                      dropout_rate=0.1),\n",
                        "          train=NNTrainParams(DatasetCls=<class 'src.datasets.vertebral_dataset.VertebralDataset'>,\n",
                        "                              train_loader=<torch.utils.data.dataloader.DataLoader object at 0x7ea6fde15be0>,\n",
                        "                              test_loader=<torch.utils.data.dataloader.DataLoader object at 0x7ea6fddde710>,\n",
                        "                              batch_size=32,\n",
                        "                              epochs=15,\n",
                        "                              learning_rate=0.0005,\n",
                        "                              weight_decay=0.01,\n",
                        "                              early_stop_patience=5))\n"
                    ]
                }
            ],
            "source": [
                "from pprint import pprint\n",
                "\n",
                "ch = ch_cfg.decode(df.loc[0][\"Chromosome\"])\n",
                "params = problem.get_nn_params(ch)\n",
                "pprint(params)"
            ]
        },
        {
            "cell_type": "code",
            "execution_count": 8,
            "id": "691b5151",
            "metadata": {},
            "outputs": [
                {
                    "data": {
                        "image/png": "[encoded data removed]",
                        "text/plain": [
                            "<Figure size 640x480 with 1 Axes>"
                        ]
                    },
                    "metadata": {},
                    "output_type": "display_data"
                }
            ],
            "source": [
                "fig = hist_accuracies(df[\"Accuracy\"])"
            ]
        },
        {
            "cell_type": "code",
            "execution_count": 9,
            "id": "3cad46d6",
            "metadata": {},
            "outputs": [
                {
                    "data": {
                        "image/png": "[encoded data removed]",
                        "text/plain": [
                            "<Figure size 1000x600 with 1 Axes>"
                        ]
                    },
                    "metadata": {},
                    "output_type": "display_data"
                }
            ],
            "source": [
                "from src.nas import plot\n",
                "\n",
                "fig = plot.plot_pareto_front(df[\"Accuracy\"], df[\"Complexity\"])"
            ]
        },
        {
            "cell_type": "code",
            "execution_count": 30,
            "id": "2ed4f643",
            "metadata": {},
            "outputs": [
                {
                    "data": {
                        "text/plain": [
                            "{'max': 90.3225806451613,\n",
                            " 'mean': np.float64(74.40860215053763),\n",
                            " 'std': np.float64(8.73287763623525),\n",
                            " 'accuracies': [72.58064516129032,\n",
                            "  70.96774193548387,\n",
                            "  79.03225806451613,\n",
                            "  58.064516129032256,\n",
                            "  67.74193548387096,\n",
                            "  62.903225806451616,\n",
                            "  67.74193548387096,\n",
                            "  80.64516129032258,\n",
                            "  79.03225806451613,\n",
                            "  88.70967741935483,\n",
                            "  75.80645161290323,\n",
                            "  77.41935483870968,\n",
                            "  79.03225806451613,\n",
                            "  66.12903225806451,\n",
                            "  90.3225806451613],\n",
                            " 'best_model': MLP(\n",
                            "   (layers): Sequential(\n",
                            "     (0): Quantize()\n",
                            "     (1): Linear(in_features=6, out_features=12, bias=True)\n",
                            "     (2): BatchNorm1d(12, eps=1e-05, momentum=0.1, affine=True, track_running_stats=True)\n",
                            "     (3): Dropout(p=0.2, inplace=False)\n",
                            "     (4): Identity()\n",
                            "     (5): Linear(in_features=12, out_features=12, bias=True)\n",
                            "     (6): BatchNorm1d(12, eps=1e-05, momentum=0.1, affine=True, track_running_stats=True)\n",
                            "     (7): Dropout(p=0.2, inplace=False)\n",
                            "     (8): Identity()\n",
                            "     (9): Linear(in_features=12, out_features=3, bias=True)\n",
                            "     (10): BatchNorm1d(3, eps=1e-05, momentum=0.1, affine=True, track_running_stats=True)\n",
                            "     (11): Dropout(p=0.2, inplace=False)\n",
                            "     (12): Identity()\n",
                            "   )\n",
                            " )}"
                        ]
                    },
                    "execution_count": 30,
                    "metadata": {},
                    "output_type": "execute_result"
                }
            ],
            "source": [
                "from src.models.eval import KFoldNNArchitectureEvaluator, NNArchitectureEvaluator\n",
                "\n",
                "KFoldNNArchitectureEvaluator(params).evaluate_accuracy(times=3)"
            ]
        },
        {
            "cell_type": "code",
            "execution_count": null,
            "id": "0c498daf",
            "metadata": {},
            "outputs": [
                {
                    "data": {
                        "text/plain": [
                            "74.19354838709677"
                        ]
                    },
                    "execution_count": 24,
                    "metadata": {},
                    "output_type": "execute_result"
                }
            ],
            "source": [
                "\n",
                "\n",
                "accuracy, model = problem.best_architecture[tuple(df[\"Chromosome\"].iloc[0])]\n",
                "\n",
                "NNArchitectureEvaluator(params).test_model(model)"
            ]
        }
    ],
    "metadata": {
        "kernelspec": {
            "display_name": "venv",
            "language": "python",
            "name": "python3"
        },
        "language_info": {
            "codemirror_mode": {
                "name": "ipython",
                "version": 3
            },
            "file_extension": ".py",
            "mimetype": "text/x-python",
            "name": "python",
            "nbconvert_exporter": "python",
            "pygments_lexer": "ipython3",
            "version": "3.13.3"
        }
    },
    "nbformat": 4,
    "nbformat_minor": 5
}
