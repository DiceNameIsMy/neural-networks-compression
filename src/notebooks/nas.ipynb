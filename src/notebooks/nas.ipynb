{
 "cells": [
  {
   "cell_type": "code",
   "execution_count": 1,
   "id": "9fe4b9a6",
   "metadata": {},
   "outputs": [],
   "source": [
    "import logging\n",
    "import sys\n",
    "from pathlib import Path\n",
    "\n",
    "\n",
    "logging.basicConfig(\n",
    "    level=logging.INFO,\n",
    "    format=\"%(levelname)s: %(message)s\",\n",
    ")\n",
    "\n",
    "# Add the src directory to the Python path\n",
    "sys.path.append(str(Path.cwd().parent.parent))"
   ]
  },
  {
   "cell_type": "code",
   "execution_count": 10,
   "id": "1544b222",
   "metadata": {},
   "outputs": [
    {
     "data": {
      "text/plain": [
       "PosixPath('/home/nur/Projects/vut-ip1-nn-quantization/src/notebooks')"
      ]
     },
     "execution_count": 10,
     "metadata": {},
     "output_type": "execute_result"
    }
   ],
   "source": [
    "Path.cwd()"
   ]
  },
  {
   "cell_type": "code",
   "execution_count": 2,
   "id": "165f61bd",
   "metadata": {},
   "outputs": [
    {
     "data": {
      "text/plain": [
       "(array([0, 0, 1, 0, 1, 0, 1, 0, 0, 0, 0, 0, 0, 0, 0]),\n",
       " array([7, 3, 8, 7, 8, 7, 8, 7, 2, 3, 3, 1, 1, 6, 3]))"
      ]
     },
     "execution_count": 2,
     "metadata": {},
     "output_type": "execute_result"
    }
   ],
   "source": [
    "from src.nas.mlp_chromosome import RawChromosome\n",
    "\n",
    "\n",
    "low, high = RawChromosome.get_bounds()\n",
    "low, high"
   ]
  },
  {
   "cell_type": "code",
   "execution_count": 3,
   "id": "cd166169",
   "metadata": {},
   "outputs": [
    {
     "name": "stderr",
     "output_type": "stream",
     "text": [
      "INFO: Loading cached vertebral from /home/nur/Projects/vut-ip1-nn-quantization/datasets_cache/vertebral_cache.pkl\n",
      "INFO: Loading cached breast_cancer from /home/nur/Projects/vut-ip1-nn-quantization/datasets_cache/breast_cancer_cache.pkl\n"
     ]
    },
    {
     "data": {
      "text/plain": [
       "(162.0, np.float64(2160.0))"
      ]
     },
     "execution_count": 3,
     "metadata": {},
     "output_type": "execute_result"
    }
   ],
   "source": [
    "from src.nas.mlp_nas_problem import MlpNasProblem\n",
    "from src.nas.nas import MlpNasParams\n",
    "from src.datasets.vertebral_dataset import VertebralDataset\n",
    "from src.datasets.breast_cancer_dataset import BreastCancerDataset\n",
    "\n",
    "\n",
    "DatasetClass = VertebralDataset\n",
    "params = MlpNasParams(\n",
    "    epochs=20,\n",
    "    patience=5,\n",
    "    amount_of_evaluations=20,\n",
    "    population_size=50,\n",
    "    population_offspring_count=20,\n",
    "    algorithm_generations=5,\n",
    "    population_store_file=DatasetClass.__name__ + \"_population.csv\",\n",
    ")\n",
    "problem = MlpNasProblem(params, DatasetClass)\n",
    "\n",
    "problem.get_min_complexity(), problem.get_max_complexity()"
   ]
  },
  {
   "cell_type": "code",
   "execution_count": 4,
   "id": "f3200630",
   "metadata": {},
   "outputs": [
    {
     "data": {
      "text/plain": [
       "(162.0, np.float64(2160.0))"
      ]
     },
     "execution_count": 4,
     "metadata": {},
     "output_type": "execute_result"
    }
   ],
   "source": [
    "plow = problem.get_nn_params(RawChromosome(low).parse())\n",
    "phigh = problem.get_nn_params(RawChromosome(high).parse())\n",
    "\n",
    "problem.compute_nn_complexity(plow), problem.compute_nn_complexity(phigh)"
   ]
  },
  {
   "cell_type": "code",
   "execution_count": 5,
   "id": "7d40b06a",
   "metadata": {},
   "outputs": [
    {
     "name": "stderr",
     "output_type": "stream",
     "text": [
      "INFO: Population file is empty. Using random sampling\n"
     ]
    },
    {
     "name": "stdout",
     "output_type": "stream",
     "text": [
      "==========================================================\n",
      "n_gen  |  n_eval  | n_nds  |      eps      |   indicator  \n",
      "==========================================================\n",
      "     1 |       50 |      1 |             - |             -\n",
      "     2 |       70 |      2 |  0.000000E+00 |             f\n",
      "     3 |       90 |      3 |  1.0000000000 |         ideal\n",
      "     4 |      110 |      5 |  0.000000E+00 |             f\n",
      "     5 |      130 |      8 |  0.000000E+00 |             f\n",
      "Solutions: [[2 0 7 4 8 3 8 2 0 1 3 0 1 6 0]\n",
      " [2 0 6 1 4 0 8 0 0 1 3 0 0 6 0]\n",
      " [4 0 6 4 1 7 7 3 0 0 2 0 0 5 2]\n",
      " [2 0 6 4 1 0 8 3 1 1 3 0 0 6 0]\n",
      " [2 0 4 1 5 2 8 6 0 1 3 0 0 6 0]\n",
      " [3 0 6 1 4 0 8 0 0 1 3 0 0 6 0]\n",
      " [3 0 4 6 5 2 2 6 0 2 3 0 1 6 3]\n",
      " [2 0 6 0 8 0 8 0 0 1 3 0 0 6 0]]\n",
      "Objectives: [[-0.87096774  0.          0.        ]\n",
      " [-0.87096774  0.          0.        ]\n",
      " [-0.88709677  0.10718336  0.03571429]\n",
      " [-0.87096774  0.          0.        ]\n",
      " [-0.87096774  0.          0.        ]\n",
      " [-0.87096774  0.          0.        ]\n",
      " [-0.87096774  0.          0.        ]\n",
      " [-0.87096774  0.          0.        ]]\n"
     ]
    }
   ],
   "source": [
    "from pymoo.optimize import minimize\n",
    "\n",
    "from src.constants import SEED\n",
    "\n",
    "\n",
    "algorithm = params.get_algorithm()\n",
    "termination = params.get_termination()\n",
    "\n",
    "res = minimize(problem, algorithm, verbose=True, seed=SEED, termination=termination)\n",
    "\n",
    "params.store_population(res, params.population_store_file)\n",
    "\n",
    "print(f\"Solutions: {res.X}\")\n",
    "print(f\"Objectives: {res.F}\")"
   ]
  },
  {
   "cell_type": "code",
   "execution_count": 11,
   "id": "41dcfc03",
   "metadata": {},
   "outputs": [
    {
     "data": {
      "text/html": [
       "<div>\n",
       "<style scoped>\n",
       "    .dataframe tbody tr th:only-of-type {\n",
       "        vertical-align: middle;\n",
       "    }\n",
       "\n",
       "    .dataframe tbody tr th {\n",
       "        vertical-align: top;\n",
       "    }\n",
       "\n",
       "    .dataframe thead th {\n",
       "        text-align: right;\n",
       "    }\n",
       "</style>\n",
       "<table border=\"1\" class=\"dataframe\">\n",
       "  <thead>\n",
       "    <tr style=\"text-align: right;\">\n",
       "      <th></th>\n",
       "      <th>Accuracy</th>\n",
       "      <th>Complexity</th>\n",
       "      <th>in_height</th>\n",
       "      <th>out_height</th>\n",
       "      <th>hidden_layers</th>\n",
       "      <th>hidden_layers_heights</th>\n",
       "      <th>hidden_layers_bitwidths</th>\n",
       "      <th>in_bitwidth</th>\n",
       "      <th>activation</th>\n",
       "      <th>reste_o</th>\n",
       "      <th>reste_threshold</th>\n",
       "      <th>dropout_rate</th>\n",
       "      <th>learning_rate</th>\n",
       "      <th>weight_decay</th>\n",
       "      <th>epochs</th>\n",
       "      <th>quantization_mode</th>\n",
       "      <th>Chromosome</th>\n",
       "    </tr>\n",
       "  </thead>\n",
       "  <tbody>\n",
       "    <tr>\n",
       "      <th>0</th>\n",
       "      <td>87.096774</td>\n",
       "      <td>162.000000</td>\n",
       "      <td>6</td>\n",
       "      <td>3</td>\n",
       "      <td>0</td>\n",
       "      <td>[7, 8, 8]</td>\n",
       "      <td>[5, 4, 3]</td>\n",
       "      <td>3</td>\n",
       "      <td>ActivationModule.BINARIZE_RESTE</td>\n",
       "      <td>1.5</td>\n",
       "      <td>1</td>\n",
       "      <td>0.0</td>\n",
       "      <td>0.010</td>\n",
       "      <td>0.010</td>\n",
       "      <td>20</td>\n",
       "      <td>QMode.DET</td>\n",
       "      <td>[2, 0, 7, 4, 8, 3, 8, 2, 0, 1, 3, 0, 1, 6, 0]</td>\n",
       "    </tr>\n",
       "    <tr>\n",
       "      <th>1</th>\n",
       "      <td>87.096774</td>\n",
       "      <td>162.000000</td>\n",
       "      <td>6</td>\n",
       "      <td>3</td>\n",
       "      <td>0</td>\n",
       "      <td>[6, 4, 8]</td>\n",
       "      <td>[2, 1, 1]</td>\n",
       "      <td>3</td>\n",
       "      <td>ActivationModule.BINARIZE_RESTE</td>\n",
       "      <td>1.5</td>\n",
       "      <td>1</td>\n",
       "      <td>0.0</td>\n",
       "      <td>0.010</td>\n",
       "      <td>0.010</td>\n",
       "      <td>20</td>\n",
       "      <td>QMode.DET</td>\n",
       "      <td>[2, 0, 6, 1, 4, 0, 8, 0, 0, 1, 3, 0, 0, 6, 0]</td>\n",
       "    </tr>\n",
       "    <tr>\n",
       "      <th>2</th>\n",
       "      <td>88.709677</td>\n",
       "      <td>376.152351</td>\n",
       "      <td>6</td>\n",
       "      <td>3</td>\n",
       "      <td>0</td>\n",
       "      <td>[6, 1, 7]</td>\n",
       "      <td>[5, 8, 4]</td>\n",
       "      <td>5</td>\n",
       "      <td>ActivationModule.RELU</td>\n",
       "      <td>1.5</td>\n",
       "      <td>1</td>\n",
       "      <td>0.0</td>\n",
       "      <td>0.005</td>\n",
       "      <td>0.002</td>\n",
       "      <td>20</td>\n",
       "      <td>QMode.DET</td>\n",
       "      <td>[4, 0, 6, 4, 1, 7, 7, 3, 0, 0, 2, 0, 0, 5, 2]</td>\n",
       "    </tr>\n",
       "    <tr>\n",
       "      <th>3</th>\n",
       "      <td>87.096774</td>\n",
       "      <td>162.000000</td>\n",
       "      <td>6</td>\n",
       "      <td>3</td>\n",
       "      <td>0</td>\n",
       "      <td>[6, 1, 8]</td>\n",
       "      <td>[5, 1, 4]</td>\n",
       "      <td>3</td>\n",
       "      <td>ActivationModule.BINARIZE_RESTE</td>\n",
       "      <td>1.5</td>\n",
       "      <td>1</td>\n",
       "      <td>0.1</td>\n",
       "      <td>0.010</td>\n",
       "      <td>0.010</td>\n",
       "      <td>20</td>\n",
       "      <td>QMode.DET</td>\n",
       "      <td>[2, 0, 6, 4, 1, 0, 8, 3, 1, 1, 3, 0, 0, 6, 0]</td>\n",
       "    </tr>\n",
       "    <tr>\n",
       "      <th>4</th>\n",
       "      <td>87.096774</td>\n",
       "      <td>162.000000</td>\n",
       "      <td>6</td>\n",
       "      <td>3</td>\n",
       "      <td>0</td>\n",
       "      <td>[4, 5, 8]</td>\n",
       "      <td>[2, 3, 7]</td>\n",
       "      <td>3</td>\n",
       "      <td>ActivationModule.BINARIZE_RESTE</td>\n",
       "      <td>1.5</td>\n",
       "      <td>1</td>\n",
       "      <td>0.0</td>\n",
       "      <td>0.010</td>\n",
       "      <td>0.010</td>\n",
       "      <td>20</td>\n",
       "      <td>QMode.DET</td>\n",
       "      <td>[2, 0, 4, 1, 5, 2, 8, 6, 0, 1, 3, 0, 0, 6, 0]</td>\n",
       "    </tr>\n",
       "    <tr>\n",
       "      <th>5</th>\n",
       "      <td>87.096774</td>\n",
       "      <td>162.000000</td>\n",
       "      <td>6</td>\n",
       "      <td>3</td>\n",
       "      <td>0</td>\n",
       "      <td>[6, 4, 8]</td>\n",
       "      <td>[2, 1, 1]</td>\n",
       "      <td>4</td>\n",
       "      <td>ActivationModule.BINARIZE_RESTE</td>\n",
       "      <td>1.5</td>\n",
       "      <td>1</td>\n",
       "      <td>0.0</td>\n",
       "      <td>0.010</td>\n",
       "      <td>0.010</td>\n",
       "      <td>20</td>\n",
       "      <td>QMode.DET</td>\n",
       "      <td>[3, 0, 6, 1, 4, 0, 8, 0, 0, 1, 3, 0, 0, 6, 0]</td>\n",
       "    </tr>\n",
       "    <tr>\n",
       "      <th>6</th>\n",
       "      <td>87.096774</td>\n",
       "      <td>162.000000</td>\n",
       "      <td>6</td>\n",
       "      <td>3</td>\n",
       "      <td>0</td>\n",
       "      <td>[4, 5, 2]</td>\n",
       "      <td>[7, 3, 7]</td>\n",
       "      <td>4</td>\n",
       "      <td>ActivationModule.BINARIZE</td>\n",
       "      <td>1.5</td>\n",
       "      <td>1</td>\n",
       "      <td>0.0</td>\n",
       "      <td>0.010</td>\n",
       "      <td>0.001</td>\n",
       "      <td>20</td>\n",
       "      <td>QMode.DET</td>\n",
       "      <td>[3, 0, 4, 6, 5, 2, 2, 6, 0, 2, 3, 0, 1, 6, 3]</td>\n",
       "    </tr>\n",
       "    <tr>\n",
       "      <th>7</th>\n",
       "      <td>87.096774</td>\n",
       "      <td>162.000000</td>\n",
       "      <td>6</td>\n",
       "      <td>3</td>\n",
       "      <td>0</td>\n",
       "      <td>[6, 8, 8]</td>\n",
       "      <td>[1, 1, 1]</td>\n",
       "      <td>3</td>\n",
       "      <td>ActivationModule.BINARIZE_RESTE</td>\n",
       "      <td>1.5</td>\n",
       "      <td>1</td>\n",
       "      <td>0.0</td>\n",
       "      <td>0.010</td>\n",
       "      <td>0.010</td>\n",
       "      <td>20</td>\n",
       "      <td>QMode.DET</td>\n",
       "      <td>[2, 0, 6, 0, 8, 0, 8, 0, 0, 1, 3, 0, 0, 6, 0]</td>\n",
       "    </tr>\n",
       "  </tbody>\n",
       "</table>\n",
       "</div>"
      ],
      "text/plain": [
       "    Accuracy  Complexity  in_height  out_height  hidden_layers  \\\n",
       "0  87.096774  162.000000          6           3              0   \n",
       "1  87.096774  162.000000          6           3              0   \n",
       "2  88.709677  376.152351          6           3              0   \n",
       "3  87.096774  162.000000          6           3              0   \n",
       "4  87.096774  162.000000          6           3              0   \n",
       "5  87.096774  162.000000          6           3              0   \n",
       "6  87.096774  162.000000          6           3              0   \n",
       "7  87.096774  162.000000          6           3              0   \n",
       "\n",
       "  hidden_layers_heights hidden_layers_bitwidths  in_bitwidth  \\\n",
       "0             [7, 8, 8]               [5, 4, 3]            3   \n",
       "1             [6, 4, 8]               [2, 1, 1]            3   \n",
       "2             [6, 1, 7]               [5, 8, 4]            5   \n",
       "3             [6, 1, 8]               [5, 1, 4]            3   \n",
       "4             [4, 5, 8]               [2, 3, 7]            3   \n",
       "5             [6, 4, 8]               [2, 1, 1]            4   \n",
       "6             [4, 5, 2]               [7, 3, 7]            4   \n",
       "7             [6, 8, 8]               [1, 1, 1]            3   \n",
       "\n",
       "                        activation  reste_o  reste_threshold  dropout_rate  \\\n",
       "0  ActivationModule.BINARIZE_RESTE      1.5                1           0.0   \n",
       "1  ActivationModule.BINARIZE_RESTE      1.5                1           0.0   \n",
       "2            ActivationModule.RELU      1.5                1           0.0   \n",
       "3  ActivationModule.BINARIZE_RESTE      1.5                1           0.1   \n",
       "4  ActivationModule.BINARIZE_RESTE      1.5                1           0.0   \n",
       "5  ActivationModule.BINARIZE_RESTE      1.5                1           0.0   \n",
       "6        ActivationModule.BINARIZE      1.5                1           0.0   \n",
       "7  ActivationModule.BINARIZE_RESTE      1.5                1           0.0   \n",
       "\n",
       "   learning_rate  weight_decay  epochs quantization_mode  \\\n",
       "0          0.010         0.010      20         QMode.DET   \n",
       "1          0.010         0.010      20         QMode.DET   \n",
       "2          0.005         0.002      20         QMode.DET   \n",
       "3          0.010         0.010      20         QMode.DET   \n",
       "4          0.010         0.010      20         QMode.DET   \n",
       "5          0.010         0.010      20         QMode.DET   \n",
       "6          0.010         0.001      20         QMode.DET   \n",
       "7          0.010         0.010      20         QMode.DET   \n",
       "\n",
       "                                      Chromosome  \n",
       "0  [2, 0, 7, 4, 8, 3, 8, 2, 0, 1, 3, 0, 1, 6, 0]  \n",
       "1  [2, 0, 6, 1, 4, 0, 8, 0, 0, 1, 3, 0, 0, 6, 0]  \n",
       "2  [4, 0, 6, 4, 1, 7, 7, 3, 0, 0, 2, 0, 0, 5, 2]  \n",
       "3  [2, 0, 6, 4, 1, 0, 8, 3, 1, 1, 3, 0, 0, 6, 0]  \n",
       "4  [2, 0, 4, 1, 5, 2, 8, 6, 0, 1, 3, 0, 0, 6, 0]  \n",
       "5  [3, 0, 6, 1, 4, 0, 8, 0, 0, 1, 3, 0, 0, 6, 0]  \n",
       "6  [3, 0, 4, 6, 5, 2, 2, 6, 0, 2, 3, 0, 1, 6, 3]  \n",
       "7  [2, 0, 6, 0, 8, 0, 8, 0, 0, 1, 3, 0, 0, 6, 0]  "
      ]
     },
     "execution_count": 11,
     "metadata": {},
     "output_type": "execute_result"
    }
   ],
   "source": [
    "from dataclasses import asdict\n",
    "\n",
    "from pprint import pprint\n",
    "import pandas as pd\n",
    "from pymoo.core.result import Result\n",
    "\n",
    "\n",
    "def res_to_df(res: Result) -> pd.DataFrame:\n",
    "    data = []\n",
    "    for i in range(len(res.X)):\n",
    "        x = res.X[i]\n",
    "        f = res.F[i]\n",
    "        accuracy = problem.denormalize(-f[0], 0, 100)\n",
    "        complexity = problem.denormalize(\n",
    "            f[1], problem.get_min_complexity(), problem.get_max_complexity()\n",
    "        )\n",
    "\n",
    "        ch = RawChromosome(x).parse()\n",
    "        params = problem.get_nn_params(ch)\n",
    "\n",
    "        data.append(\n",
    "            {\n",
    "                \"Accuracy\": accuracy,\n",
    "                \"Complexity\": complexity,\n",
    "                **asdict(params),\n",
    "                \"Chromosome\": x,\n",
    "            }\n",
    "        )\n",
    "\n",
    "    return pd.DataFrame(data)\n",
    "\n",
    "\n",
    "df = res_to_df(res)\n",
    "df"
   ]
  },
  {
   "cell_type": "code",
   "execution_count": 12,
   "id": "7b1445ae",
   "metadata": {},
   "outputs": [
    {
     "name": "stdout",
     "output_type": "stream",
     "text": [
      "MLPParams(in_height=6,\n",
      "          out_height=3,\n",
      "          hidden_layers=np.int64(0),\n",
      "          hidden_layers_heights=[np.int64(7), np.int64(8), np.int64(8)],\n",
      "          hidden_layers_bitwidths=[5, 4, 3],\n",
      "          in_bitwidth=3,\n",
      "          activation=<ActivationModule.BINARIZE_RESTE: 'binary_ReSTE'>,\n",
      "          reste_o=1.5,\n",
      "          reste_threshold=1,\n",
      "          dropout_rate=0.0,\n",
      "          learning_rate=0.01,\n",
      "          weight_decay=0.01,\n",
      "          epochs=20,\n",
      "          quantization_mode=<QMode.DET: 'det'>)\n"
     ]
    }
   ],
   "source": [
    "ch = RawChromosome(df.loc[0][\"Chromosome\"]).parse()\n",
    "params = problem.get_nn_params(ch)\n",
    "pprint(params)"
   ]
  },
  {
   "cell_type": "code",
   "execution_count": 15,
   "id": "691b5151",
   "metadata": {},
   "outputs": [
    {
     "data": {
      "image/png": "[encoded data removed]",
      "text/plain": [
       "<Figure size 640x480 with 1 Axes>"
      ]
     },
     "metadata": {},
     "output_type": "display_data"
    }
   ],
   "source": [
    "from matplotlib import pyplot as plt\n",
    "\n",
    "from src.models.mlp import MLPEvaluator\n",
    "\n",
    "\n",
    "def hist_accuracies(accuracies: list[float], bins=20) -> plt.Figure:\n",
    "    fig, ax = plt.subplots()\n",
    "    ax.hist(accuracies, bins=bins, range=(0, 100), edgecolor=\"black\")\n",
    "    ax.set_title(\"Histogram of Accuracies\")\n",
    "    ax.set_xlabel(\"Accuracy\")\n",
    "    ax.set_ylabel(\"Frequency\")\n",
    "    return fig\n",
    "\n",
    "\n",
    "fig = hist_accuracies(df[\"Accuracy\"])"
   ]
  },
  {
   "cell_type": "code",
   "execution_count": 16,
   "id": "3cad46d6",
   "metadata": {},
   "outputs": [
    {
     "data": {
      "image/png": "[encoded data removed]",
      "text/plain": [
       "<Figure size 1000x600 with 1 Axes>"
      ]
     },
     "metadata": {},
     "output_type": "display_data"
    }
   ],
   "source": [
    "from src.nas import plot\n",
    "\n",
    "plot.plot_pareto_front(df[\"Accuracy\"], df[\"Complexity\"])"
   ]
  }
 ],
 "metadata": {
  "kernelspec": {
   "display_name": "venv",
   "language": "python",
   "name": "python3"
  },
  "language_info": {
   "codemirror_mode": {
    "name": "ipython",
    "version": 3
   },
   "file_extension": ".py",
   "mimetype": "text/x-python",
   "name": "python",
   "nbconvert_exporter": "python",
   "pygments_lexer": "ipython3",
   "version": "3.13.2"
  }
 },
 "nbformat": 4,
 "nbformat_minor": 5
}
