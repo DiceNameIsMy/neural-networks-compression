{
 "cells": [
  {
   "cell_type": "code",
   "execution_count": 1,
   "id": "9fe4b9a6",
   "metadata": {},
   "outputs": [],
   "source": [
    "import logging\n",
    "import sys\n",
    "from pathlib import Path\n",
    "\n",
    "\n",
    "logging.basicConfig(\n",
    "    level=logging.INFO,\n",
    "    format=\"%(levelname)s: %(message)s\",\n",
    ")\n",
    "\n",
    "# Add the src directory to the Python path\n",
    "sys.path.append(str(Path.cwd().parent.parent))"
   ]
  },
  {
   "cell_type": "code",
   "execution_count": 2,
   "id": "165f61bd",
   "metadata": {},
   "outputs": [
    {
     "data": {
      "text/plain": [
       "(array([0, 0, 1, 0, 1, 0, 1, 0, 0, 0, 0, 0, 0, 0]),\n",
       " array([7, 3, 8, 7, 8, 7, 8, 7, 2, 3, 1, 1, 6, 3]))"
      ]
     },
     "execution_count": 2,
     "metadata": {},
     "output_type": "execute_result"
    }
   ],
   "source": [
    "from src.nas.mlp_chromosome import RawChromosome\n",
    "\n",
    "\n",
    "low, high = RawChromosome.get_bounds()\n",
    "low, high"
   ]
  },
  {
   "cell_type": "code",
   "execution_count": 3,
   "id": "cd166169",
   "metadata": {},
   "outputs": [
    {
     "name": "stderr",
     "output_type": "stream",
     "text": [
      "INFO: Loading cached vertebral from /home/nur/Projects/vut-ip1-nn-quantization/datasets_cache/vertebral_cache.pkl\n",
      "INFO: Loading cached breast_cancer from /home/nur/Projects/vut-ip1-nn-quantization/datasets_cache/breast_cancer_cache.pkl\n"
     ]
    },
    {
     "data": {
      "text/plain": [
       "(234.0, np.float64(2678.4))"
      ]
     },
     "execution_count": 3,
     "metadata": {},
     "output_type": "execute_result"
    }
   ],
   "source": [
    "from src.nas.mlp_nas_problem import MlpNasProblem\n",
    "from src.nas.nas import MlpNasParams\n",
    "from src.datasets.vertebral_dataset import VertebralDataset\n",
    "from src.datasets.breast_cancer_dataset import BreastCancerDataset\n",
    "\n",
    "\n",
    "DatasetClass = BreastCancerDataset\n",
    "params = MlpNasParams(\n",
    "    epochs=10,\n",
    "    patience=5,\n",
    "    amount_of_evaluations=5,\n",
    "    population_size=50,\n",
    "    population_offspring_count=20,\n",
    "    algorithm_generations=5,\n",
    "    population_store_file=DatasetClass.__name__ + \"_population.csv\",\n",
    ")\n",
    "problem = MlpNasProblem(params, DatasetClass)\n",
    "\n",
    "problem.get_min_complexity(), problem.get_max_complexity()"
   ]
  },
  {
   "cell_type": "code",
   "execution_count": 4,
   "id": "f3200630",
   "metadata": {},
   "outputs": [
    {
     "data": {
      "text/plain": [
       "(234.0, np.float64(2678.4))"
      ]
     },
     "execution_count": 4,
     "metadata": {},
     "output_type": "execute_result"
    }
   ],
   "source": [
    "plow = problem.get_nn_params(RawChromosome(low).parse())\n",
    "phigh = problem.get_nn_params(RawChromosome(high).parse())\n",
    "\n",
    "problem.compute_nn_complexity(plow), problem.compute_nn_complexity(phigh)"
   ]
  },
  {
   "cell_type": "code",
   "execution_count": 5,
   "id": "7d40b06a",
   "metadata": {},
   "outputs": [
    {
     "name": "stderr",
     "output_type": "stream",
     "text": [
      "INFO: Population file is empty. Using random sampling\n"
     ]
    },
    {
     "name": "stdout",
     "output_type": "stream",
     "text": [
      "==========================================================\n",
      "n_gen  |  n_eval  | n_nds  |      eps      |   indicator  \n",
      "==========================================================\n",
      "     1 |       50 |      3 |             - |             -\n",
      "     2 |       70 |      3 |  0.1111111111 |         nadir\n",
      "     3 |       90 |      3 |  0.3333333333 |         ideal\n",
      "     4 |      110 |      3 |  0.5000000000 |         nadir\n",
      "     5 |      130 |      3 |  0.3006845784 |         nadir\n",
      "Solutions: [[4 0 6 0 6 3 1 7 0 2 0 1 6 1]\n",
      " [2 0 7 2 6 5 3 3 0 1 0 0 5 1]\n",
      " [0 1 3 6 4 3 4 0 2 2 0 0 6 3]]\n",
      "Objectives: [[-0.78571429  0.          0.03571429]\n",
      " [-0.78214286  0.          0.        ]\n",
      " [-0.80357143  0.01132291  0.14285714]]\n"
     ]
    }
   ],
   "source": [
    "from pymoo.optimize import minimize\n",
    "\n",
    "from src.constants import SEED\n",
    "\n",
    "\n",
    "algorithm = params.get_algorithm()\n",
    "termination = params.get_termination()\n",
    "\n",
    "res = minimize(problem, algorithm, verbose=True, seed=SEED, termination=termination)\n",
    "\n",
    "params.store_population(res, params.population_store_file)\n",
    "\n",
    "print(f\"Solutions: {res.X}\")\n",
    "print(f\"Objectives: {res.F}\")"
   ]
  },
  {
   "cell_type": "code",
   "execution_count": 6,
   "id": "41dcfc03",
   "metadata": {},
   "outputs": [
    {
     "data": {
      "text/html": [
       "<div>\n",
       "<style scoped>\n",
       "    .dataframe tbody tr th:only-of-type {\n",
       "        vertical-align: middle;\n",
       "    }\n",
       "\n",
       "    .dataframe tbody tr th {\n",
       "        vertical-align: top;\n",
       "    }\n",
       "\n",
       "    .dataframe thead th {\n",
       "        text-align: right;\n",
       "    }\n",
       "</style>\n",
       "<table border=\"1\" class=\"dataframe\">\n",
       "  <thead>\n",
       "    <tr style=\"text-align: right;\">\n",
       "      <th></th>\n",
       "      <th>Accuracy</th>\n",
       "      <th>Complexity</th>\n",
       "      <th>in_height</th>\n",
       "      <th>out_height</th>\n",
       "      <th>hidden_layers</th>\n",
       "      <th>hidden_layers_heights</th>\n",
       "      <th>hidden_layers_bitwidths</th>\n",
       "      <th>in_bitwidth</th>\n",
       "      <th>activation</th>\n",
       "      <th>dropout_rate</th>\n",
       "      <th>learning_rate</th>\n",
       "      <th>weight_decay</th>\n",
       "      <th>epochs</th>\n",
       "      <th>quantization_mode</th>\n",
       "      <th>Chromosome</th>\n",
       "    </tr>\n",
       "  </thead>\n",
       "  <tbody>\n",
       "    <tr>\n",
       "      <th>0</th>\n",
       "      <td>78.571429</td>\n",
       "      <td>234.000000</td>\n",
       "      <td>13</td>\n",
       "      <td>2</td>\n",
       "      <td>0</td>\n",
       "      <td>[6, 6, 1]</td>\n",
       "      <td>[1, 4, 8]</td>\n",
       "      <td>5</td>\n",
       "      <td>ActivationModule.BINARIZE</td>\n",
       "      <td>0.0</td>\n",
       "      <td>0.010</td>\n",
       "      <td>0.005</td>\n",
       "      <td>10</td>\n",
       "      <td>QMode.DET</td>\n",
       "      <td>[4, 0, 6, 0, 6, 3, 1, 7, 0, 2, 0, 1, 6, 1]</td>\n",
       "    </tr>\n",
       "    <tr>\n",
       "      <th>1</th>\n",
       "      <td>78.214286</td>\n",
       "      <td>234.000000</td>\n",
       "      <td>13</td>\n",
       "      <td>2</td>\n",
       "      <td>0</td>\n",
       "      <td>[7, 6, 3]</td>\n",
       "      <td>[3, 6, 4]</td>\n",
       "      <td>3</td>\n",
       "      <td>ActivationModule.BINARIZE_RESTE</td>\n",
       "      <td>0.0</td>\n",
       "      <td>0.005</td>\n",
       "      <td>0.005</td>\n",
       "      <td>10</td>\n",
       "      <td>QMode.DET</td>\n",
       "      <td>[2, 0, 7, 2, 6, 5, 3, 3, 0, 1, 0, 0, 5, 1]</td>\n",
       "    </tr>\n",
       "    <tr>\n",
       "      <th>2</th>\n",
       "      <td>80.357143</td>\n",
       "      <td>261.677733</td>\n",
       "      <td>13</td>\n",
       "      <td>2</td>\n",
       "      <td>1</td>\n",
       "      <td>[3, 4, 4]</td>\n",
       "      <td>[7, 4, 1]</td>\n",
       "      <td>1</td>\n",
       "      <td>ActivationModule.BINARIZE</td>\n",
       "      <td>0.2</td>\n",
       "      <td>0.010</td>\n",
       "      <td>0.001</td>\n",
       "      <td>10</td>\n",
       "      <td>QMode.DET</td>\n",
       "      <td>[0, 1, 3, 6, 4, 3, 4, 0, 2, 2, 0, 0, 6, 3]</td>\n",
       "    </tr>\n",
       "  </tbody>\n",
       "</table>\n",
       "</div>"
      ],
      "text/plain": [
       "    Accuracy  Complexity  in_height  out_height  hidden_layers  \\\n",
       "0  78.571429  234.000000         13           2              0   \n",
       "1  78.214286  234.000000         13           2              0   \n",
       "2  80.357143  261.677733         13           2              1   \n",
       "\n",
       "  hidden_layers_heights hidden_layers_bitwidths  in_bitwidth  \\\n",
       "0             [6, 6, 1]               [1, 4, 8]            5   \n",
       "1             [7, 6, 3]               [3, 6, 4]            3   \n",
       "2             [3, 4, 4]               [7, 4, 1]            1   \n",
       "\n",
       "                        activation  dropout_rate  learning_rate  weight_decay  \\\n",
       "0        ActivationModule.BINARIZE           0.0          0.010         0.005   \n",
       "1  ActivationModule.BINARIZE_RESTE           0.0          0.005         0.005   \n",
       "2        ActivationModule.BINARIZE           0.2          0.010         0.001   \n",
       "\n",
       "   epochs quantization_mode                                  Chromosome  \n",
       "0      10         QMode.DET  [4, 0, 6, 0, 6, 3, 1, 7, 0, 2, 0, 1, 6, 1]  \n",
       "1      10         QMode.DET  [2, 0, 7, 2, 6, 5, 3, 3, 0, 1, 0, 0, 5, 1]  \n",
       "2      10         QMode.DET  [0, 1, 3, 6, 4, 3, 4, 0, 2, 2, 0, 0, 6, 3]  "
      ]
     },
     "execution_count": 6,
     "metadata": {},
     "output_type": "execute_result"
    }
   ],
   "source": [
    "from dataclasses import asdict\n",
    "\n",
    "from pprint import pprint\n",
    "import pandas as pd\n",
    "from pymoo.core.result import Result\n",
    "\n",
    "\n",
    "def res_to_df(res: Result) -> pd.DataFrame:\n",
    "    data = []\n",
    "    for i in range(len(res.X)):\n",
    "        x = res.X[i]\n",
    "        f = res.F[i]\n",
    "        accuracy = problem.denormalize(-f[0], 0, 100)\n",
    "        complexity = problem.denormalize(\n",
    "            f[1], problem.get_min_complexity(), problem.get_max_complexity()\n",
    "        )\n",
    "\n",
    "        ch = RawChromosome(x).parse()\n",
    "        params = problem.get_nn_params(ch)\n",
    "\n",
    "        data.append(\n",
    "            {\n",
    "                \"Accuracy\": accuracy,\n",
    "                \"Complexity\": complexity,\n",
    "                **asdict(params),\n",
    "                \"Chromosome\": x,\n",
    "            }\n",
    "        )\n",
    "\n",
    "    return pd.DataFrame(data)\n",
    "\n",
    "\n",
    "df = res_to_df(res)\n",
    "df"
   ]
  },
  {
   "cell_type": "code",
   "execution_count": 7,
   "id": "7b1445ae",
   "metadata": {},
   "outputs": [
    {
     "name": "stdout",
     "output_type": "stream",
     "text": [
      "MLPParams(in_height=13,\n",
      "          out_height=2,\n",
      "          hidden_layers=np.int64(0),\n",
      "          hidden_layers_heights=[np.int64(6), np.int64(6), np.int64(1)],\n",
      "          hidden_layers_bitwidths=[1, 4, 8],\n",
      "          in_bitwidth=5,\n",
      "          activation=<ActivationModule.BINARIZE: 'binary'>,\n",
      "          dropout_rate=0.0,\n",
      "          learning_rate=0.01,\n",
      "          weight_decay=0.005,\n",
      "          epochs=10,\n",
      "          quantization_mode=<QMode.DET: 'det'>)\n"
     ]
    }
   ],
   "source": [
    "ch = RawChromosome(df.loc[0][\"Chromosome\"]).parse()\n",
    "params = problem.get_nn_params(ch)\n",
    "pprint(params)"
   ]
  },
  {
   "cell_type": "code",
   "execution_count": 8,
   "id": "691b5151",
   "metadata": {},
   "outputs": [
    {
     "data": {
      "image/png": "[encoded data removed]",
      "text/plain": [
       "<Figure size 640x480 with 1 Axes>"
      ]
     },
     "metadata": {},
     "output_type": "display_data"
    }
   ],
   "source": [
    "from matplotlib import pyplot as plt\n",
    "\n",
    "from src.models.mlp import MLPEvaluator\n",
    "\n",
    "\n",
    "def hist_accuracies(accuracies: list[float]) -> plt.Figure:\n",
    "    fig, ax = plt.subplots()\n",
    "    ax.hist(accuracies, bins=20, range=(0, 100), edgecolor=\"black\")\n",
    "    ax.set_title(\"Histogram of Accuracies\")\n",
    "    ax.set_xlabel(\"Accuracy\")\n",
    "    ax.set_ylabel(\"Frequency\")\n",
    "    return fig\n",
    "\n",
    "\n",
    "fig = hist_accuracies(df[\"Accuracy\"])"
   ]
  },
  {
   "cell_type": "code",
   "execution_count": 9,
   "id": "3cad46d6",
   "metadata": {},
   "outputs": [
    {
     "data": {
      "image/png": "[encoded data removed]",
      "text/plain": [
       "<Figure size 1000x600 with 1 Axes>"
      ]
     },
     "metadata": {},
     "output_type": "display_data"
    }
   ],
   "source": [
    "from src.nas import plot\n",
    "\n",
    "plot.plot_pareto_front(df[\"Accuracy\"], df[\"Complexity\"])"
   ]
  }
 ],
 "metadata": {
  "kernelspec": {
   "display_name": "venv",
   "language": "python",
   "name": "python3"
  },
  "language_info": {
   "codemirror_mode": {
    "name": "ipython",
    "version": 3
   },
   "file_extension": ".py",
   "mimetype": "text/x-python",
   "name": "python",
   "nbconvert_exporter": "python",
   "pygments_lexer": "ipython3",
   "version": "3.13.2"
  }
 },
 "nbformat": 4,
 "nbformat_minor": 5
}
