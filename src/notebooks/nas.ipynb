{
 "cells": [
  {
   "cell_type": "code",
   "execution_count": 1,
   "id": "9fe4b9a6",
   "metadata": {},
   "outputs": [],
   "source": [
    "import logging\n",
    "\n",
    "logging.basicConfig(\n",
    "    level=logging.INFO,\n",
    "    format=\"%(levelname)s: %(message)s\",\n",
    ")"
   ]
  },
  {
   "cell_type": "code",
   "execution_count": 2,
   "id": "165f61bd",
   "metadata": {},
   "outputs": [
    {
     "data": {
      "text/plain": [
       "(array([0, 1, 0, 0, 0, 0, 0, 0, 0, 0]), array([7, 8, 3, 7, 2, 3, 1, 1, 6, 3]))"
      ]
     },
     "execution_count": 2,
     "metadata": {},
     "output_type": "execute_result"
    }
   ],
   "source": [
    "from src.nas.mlp_chromosome import RawChromosome\n",
    "\n",
    "\n",
    "RawChromosome.get_bounds()"
   ]
  },
  {
   "cell_type": "code",
   "execution_count": 2,
   "id": "cd166169",
   "metadata": {},
   "outputs": [
    {
     "name": "stderr",
     "output_type": "stream",
     "text": [
      "INFO: Loading cached vertebral from /home/nurdaulett/Projects/vut-ip1-nn-quantization/datasets_cache/vertebral_cache.pkl\n"
     ]
    },
    {
     "data": {
      "text/plain": [
       "(np.float64(81.0), np.float64(2851.2))"
      ]
     },
     "execution_count": 2,
     "metadata": {},
     "output_type": "execute_result"
    }
   ],
   "source": [
    "from src.nas.mlp_nas_problem import MlpNasProblem\n",
    "from src.nas.nas import MlpNasParams\n",
    "from src.datasets.vertebral_dataset import VertebralDataset\n",
    "\n",
    "\n",
    "params = MlpNasParams(\n",
    "    epochs=3,\n",
    "    patience=5,\n",
    "    amount_of_evaluations=1,\n",
    "    population_size=30,\n",
    "    population_offspring_count=10,\n",
    "    algorithm_generations=3,\n",
    "    population_store_file=\"population.csv\",\n",
    ")\n",
    "problem = MlpNasProblem(params, VertebralDataset)\n",
    "\n",
    "problem._get_min_complexity(), problem._get_max_complexity()"
   ]
  },
  {
   "cell_type": "code",
   "execution_count": null,
   "id": "7d40b06a",
   "metadata": {},
   "outputs": [
    {
     "name": "stderr",
     "output_type": "stream",
     "text": [
      "INFO: Population file loaded successfully\n"
     ]
    }
   ],
   "source": [
    "from pymoo.optimize import minimize\n",
    "\n",
    "from src.constants import SEED\n",
    "\n",
    "\n",
    "algorithm = params.get_algorithm()\n",
    "termination = params.get_termination()\n",
    "\n",
    "res = minimize(problem, algorithm, verbose=True, seed=SEED, termination=termination)\n",
    "\n",
    "params.store_population(res, params.population_store_file)\n",
    "\n",
    "print(f\"Solutions: {res.X}\")\n",
    "print(f\"Objectives: {res.F}\")"
   ]
  },
  {
   "cell_type": "code",
   "execution_count": 8,
   "id": "41dcfc03",
   "metadata": {},
   "outputs": [
    {
     "data": {
      "text/html": [
       "<div>\n",
       "<style scoped>\n",
       "    .dataframe tbody tr th:only-of-type {\n",
       "        vertical-align: middle;\n",
       "    }\n",
       "\n",
       "    .dataframe tbody tr th {\n",
       "        vertical-align: top;\n",
       "    }\n",
       "\n",
       "    .dataframe thead th {\n",
       "        text-align: right;\n",
       "    }\n",
       "</style>\n",
       "<table border=\"1\" class=\"dataframe\">\n",
       "  <thead>\n",
       "    <tr style=\"text-align: right;\">\n",
       "      <th></th>\n",
       "      <th>Accuracy</th>\n",
       "      <th>Complexity</th>\n",
       "      <th>in_height</th>\n",
       "      <th>hidden_height</th>\n",
       "      <th>out_height</th>\n",
       "      <th>model_layers</th>\n",
       "      <th>in_bitwidth</th>\n",
       "      <th>hidden_bitwidth</th>\n",
       "      <th>activation</th>\n",
       "      <th>dropout_rate</th>\n",
       "      <th>learning_rate</th>\n",
       "      <th>weight_decay</th>\n",
       "      <th>epochs</th>\n",
       "      <th>quantization_mode</th>\n",
       "      <th>Chromosome</th>\n",
       "    </tr>\n",
       "  </thead>\n",
       "  <tbody>\n",
       "    <tr>\n",
       "      <th>0</th>\n",
       "      <td>67.741935</td>\n",
       "      <td>96.261101</td>\n",
       "      <td>6</td>\n",
       "      <td>1</td>\n",
       "      <td>3</td>\n",
       "      <td>3</td>\n",
       "      <td>6</td>\n",
       "      <td>7</td>\n",
       "      <td>ActivationModule.BINARIZE_RESTE</td>\n",
       "      <td>0.2</td>\n",
       "      <td>0.0100</td>\n",
       "      <td>0.005</td>\n",
       "      <td>3</td>\n",
       "      <td>QMode.STOCH</td>\n",
       "      <td>[5, 1, 1, 6, 2, 1, 1, 0, 6, 1]</td>\n",
       "    </tr>\n",
       "    <tr>\n",
       "      <th>1</th>\n",
       "      <td>50.000000</td>\n",
       "      <td>81.000000</td>\n",
       "      <td>6</td>\n",
       "      <td>1</td>\n",
       "      <td>3</td>\n",
       "      <td>2</td>\n",
       "      <td>3</td>\n",
       "      <td>5</td>\n",
       "      <td>ActivationModule.TERNARIZE</td>\n",
       "      <td>0.0</td>\n",
       "      <td>0.0020</td>\n",
       "      <td>0.001</td>\n",
       "      <td>3</td>\n",
       "      <td>QMode.DET</td>\n",
       "      <td>[2, 1, 0, 4, 0, 3, 0, 0, 4, 3]</td>\n",
       "    </tr>\n",
       "    <tr>\n",
       "      <th>2</th>\n",
       "      <td>74.193548</td>\n",
       "      <td>424.940760</td>\n",
       "      <td>6</td>\n",
       "      <td>4</td>\n",
       "      <td>3</td>\n",
       "      <td>3</td>\n",
       "      <td>6</td>\n",
       "      <td>4</td>\n",
       "      <td>ActivationModule.BINARIZE</td>\n",
       "      <td>0.1</td>\n",
       "      <td>0.0002</td>\n",
       "      <td>0.010</td>\n",
       "      <td>3</td>\n",
       "      <td>QMode.DET</td>\n",
       "      <td>[5, 4, 1, 3, 1, 2, 0, 1, 1, 0]</td>\n",
       "    </tr>\n",
       "    <tr>\n",
       "      <th>3</th>\n",
       "      <td>72.580645</td>\n",
       "      <td>388.800000</td>\n",
       "      <td>6</td>\n",
       "      <td>6</td>\n",
       "      <td>3</td>\n",
       "      <td>2</td>\n",
       "      <td>4</td>\n",
       "      <td>4</td>\n",
       "      <td>ActivationModule.BINARIZE_RESTE</td>\n",
       "      <td>0.1</td>\n",
       "      <td>0.0100</td>\n",
       "      <td>0.010</td>\n",
       "      <td>3</td>\n",
       "      <td>QMode.DET</td>\n",
       "      <td>[3, 6, 0, 3, 1, 1, 0, 1, 6, 0]</td>\n",
       "    </tr>\n",
       "  </tbody>\n",
       "</table>\n",
       "</div>"
      ],
      "text/plain": [
       "    Accuracy  Complexity  in_height  hidden_height  out_height  model_layers  \\\n",
       "0  67.741935   96.261101          6              1           3             3   \n",
       "1  50.000000   81.000000          6              1           3             2   \n",
       "2  74.193548  424.940760          6              4           3             3   \n",
       "3  72.580645  388.800000          6              6           3             2   \n",
       "\n",
       "   in_bitwidth  hidden_bitwidth                       activation  \\\n",
       "0            6                7  ActivationModule.BINARIZE_RESTE   \n",
       "1            3                5       ActivationModule.TERNARIZE   \n",
       "2            6                4        ActivationModule.BINARIZE   \n",
       "3            4                4  ActivationModule.BINARIZE_RESTE   \n",
       "\n",
       "   dropout_rate  learning_rate  weight_decay  epochs quantization_mode  \\\n",
       "0           0.2         0.0100         0.005       3       QMode.STOCH   \n",
       "1           0.0         0.0020         0.001       3         QMode.DET   \n",
       "2           0.1         0.0002         0.010       3         QMode.DET   \n",
       "3           0.1         0.0100         0.010       3         QMode.DET   \n",
       "\n",
       "                       Chromosome  \n",
       "0  [5, 1, 1, 6, 2, 1, 1, 0, 6, 1]  \n",
       "1  [2, 1, 0, 4, 0, 3, 0, 0, 4, 3]  \n",
       "2  [5, 4, 1, 3, 1, 2, 0, 1, 1, 0]  \n",
       "3  [3, 6, 0, 3, 1, 1, 0, 1, 6, 0]  "
      ]
     },
     "execution_count": 8,
     "metadata": {},
     "output_type": "execute_result"
    }
   ],
   "source": [
    "from dataclasses import asdict\n",
    "\n",
    "from pprint import pprint\n",
    "import pandas as pd\n",
    "\n",
    "\n",
    "df = pd.DataFrame()\n",
    "\n",
    "for i in range(len(res.X)):\n",
    "    x = res.X[i]\n",
    "    f = res.F[i]\n",
    "    accuracy = problem.denormalize(-f[0], 0, 100)\n",
    "    complexity = problem.denormalize(f[1], problem._get_min_complexity(), problem._get_max_complexity())\n",
    "    ch = RawChromosome(x).parse()\n",
    "    params = problem.get_nn_params(ch)\n",
    "    \n",
    "    \n",
    "    df = pd.concat([\n",
    "        df,\n",
    "        pd.DataFrame([{\n",
    "            \"Accuracy\": accuracy,\n",
    "            \"Complexity\": complexity,\n",
    "            **asdict(params),\n",
    "            \"Chromosome\": x,\n",
    "        }])\n",
    "    ], ignore_index=True)\n",
    "\n",
    "df"
   ]
  },
  {
   "cell_type": "code",
   "execution_count": null,
   "id": "7b1445ae",
   "metadata": {},
   "outputs": [
    {
     "name": "stdout",
     "output_type": "stream",
     "text": [
      "MLPParams(in_height=6,\n",
      "          hidden_height=np.int64(3),\n",
      "          out_height=3,\n",
      "          model_layers=np.int64(3),\n",
      "          in_bitwidth=1,\n",
      "          hidden_bitwidth=2,\n",
      "          activation=<ActivationModule.BINARIZE_RESTE: 'binary_ReSTE'>,\n",
      "          dropout_rate=0.2,\n",
      "          learning_rate=0.002,\n",
      "          weight_decay=0.005,\n",
      "          epochs=10,\n",
      "          quantization_mode=<QMode.STOCH: 'stoch'>)\n"
     ]
    }
   ],
   "source": [
    "ch = RawChromosome(df.loc[0][\"Chromosome\"]).parse()\n",
    "params = problem.get_nn_params(ch)\n",
    "pprint(params)"
   ]
  },
  {
   "cell_type": "code",
   "execution_count": null,
   "id": "691b5151",
   "metadata": {},
   "outputs": [
    {
     "data": {
      "image/png": "[encoded data removed]",
      "text/plain": [
       "<Figure size 640x480 with 1 Axes>"
      ]
     },
     "metadata": {},
     "output_type": "display_data"
    }
   ],
   "source": [
    "from matplotlib import pyplot as plt\n",
    "\n",
    "from src.models.mlp import MLPEvaluator\n",
    "\n",
    "\n",
    "def hist_accuracies(accuracies: list[float]) -> plt.Figure:\n",
    "    fig, ax = plt.subplots()\n",
    "    ax.hist(accuracies, bins=20, range=(0, 100), edgecolor=\"black\")\n",
    "    ax.set_title(\"Histogram of Accuracies\")\n",
    "    ax.set_xlabel(\"Accuracy\")\n",
    "    ax.set_ylabel(\"Frequency\")\n",
    "    return fig\n",
    "\n",
    "\n",
    "fig = hist_accuracies(df[\"Accuracy\"])"
   ]
  },
  {
   "cell_type": "code",
   "execution_count": null,
   "id": "3cad46d6",
   "metadata": {},
   "outputs": [
    {
     "data": {
      "image/png": "[encoded data removed]",
      "text/plain": [
       "<Figure size 1000x600 with 1 Axes>"
      ]
     },
     "metadata": {},
     "output_type": "display_data"
    }
   ],
   "source": [
    "from src.nas import plot\n",
    "\n",
    "plot.plot_pareto_front(df[\"Accuracy\"], df[\"Complexity\"])\n"
   ]
  }
 ],
 "metadata": {
  "kernelspec": {
   "display_name": "venv",
   "language": "python",
   "name": "python3"
  },
  "language_info": {
   "codemirror_mode": {
    "name": "ipython",
    "version": 3
   },
   "file_extension": ".py",
   "mimetype": "text/x-python",
   "name": "python",
   "nbconvert_exporter": "python",
   "pygments_lexer": "ipython3",
   "version": "3.13.2"
  }
 },
 "nbformat": 4,
 "nbformat_minor": 5
}
