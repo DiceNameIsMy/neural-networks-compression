{
 "cells": [
  {
   "cell_type": "code",
   "execution_count": 1,
   "id": "9fe4b9a6",
   "metadata": {},
   "outputs": [],
   "source": [
    "import logging\n",
    "import sys\n",
    "from pathlib import Path\n",
    "\n",
    "\n",
    "logging.basicConfig(\n",
    "    level=logging.INFO,\n",
    "    format=\"%(levelname)s: %(message)s\",\n",
    ")\n",
    "\n",
    "# Add the src directory to the Python path\n",
    "sys.path.append(str(Path.cwd().parent.parent))"
   ]
  },
  {
   "cell_type": "code",
   "execution_count": 2,
   "id": "165f61bd",
   "metadata": {},
   "outputs": [
    {
     "data": {
      "text/plain": [
       "(array([0, 0, 1, 0, 1, 0, 1, 0, 0, 0, 0, 0, 0, 0, 0]),\n",
       " array([7, 3, 8, 7, 8, 7, 8, 7, 2, 3, 3, 1, 1, 6, 3]))"
      ]
     },
     "execution_count": 2,
     "metadata": {},
     "output_type": "execute_result"
    }
   ],
   "source": [
    "from src.nas.mlp_chromosome import RawChromosome\n",
    "\n",
    "\n",
    "low, high = RawChromosome.get_bounds()\n",
    "low, high"
   ]
  },
  {
   "cell_type": "code",
   "execution_count": 9,
   "id": "cd166169",
   "metadata": {},
   "outputs": [
    {
     "data": {
      "text/plain": [
       "(162.0, np.float64(2160.0))"
      ]
     },
     "execution_count": 9,
     "metadata": {},
     "output_type": "execute_result"
    }
   ],
   "source": [
    "from src.nas.mlp_nas_problem import MlpNasProblem\n",
    "from src.nas.nas import MlpNasParams\n",
    "from src.datasets.vertebral_dataset import VertebralDataset\n",
    "from src.datasets.breast_cancer_dataset import BreastCancerDataset\n",
    "\n",
    "\n",
    "DatasetClass = VertebralDataset\n",
    "params = MlpNasParams(\n",
    "    epochs=10,\n",
    "    patience=5,\n",
    "    amount_of_evaluations=1,\n",
    "    population_size=50,\n",
    "    population_offspring_count=20,\n",
    "    algorithm_generations=1,\n",
    "    population_store_file=DatasetClass.__name__ + \"_population.csv\",\n",
    ")\n",
    "problem = MlpNasProblem(params, DatasetClass)\n",
    "\n",
    "problem.get_min_complexity(), problem.get_max_complexity()"
   ]
  },
  {
   "cell_type": "code",
   "execution_count": 10,
   "id": "f3200630",
   "metadata": {},
   "outputs": [
    {
     "data": {
      "text/plain": [
       "(162.0, np.float64(2160.0))"
      ]
     },
     "execution_count": 10,
     "metadata": {},
     "output_type": "execute_result"
    }
   ],
   "source": [
    "plow = problem.get_nn_params(RawChromosome(low).parse())\n",
    "phigh = problem.get_nn_params(RawChromosome(high).parse())\n",
    "\n",
    "problem.compute_nn_complexity(plow), problem.compute_nn_complexity(phigh)"
   ]
  },
  {
   "cell_type": "code",
   "execution_count": 11,
   "id": "7d40b06a",
   "metadata": {},
   "outputs": [
    {
     "name": "stderr",
     "output_type": "stream",
     "text": [
      "INFO: Population file is empty. Using random sampling\n"
     ]
    },
    {
     "name": "stdout",
     "output_type": "stream",
     "text": [
      "==========================================================\n",
      "n_gen  |  n_eval  | n_nds  |      eps      |   indicator  \n",
      "==========================================================\n",
      "     1 |       50 |      5 |             - |             -\n",
      "Solutions: [[5 0 6 7 5 7 1 4 0 3 2 0 1 4 3]\n",
      " [2 0 7 4 8 3 8 2 0 1 3 0 1 6 0]\n",
      " [6 1 1 4 2 5 5 4 0 1 2 0 0 6 3]\n",
      " [3 0 2 1 7 4 5 6 2 0 3 0 0 2 0]\n",
      " [4 0 7 4 1 7 7 3 0 0 3 0 0 5 3]]\n",
      "Objectives: [[-0.80645161  0.00275554  0.07142857]\n",
      " [-0.38709677  0.          0.        ]\n",
      " [-0.5         0.          0.28571429]\n",
      " [-0.46774194  0.08108108  0.        ]\n",
      " [-0.74193548  0.10718336  0.03571429]]\n"
     ]
    }
   ],
   "source": [
    "from pymoo.optimize import minimize\n",
    "\n",
    "from src.constants import SEED\n",
    "\n",
    "\n",
    "algorithm = params.get_algorithm()\n",
    "termination = params.get_termination()\n",
    "\n",
    "res = minimize(problem, algorithm, verbose=True, seed=SEED, termination=termination)\n",
    "\n",
    "params.store_population(res, params.population_store_file)\n",
    "\n",
    "print(f\"Solutions: {res.X}\")\n",
    "print(f\"Objectives: {res.F}\")"
   ]
  },
  {
   "cell_type": "code",
   "execution_count": 12,
   "id": "41dcfc03",
   "metadata": {},
   "outputs": [
    {
     "data": {
      "text/html": [
       "<div>\n",
       "<style scoped>\n",
       "    .dataframe tbody tr th:only-of-type {\n",
       "        vertical-align: middle;\n",
       "    }\n",
       "\n",
       "    .dataframe tbody tr th {\n",
       "        vertical-align: top;\n",
       "    }\n",
       "\n",
       "    .dataframe thead th {\n",
       "        text-align: right;\n",
       "    }\n",
       "</style>\n",
       "<table border=\"1\" class=\"dataframe\">\n",
       "  <thead>\n",
       "    <tr style=\"text-align: right;\">\n",
       "      <th></th>\n",
       "      <th>Accuracy</th>\n",
       "      <th>Complexity</th>\n",
       "      <th>layers</th>\n",
       "      <th>activation</th>\n",
       "      <th>quantization_mode</th>\n",
       "      <th>dropout_rate</th>\n",
       "      <th>epochs</th>\n",
       "      <th>learning_rate</th>\n",
       "      <th>weight_decay</th>\n",
       "      <th>Chromosome</th>\n",
       "    </tr>\n",
       "  </thead>\n",
       "  <tbody>\n",
       "    <tr>\n",
       "      <th>0</th>\n",
       "      <td>80.645161</td>\n",
       "      <td>167.505570</td>\n",
       "      <td>[{'height': 6, 'bitwidth': 6}, {'height': 3, '...</td>\n",
       "      <td>{'activation': ActivationModule.TERNARIZE, 'bi...</td>\n",
       "      <td>QMode.DET</td>\n",
       "      <td>0.0</td>\n",
       "      <td>10</td>\n",
       "      <td>0.0020</td>\n",
       "      <td>0.001</td>\n",
       "      <td>[5, 0, 6, 7, 5, 7, 1, 4, 0, 3, 2, 0, 1, 4, 3]</td>\n",
       "    </tr>\n",
       "    <tr>\n",
       "      <th>1</th>\n",
       "      <td>38.709677</td>\n",
       "      <td>162.000000</td>\n",
       "      <td>[{'height': 6, 'bitwidth': 3}, {'height': 3, '...</td>\n",
       "      <td>{'activation': ActivationModule.BINARIZE_RESTE...</td>\n",
       "      <td>QMode.DET</td>\n",
       "      <td>0.0</td>\n",
       "      <td>10</td>\n",
       "      <td>0.0100</td>\n",
       "      <td>0.010</td>\n",
       "      <td>[2, 0, 7, 4, 8, 3, 8, 2, 0, 1, 3, 0, 1, 6, 0]</td>\n",
       "    </tr>\n",
       "    <tr>\n",
       "      <th>2</th>\n",
       "      <td>50.000000</td>\n",
       "      <td>162.000000</td>\n",
       "      <td>[{'height': 6, 'bitwidth': 7}, {'height': 1, '...</td>\n",
       "      <td>{'activation': ActivationModule.BINARIZE_RESTE...</td>\n",
       "      <td>QMode.DET</td>\n",
       "      <td>0.0</td>\n",
       "      <td>10</td>\n",
       "      <td>0.0100</td>\n",
       "      <td>0.001</td>\n",
       "      <td>[6, 1, 1, 4, 2, 5, 5, 4, 0, 1, 2, 0, 0, 6, 3]</td>\n",
       "    </tr>\n",
       "    <tr>\n",
       "      <th>3</th>\n",
       "      <td>46.774194</td>\n",
       "      <td>324.000000</td>\n",
       "      <td>[{'height': 6, 'bitwidth': 4}, {'height': 3, '...</td>\n",
       "      <td>{'activation': ActivationModule.RELU, 'binary_...</td>\n",
       "      <td>QMode.DET</td>\n",
       "      <td>0.2</td>\n",
       "      <td>10</td>\n",
       "      <td>0.0005</td>\n",
       "      <td>0.010</td>\n",
       "      <td>[3, 0, 2, 1, 7, 4, 5, 6, 2, 0, 3, 0, 0, 2, 0]</td>\n",
       "    </tr>\n",
       "    <tr>\n",
       "      <th>4</th>\n",
       "      <td>74.193548</td>\n",
       "      <td>376.152351</td>\n",
       "      <td>[{'height': 6, 'bitwidth': 5}, {'height': 3, '...</td>\n",
       "      <td>{'activation': ActivationModule.RELU, 'binary_...</td>\n",
       "      <td>QMode.DET</td>\n",
       "      <td>0.0</td>\n",
       "      <td>10</td>\n",
       "      <td>0.0050</td>\n",
       "      <td>0.001</td>\n",
       "      <td>[4, 0, 7, 4, 1, 7, 7, 3, 0, 0, 3, 0, 0, 5, 3]</td>\n",
       "    </tr>\n",
       "  </tbody>\n",
       "</table>\n",
       "</div>"
      ],
      "text/plain": [
       "    Accuracy  Complexity                                             layers  \\\n",
       "0  80.645161  167.505570  [{'height': 6, 'bitwidth': 6}, {'height': 3, '...   \n",
       "1  38.709677  162.000000  [{'height': 6, 'bitwidth': 3}, {'height': 3, '...   \n",
       "2  50.000000  162.000000  [{'height': 6, 'bitwidth': 7}, {'height': 1, '...   \n",
       "3  46.774194  324.000000  [{'height': 6, 'bitwidth': 4}, {'height': 3, '...   \n",
       "4  74.193548  376.152351  [{'height': 6, 'bitwidth': 5}, {'height': 3, '...   \n",
       "\n",
       "                                          activation quantization_mode  \\\n",
       "0  {'activation': ActivationModule.TERNARIZE, 'bi...         QMode.DET   \n",
       "1  {'activation': ActivationModule.BINARIZE_RESTE...         QMode.DET   \n",
       "2  {'activation': ActivationModule.BINARIZE_RESTE...         QMode.DET   \n",
       "3  {'activation': ActivationModule.RELU, 'binary_...         QMode.DET   \n",
       "4  {'activation': ActivationModule.RELU, 'binary_...         QMode.DET   \n",
       "\n",
       "   dropout_rate  epochs  learning_rate  weight_decay  \\\n",
       "0           0.0      10         0.0020         0.001   \n",
       "1           0.0      10         0.0100         0.010   \n",
       "2           0.0      10         0.0100         0.001   \n",
       "3           0.2      10         0.0005         0.010   \n",
       "4           0.0      10         0.0050         0.001   \n",
       "\n",
       "                                      Chromosome  \n",
       "0  [5, 0, 6, 7, 5, 7, 1, 4, 0, 3, 2, 0, 1, 4, 3]  \n",
       "1  [2, 0, 7, 4, 8, 3, 8, 2, 0, 1, 3, 0, 1, 6, 0]  \n",
       "2  [6, 1, 1, 4, 2, 5, 5, 4, 0, 1, 2, 0, 0, 6, 3]  \n",
       "3  [3, 0, 2, 1, 7, 4, 5, 6, 2, 0, 3, 0, 0, 2, 0]  \n",
       "4  [4, 0, 7, 4, 1, 7, 7, 3, 0, 0, 3, 0, 0, 5, 3]  "
      ]
     },
     "execution_count": 12,
     "metadata": {},
     "output_type": "execute_result"
    }
   ],
   "source": [
    "from dataclasses import asdict\n",
    "\n",
    "from pprint import pprint\n",
    "import pandas as pd\n",
    "from pymoo.core.result import Result\n",
    "\n",
    "\n",
    "def res_to_df(res: Result) -> pd.DataFrame:\n",
    "    data = []\n",
    "    for i in range(len(res.X)):\n",
    "        x = res.X[i]\n",
    "        f = res.F[i]\n",
    "        accuracy = problem.denormalize(-f[0], 0, 100)\n",
    "        complexity = problem.denormalize(\n",
    "            f[1], problem.get_min_complexity(), problem.get_max_complexity()\n",
    "        )\n",
    "\n",
    "        ch = RawChromosome(x).parse()\n",
    "        params = problem.get_nn_params(ch)\n",
    "\n",
    "        data.append(\n",
    "            {\n",
    "                \"Accuracy\": accuracy,\n",
    "                \"Complexity\": complexity,\n",
    "                **asdict(params),\n",
    "                \"Chromosome\": x,\n",
    "            }\n",
    "        )\n",
    "\n",
    "    return pd.DataFrame(data)\n",
    "\n",
    "\n",
    "df = res_to_df(res)\n",
    "df"
   ]
  },
  {
   "cell_type": "code",
   "execution_count": 13,
   "id": "7b1445ae",
   "metadata": {},
   "outputs": [
    {
     "name": "stdout",
     "output_type": "stream",
     "text": [
      "MLPParams(layers=[FCLayerParams(height=6, bitwidth=6),\n",
      "                  FCLayerParams(height=3, bitwidth=32)],\n",
      "          activation=ActivationParams(activation=<ActivationModule.TERNARIZE: 'ternary'>,\n",
      "                                      binary_quantization_mode=<QMode.DET: 'det'>,\n",
      "                                      reste_o=np.int64(2),\n",
      "                                      reste_threshold=1.5),\n",
      "          quantization_mode=<QMode.DET: 'det'>,\n",
      "          dropout_rate=0.0,\n",
      "          epochs=10,\n",
      "          learning_rate=0.002,\n",
      "          weight_decay=0.001)\n"
     ]
    }
   ],
   "source": [
    "ch = RawChromosome(df.loc[0][\"Chromosome\"]).parse()\n",
    "params = problem.get_nn_params(ch)\n",
    "pprint(params)"
   ]
  },
  {
   "cell_type": "code",
   "execution_count": 14,
   "id": "691b5151",
   "metadata": {},
   "outputs": [
    {
     "data": {
      "image/png": "[encoded data removed]",
      "text/plain": [
       "<Figure size 640x480 with 1 Axes>"
      ]
     },
     "metadata": {},
     "output_type": "display_data"
    }
   ],
   "source": [
    "from matplotlib import pyplot as plt\n",
    "\n",
    "from src.models.mlp import MLPEvaluator\n",
    "\n",
    "\n",
    "def hist_accuracies(accuracies: list[float], bins=20) -> plt.Figure:\n",
    "    fig, ax = plt.subplots()\n",
    "    ax.hist(accuracies, bins=bins, range=(0, 100), edgecolor=\"black\")\n",
    "    ax.set_title(\"Histogram of Accuracies\")\n",
    "    ax.set_xlabel(\"Accuracy\")\n",
    "    ax.set_ylabel(\"Frequency\")\n",
    "    return fig\n",
    "\n",
    "\n",
    "fig = hist_accuracies(df[\"Accuracy\"])"
   ]
  },
  {
   "cell_type": "code",
   "execution_count": 15,
   "id": "3cad46d6",
   "metadata": {},
   "outputs": [
    {
     "data": {
      "image/png": "[encoded data removed]",
      "text/plain": [
       "<Figure size 1000x600 with 1 Axes>"
      ]
     },
     "metadata": {},
     "output_type": "display_data"
    }
   ],
   "source": [
    "from src.nas import plot\n",
    "\n",
    "plot.plot_pareto_front(df[\"Accuracy\"], df[\"Complexity\"])"
   ]
  }
 ],
 "metadata": {
  "kernelspec": {
   "display_name": "venv",
   "language": "python",
   "name": "python3"
  },
  "language_info": {
   "codemirror_mode": {
    "name": "ipython",
    "version": 3
   },
   "file_extension": ".py",
   "mimetype": "text/x-python",
   "name": "python",
   "nbconvert_exporter": "python",
   "pygments_lexer": "ipython3",
   "version": "3.13.2"
  }
 },
 "nbformat": 4,
 "nbformat_minor": 5
}
