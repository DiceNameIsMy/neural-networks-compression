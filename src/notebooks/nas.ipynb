{
 "cells": [
  {
   "cell_type": "code",
   "execution_count": 1,
   "id": "9fe4b9a6",
   "metadata": {},
   "outputs": [],
   "source": [
    "import logging\n",
    "import sys\n",
    "from pathlib import Path\n",
    "\n",
    "\n",
    "logging.basicConfig(\n",
    "    level=logging.INFO,\n",
    "    format=\"%(levelname)s: %(message)s\",\n",
    "    force=True,\n",
    ")\n",
    "\n",
    "# Add the src directory to the Python path\n",
    "sys.path.append(str(Path.cwd().parent.parent))"
   ]
  },
  {
   "cell_type": "code",
   "execution_count": 2,
   "id": "165f61bd",
   "metadata": {},
   "outputs": [
    {
     "data": {
      "text/plain": [
       "(array([0, 0, 1, 0, 1, 0, 1, 0, 0, 0, 0, 0, 0, 0, 0]),\n",
       " array([7, 3, 8, 7, 8, 7, 8, 7, 2, 3, 3, 1, 1, 6, 3]))"
      ]
     },
     "execution_count": 2,
     "metadata": {},
     "output_type": "execute_result"
    }
   ],
   "source": [
    "from src.nas.mlp_chromosome import RawMLPChromosome\n",
    "\n",
    "\n",
    "low, high = RawMLPChromosome.get_bounds()\n",
    "low, high"
   ]
  },
  {
   "cell_type": "code",
   "execution_count": 3,
   "id": "cd166169",
   "metadata": {},
   "outputs": [
    {
     "name": "stderr",
     "output_type": "stream",
     "text": [
      "INFO: Loading cached vertebral from /home/nur/Projects/vut-ip1-nn-quantization/datasets_cache/vertebral_cache.pkl\n",
      "INFO: Loading cached breast_cancer from /home/nur/Projects/vut-ip1-nn-quantization/datasets_cache/breast_cancer_cache.pkl\n"
     ]
    },
    {
     "data": {
      "text/plain": [
       "(162.0, np.float64(2160.0))"
      ]
     },
     "execution_count": 3,
     "metadata": {},
     "output_type": "execute_result"
    }
   ],
   "source": [
    "from src.nas.mlp_nas_problem import MlpNasProblem\n",
    "from src.nas.nas import NasParams\n",
    "from src.datasets.vertebral_dataset import VertebralDataset\n",
    "from src.datasets.breast_cancer_dataset import BreastCancerDataset\n",
    "from src.nas.plot import hist_accuracies\n",
    "\n",
    "\n",
    "DatasetClass = VertebralDataset\n",
    "params = NasParams(\n",
    "    epochs=10,\n",
    "    patience=5,\n",
    "    amount_of_evaluations=1,\n",
    "    population_size=10,\n",
    "    population_offspring_count=4,\n",
    "    algorithm_generations=1,\n",
    "    # population_store_file=DatasetClass.__name__ + \"_population.csv\",\n",
    ")\n",
    "problem = MlpNasProblem(params, DatasetClass)\n",
    "\n",
    "problem.get_min_complexity(), problem.get_max_complexity()"
   ]
  },
  {
   "cell_type": "code",
   "execution_count": 4,
   "id": "f3200630",
   "metadata": {},
   "outputs": [
    {
     "data": {
      "text/plain": [
       "(162.0, np.float64(2160.0))"
      ]
     },
     "execution_count": 4,
     "metadata": {},
     "output_type": "execute_result"
    }
   ],
   "source": [
    "plow = problem.get_nn_params(RawMLPChromosome(low).parse())\n",
    "phigh = problem.get_nn_params(RawMLPChromosome(high).parse())\n",
    "\n",
    "problem.compute_nn_complexity(plow), problem.compute_nn_complexity(phigh)"
   ]
  },
  {
   "cell_type": "code",
   "execution_count": 5,
   "id": "7d40b06a",
   "metadata": {},
   "outputs": [
    {
     "name": "stderr",
     "output_type": "stream",
     "text": [
      "INFO: No population file provided. Using random sampling\n"
     ]
    },
    {
     "name": "stdout",
     "output_type": "stream",
     "text": [
      "==========================================================\n",
      "n_gen  |  n_eval  | n_nds  |      eps      |   indicator  \n",
      "==========================================================\n",
      "     1 |       10 |      3 |             - |             -\n",
      "Solutions: [[4 0 3 7 2 0 4 4 1 0 3 0 0 5 3]\n",
      " [7 1 4 1 8 5 6 4 2 1 3 0 1 5 1]\n",
      " [0 0 7 6 1 0 1 2 2 0 0 1 0 4 2]]\n",
      "Objectives: [[-0.70967742  0.10718336  0.03571429]\n",
      " [-0.58064516  0.07027027  0.21428571]\n",
      " [-0.29032258  0.          0.        ]]\n"
     ]
    }
   ],
   "source": [
    "from pymoo.optimize import minimize\n",
    "\n",
    "from src.constants import SEED\n",
    "\n",
    "\n",
    "algorithm = params.get_algorithm()\n",
    "termination = params.get_termination()\n",
    "\n",
    "res = minimize(problem, algorithm, verbose=True, seed=SEED, termination=termination)\n",
    "\n",
    "if params.population_store_file is not None:\n",
    "    params.store_population(res, params.population_store_file)\n",
    "\n",
    "print(f\"Solutions: {res.X}\")\n",
    "print(f\"Objectives: {res.F}\")"
   ]
  },
  {
   "cell_type": "code",
   "execution_count": 6,
   "id": "41dcfc03",
   "metadata": {},
   "outputs": [
    {
     "data": {
      "text/html": [
       "<div>\n",
       "<style scoped>\n",
       "    .dataframe tbody tr th:only-of-type {\n",
       "        vertical-align: middle;\n",
       "    }\n",
       "\n",
       "    .dataframe tbody tr th {\n",
       "        vertical-align: top;\n",
       "    }\n",
       "\n",
       "    .dataframe thead th {\n",
       "        text-align: right;\n",
       "    }\n",
       "</style>\n",
       "<table border=\"1\" class=\"dataframe\">\n",
       "  <thead>\n",
       "    <tr style=\"text-align: right;\">\n",
       "      <th></th>\n",
       "      <th>Accuracy</th>\n",
       "      <th>Complexity</th>\n",
       "      <th>fc</th>\n",
       "      <th>train</th>\n",
       "      <th>Chromosome</th>\n",
       "    </tr>\n",
       "  </thead>\n",
       "  <tbody>\n",
       "    <tr>\n",
       "      <th>0</th>\n",
       "      <td>70.967742</td>\n",
       "      <td>376.152351</td>\n",
       "      <td>{'layers': [{'height': 6, 'weight_qmode': Weig...</td>\n",
       "      <td>{'train_loader': ([tensor([[ 63.7724,  12.7634...</td>\n",
       "      <td>[4, 0, 3, 7, 2, 0, 4, 4, 1, 0, 3, 0, 0, 5, 3]</td>\n",
       "    </tr>\n",
       "    <tr>\n",
       "      <th>1</th>\n",
       "      <td>58.064516</td>\n",
       "      <td>302.400000</td>\n",
       "      <td>{'layers': [{'height': 6, 'weight_qmode': Weig...</td>\n",
       "      <td>{'train_loader': ([tensor([[ 54.9194,  21.0623...</td>\n",
       "      <td>[7, 1, 4, 1, 8, 5, 6, 4, 2, 1, 3, 0, 1, 5, 1]</td>\n",
       "    </tr>\n",
       "    <tr>\n",
       "      <th>2</th>\n",
       "      <td>29.032258</td>\n",
       "      <td>162.000000</td>\n",
       "      <td>{'layers': [{'height': 6, 'weight_qmode': Weig...</td>\n",
       "      <td>{'train_loader': ([tensor([[ 52.8622,   9.4104...</td>\n",
       "      <td>[0, 0, 7, 6, 1, 0, 1, 2, 2, 0, 0, 1, 0, 4, 2]</td>\n",
       "    </tr>\n",
       "  </tbody>\n",
       "</table>\n",
       "</div>"
      ],
      "text/plain": [
       "    Accuracy  Complexity                                                 fc  \\\n",
       "0  70.967742  376.152351  {'layers': [{'height': 6, 'weight_qmode': Weig...   \n",
       "1  58.064516  302.400000  {'layers': [{'height': 6, 'weight_qmode': Weig...   \n",
       "2  29.032258  162.000000  {'layers': [{'height': 6, 'weight_qmode': Weig...   \n",
       "\n",
       "                                               train  \\\n",
       "0  {'train_loader': ([tensor([[ 38.1266,   6.5576...   \n",
       "1  {'train_loader': ([tensor([[ 82.9053,  29.8941...   \n",
       "2  {'train_loader': ([tensor([[ 43.7183,   9.8120...   \n",
       "\n",
       "                                      Chromosome  \n",
       "0  [4, 0, 3, 7, 2, 0, 4, 4, 1, 0, 3, 0, 0, 5, 3]  \n",
       "1  [7, 1, 4, 1, 8, 5, 6, 4, 2, 1, 3, 0, 1, 5, 1]  \n",
       "2  [0, 0, 7, 6, 1, 0, 1, 2, 2, 0, 0, 1, 0, 4, 2]  "
      ]
     },
     "execution_count": 6,
     "metadata": {},
     "output_type": "execute_result"
    }
   ],
   "source": [
    "df = problem.result_as_df(res)\n",
    "df"
   ]
  },
  {
   "cell_type": "code",
   "execution_count": 7,
   "id": "7b1445ae",
   "metadata": {},
   "outputs": [
    {
     "name": "stdout",
     "output_type": "stream",
     "text": [
      "MLPParams(fc=FCParams(layers=[FCLayerParams(height=6,\n",
      "                                            weight_qmode=<WeightQuantMode.NBITS: 'nbits'>,\n",
      "                                            weight_bitwidth=5),\n",
      "                              FCLayerParams(height=3,\n",
      "                                            weight_qmode=<WeightQuantMode.NONE: 'none'>,\n",
      "                                            weight_bitwidth=32)],\n",
      "                      activation=ActivationParams(activation=<ActivationModule.RELU: 'relu'>,\n",
      "                                                  binary_qmode=<QMode.DET: 'det'>,\n",
      "                                                  reste_o=4.0,\n",
      "                                                  reste_threshold=1.5),\n",
      "                      qmode=<QMode.DET: 'det'>,\n",
      "                      dropout_rate=0.1),\n",
      "          train=NNTrainParams(train_loader=<torch.utils.data.dataloader.DataLoader object at 0x7acebd6552b0>,\n",
      "                              test_loader=<torch.utils.data.dataloader.DataLoader object at 0x7acebd76fc50>,\n",
      "                              epochs=10,\n",
      "                              learning_rate=0.005,\n",
      "                              weight_decay=0.001,\n",
      "                              early_stop_patience=5))\n"
     ]
    }
   ],
   "source": [
    "from pprint import pprint\n",
    "\n",
    "ch = RawMLPChromosome(df.loc[0][\"Chromosome\"]).parse()\n",
    "params = problem.get_nn_params(ch)\n",
    "pprint(params)"
   ]
  },
  {
   "cell_type": "code",
   "execution_count": 8,
   "id": "691b5151",
   "metadata": {},
   "outputs": [
    {
     "data": {
      "image/png": "[encoded data removed]",
      "text/plain": [
       "<Figure size 640x480 with 1 Axes>"
      ]
     },
     "metadata": {},
     "output_type": "display_data"
    }
   ],
   "source": [
    "fig = hist_accuracies(df[\"Accuracy\"])"
   ]
  },
  {
   "cell_type": "code",
   "execution_count": 9,
   "id": "3cad46d6",
   "metadata": {},
   "outputs": [
    {
     "data": {
      "image/png": "[encoded data removed]",
      "text/plain": [
       "<Figure size 1000x600 with 1 Axes>"
      ]
     },
     "metadata": {},
     "output_type": "display_data"
    }
   ],
   "source": [
    "from src.nas import plot\n",
    "\n",
    "plot.plot_pareto_front(df[\"Accuracy\"], df[\"Complexity\"])"
   ]
  },
  {
   "cell_type": "code",
   "execution_count": 10,
   "id": "42481f21",
   "metadata": {},
   "outputs": [
    {
     "data": {
      "text/plain": [
       "(array([0, 0, 0, 0, 0, 0, 0, 0, 0, 0, 0, 0, 1, 0, 1, 0, 1, 0, 0, 0, 0, 0,\n",
       "        0, 0, 0]),\n",
       " array([7, 2, 2, 1, 1, 2, 1, 1, 2, 1, 1, 2, 3, 7, 3, 7, 3, 7, 2, 3, 3, 1,\n",
       "        1, 6, 3]))"
      ]
     },
     "execution_count": 10,
     "metadata": {},
     "output_type": "execute_result"
    }
   ],
   "source": [
    "from src.nas.cnn_chromosome import CNNChromosome, RawCNNChromosome\n",
    "\n",
    "\n",
    "RawCNNChromosome.get_bounds()"
   ]
  },
  {
   "cell_type": "code",
   "execution_count": 11,
   "id": "ed295be0",
   "metadata": {},
   "outputs": [
    {
     "data": {
      "text/plain": [
       "25"
      ]
     },
     "execution_count": 11,
     "metadata": {},
     "output_type": "execute_result"
    }
   ],
   "source": [
    "RawCNNChromosome.get_size()"
   ]
  },
  {
   "cell_type": "code",
   "execution_count": 12,
   "id": "0fc2e70c",
   "metadata": {},
   "outputs": [
    {
     "data": {
      "text/plain": [
       "(229672.0, 1454520.0)"
      ]
     },
     "execution_count": 12,
     "metadata": {},
     "output_type": "execute_result"
    }
   ],
   "source": [
    "from src.datasets.mnist_dataset import MiniMNISTDataset\n",
    "from src.nas.cnn_nas_problem import CnnNasProblem\n",
    "\n",
    "\n",
    "CnnDatasetClass = MiniMNISTDataset\n",
    "cnn_nas_params = NasParams(\n",
    "    epochs=1,\n",
    "    patience=5,\n",
    "    amount_of_evaluations=1,\n",
    "    population_size=20,\n",
    "    population_offspring_count=8,\n",
    "    algorithm_generations=1,\n",
    "    population_store_file=CnnDatasetClass.__name__ + \"_population.csv\",\n",
    ")\n",
    "cnn_problem = CnnNasProblem(cnn_nas_params, CnnDatasetClass)\n",
    "\n",
    "cnn_problem.get_min_complexity(), cnn_problem.get_max_complexity()"
   ]
  },
  {
   "cell_type": "code",
   "execution_count": 13,
   "id": "cb7383e8",
   "metadata": {},
   "outputs": [
    {
     "name": "stdout",
     "output_type": "stream",
     "text": [
      "CNNChromosome(in_bitwidth=8,\n",
      "              conv_layers=2,\n",
      "              conv_channels1=16,\n",
      "              conv_stride1=1,\n",
      "              conv_pooling_size1=1,\n",
      "              conv_channels2=32,\n",
      "              conv_stride2=1,\n",
      "              conv_pooling_size2=2,\n",
      "              conv_channels3=16,\n",
      "              conv_stride3=1,\n",
      "              conv_pooling_size3=1,\n",
      "              fc_layers=3,\n",
      "              fc_height1=32,\n",
      "              fc_bitwidth1=1,\n",
      "              fc_height2=32,\n",
      "              fc_bitwidth2=1,\n",
      "              fc_height3=32,\n",
      "              fc_bitwidth3=1,\n",
      "              dropout=0.0,\n",
      "              activation=<ActivationModule.RELU: 'relu'>,\n",
      "              reste_o=1.5,\n",
      "              quatization_mode=<QMode.DET: 'det'>,\n",
      "              binarization_mode=<QMode.DET: 'det'>,\n",
      "              learning_rate=0.0001,\n",
      "              weight_decay=0.01)\n"
     ]
    },
    {
     "data": {
      "text/plain": [
       "CNN(\n",
       "  (in_quantize_layer): Module_Quantize()\n",
       "  (conv_layers): ModuleList(\n",
       "    (0): Sequential(\n",
       "      (0): Conv2dWrapper(1, 16, kernel_size=(3, 3), stride=(1, 1))\n",
       "      (1): BatchNorm2d(16, eps=1e-05, momentum=0.1, affine=True, track_running_stats=True)\n",
       "      (2): ReLU()\n",
       "    )\n",
       "    (1): Sequential(\n",
       "      (0): Conv2dWrapper(16, 32, kernel_size=(3, 3), stride=(1, 1))\n",
       "      (1): BatchNorm2d(32, eps=1e-05, momentum=0.1, affine=True, track_running_stats=True)\n",
       "      (2): ReLU()\n",
       "      (3): MaxPool2d(kernel_size=2, stride=2, padding=0, dilation=1, ceil_mode=False)\n",
       "    )\n",
       "  )\n",
       "  (fc_layers): Sequential(\n",
       "    (0): QuantizedWeightLinear(in_features=4608, out_features=32, bias=True)\n",
       "    (1): BatchNorm1d(32, eps=1e-05, momentum=0.1, affine=True, track_running_stats=True)\n",
       "    (2): ReLU()\n",
       "    (3): QuantizedWeightLinear(in_features=32, out_features=32, bias=True)\n",
       "    (4): BatchNorm1d(32, eps=1e-05, momentum=0.1, affine=True, track_running_stats=True)\n",
       "    (5): ReLU()\n",
       "    (6): QuantizedWeightLinear(in_features=32, out_features=32, bias=True)\n",
       "    (7): BatchNorm1d(32, eps=1e-05, momentum=0.1, affine=True, track_running_stats=True)\n",
       "    (8): ReLU()\n",
       "    (9): Linear(in_features=32, out_features=10, bias=True)\n",
       "  )\n",
       ")"
      ]
     },
     "execution_count": 13,
     "metadata": {},
     "output_type": "execute_result"
    }
   ],
   "source": [
    "from src.models.cnn import CNN, CNNEvaluator\n",
    "\n",
    "x = [7, 1, 0, 0, 0, 2, 0, 1, 0, 0, 0, 2, 1, 0, 1, 0, 1, 0, 0, 0, 0, 0, 0, 0, 0]\n",
    "cnn_ch = RawCNNChromosome(x).parse()\n",
    "pprint(cnn_ch)\n",
    "\n",
    "cnn_params = cnn_problem.get_nn_params(cnn_ch)\n",
    "CNN(cnn_params)"
   ]
  },
  {
   "cell_type": "code",
   "execution_count": 14,
   "id": "7ca51c70",
   "metadata": {},
   "outputs": [
    {
     "data": {
      "text/plain": [
       "{'max': 10.125, 'mean': np.float64(10.125), 'std': np.float64(0.0)}"
      ]
     },
     "execution_count": 14,
     "metadata": {},
     "output_type": "execute_result"
    }
   ],
   "source": [
    "CNNEvaluator(cnn_params).evaluate_model()"
   ]
  },
  {
   "cell_type": "code",
   "execution_count": 15,
   "id": "06ba2496",
   "metadata": {},
   "outputs": [
    {
     "name": "stdout",
     "output_type": "stream",
     "text": [
      "CNNChromosome(in_bitwidth=8,\n",
      "              conv_layers=2,\n",
      "              conv_channels1=32,\n",
      "              conv_stride1=1,\n",
      "              conv_pooling_size1=1,\n",
      "              conv_channels2=16,\n",
      "              conv_stride2=1,\n",
      "              conv_pooling_size2=2,\n",
      "              conv_channels3=16,\n",
      "              conv_stride3=1,\n",
      "              conv_pooling_size3=1,\n",
      "              fc_layers=1,\n",
      "              fc_height1=32,\n",
      "              fc_bitwidth1=1,\n",
      "              fc_height2=32,\n",
      "              fc_bitwidth2=1,\n",
      "              fc_height3=32,\n",
      "              fc_bitwidth3=1,\n",
      "              dropout=0.0,\n",
      "              activation=<ActivationModule.RELU: 'relu'>,\n",
      "              reste_o=1.5,\n",
      "              quatization_mode=<QMode.DET: 'det'>,\n",
      "              binarization_mode=<QMode.DET: 'det'>,\n",
      "              learning_rate=0.0001,\n",
      "              weight_decay=0.01)\n"
     ]
    },
    {
     "data": {
      "text/plain": [
       "array([7, 1, 2, 0, 0, 0, 0, 1, 0, 0, 0, 0, 1, 0, 1, 0, 1, 0, 0, 0, 0, 0,\n",
       "       0, 0, 0])"
      ]
     },
     "execution_count": 15,
     "metadata": {},
     "output_type": "execute_result"
    }
   ],
   "source": [
    "from pprint import pprint\n",
    "\n",
    "\n",
    "x = RawCNNChromosome.get_bounds()[0]\n",
    "x[0] = 7\n",
    "x[1] = 1\n",
    "x[2] = 2\n",
    "x[7] = 1\n",
    "ch = RawCNNChromosome(x).parse()\n",
    "pprint(ch)\n",
    "\n",
    "x"
   ]
  },
  {
   "cell_type": "code",
   "execution_count": 16,
   "id": "0175968b",
   "metadata": {},
   "outputs": [
    {
     "name": "stderr",
     "output_type": "stream",
     "text": [
      "INFO: Population file loaded successfully\n"
     ]
    },
    {
     "name": "stdout",
     "output_type": "stream",
     "text": [
      "==========================================================\n",
      "n_gen  |  n_eval  | n_nds  |      eps      |   indicator  \n",
      "==========================================================\n",
      "     1 |        4 |      3 |             - |             -\n",
      "Solutions: [[3 1 1 0 1 0 1 1 2 0 1 0 2 2 2 1 1 0 2 0 3 1 1 2 3]\n",
      " [0 0 0 0 1 2 1 1 0 1 1 0 2 1 1 0 3 6 0 3 3 1 0 6 0]\n",
      " [0 2 2 1 1 1 0 0 2 0 0 2 2 2 2 3 1 7 0 0 0 0 0 5 3]]\n",
      "Objectives: [[-0.4175      0.          0.10714286]\n",
      " [-0.44375     0.32382271  0.        ]\n",
      " [-0.7925      0.          0.42857143]]\n"
     ]
    }
   ],
   "source": [
    "from pymoo.optimize import minimize\n",
    "\n",
    "from src.constants import SEED\n",
    "\n",
    "\n",
    "algorithm = cnn_nas_params.get_algorithm()\n",
    "termination = cnn_nas_params.get_termination()\n",
    "\n",
    "res = minimize(cnn_problem, algorithm, verbose=True, seed=SEED, termination=termination)\n",
    "\n",
    "if cnn_nas_params.population_store_file is not None:\n",
    "    cnn_nas_params.store_population(res, cnn_nas_params.population_store_file)\n",
    "\n",
    "print(f\"Solutions: {res.X}\")\n",
    "print(f\"Objectives: {res.F}\")"
   ]
  },
  {
   "cell_type": "code",
   "execution_count": 17,
   "id": "a2c9ea71",
   "metadata": {},
   "outputs": [
    {
     "data": {
      "text/html": [
       "<div>\n",
       "<style scoped>\n",
       "    .dataframe tbody tr th:only-of-type {\n",
       "        vertical-align: middle;\n",
       "    }\n",
       "\n",
       "    .dataframe tbody tr th {\n",
       "        vertical-align: top;\n",
       "    }\n",
       "\n",
       "    .dataframe thead th {\n",
       "        text-align: right;\n",
       "    }\n",
       "</style>\n",
       "<table border=\"1\" class=\"dataframe\">\n",
       "  <thead>\n",
       "    <tr style=\"text-align: right;\">\n",
       "      <th></th>\n",
       "      <th>Accuracy</th>\n",
       "      <th>Complexity</th>\n",
       "      <th>conv_in_channels</th>\n",
       "      <th>conv_in_dimensions</th>\n",
       "      <th>conv_in_bitwidth</th>\n",
       "      <th>conv_out_height</th>\n",
       "      <th>conv_layers</th>\n",
       "      <th>conv_activation</th>\n",
       "      <th>conv_qmode</th>\n",
       "      <th>conv_dropout_rate</th>\n",
       "      <th>fc_layers</th>\n",
       "      <th>fc_activation</th>\n",
       "      <th>fc_qmode</th>\n",
       "      <th>fc_dropout_rate</th>\n",
       "      <th>train_epochs</th>\n",
       "      <th>train_learning_rate</th>\n",
       "      <th>train_weight_decay</th>\n",
       "      <th>train_early_stop_patience</th>\n",
       "      <th>Chromosome</th>\n",
       "    </tr>\n",
       "  </thead>\n",
       "  <tbody>\n",
       "    <tr>\n",
       "      <th>0</th>\n",
       "      <td>41.750</td>\n",
       "      <td>229672.0</td>\n",
       "      <td>1</td>\n",
       "      <td>28</td>\n",
       "      <td>4</td>\n",
       "      <td>10</td>\n",
       "      <td>[{'channels': 24, 'kernel_size': 3, 'stride': ...</td>\n",
       "      <td>ActivationModule.RELU</td>\n",
       "      <td>QMode.STOCH</td>\n",
       "      <td>0.2</td>\n",
       "      <td>[{'height': 784, 'weight_qmode': WeightQuantMo...</td>\n",
       "      <td>{'activation': ActivationModule.RELU, 'binary_...</td>\n",
       "      <td>QMode.STOCH</td>\n",
       "      <td>0.2</td>\n",
       "      <td>1</td>\n",
       "      <td>0.0005</td>\n",
       "      <td>0.001</td>\n",
       "      <td>5</td>\n",
       "      <td>[3, 1, 1, 0, 1, 0, 1, 1, 2, 0, 1, 0, 2, 2, 2, ...</td>\n",
       "    </tr>\n",
       "    <tr>\n",
       "      <th>1</th>\n",
       "      <td>44.375</td>\n",
       "      <td>626305.6</td>\n",
       "      <td>1</td>\n",
       "      <td>28</td>\n",
       "      <td>1</td>\n",
       "      <td>10</td>\n",
       "      <td>[{'channels': 16, 'kernel_size': 3, 'stride': ...</td>\n",
       "      <td>ActivationModule.TERNARIZE</td>\n",
       "      <td>QMode.STOCH</td>\n",
       "      <td>0.0</td>\n",
       "      <td>[{'height': 784, 'weight_qmode': WeightQuantMo...</td>\n",
       "      <td>{'activation': ActivationModule.TERNARIZE, 'bi...</td>\n",
       "      <td>QMode.STOCH</td>\n",
       "      <td>0.0</td>\n",
       "      <td>1</td>\n",
       "      <td>0.0100</td>\n",
       "      <td>0.010</td>\n",
       "      <td>5</td>\n",
       "      <td>[0, 0, 0, 0, 1, 2, 1, 1, 0, 1, 1, 0, 2, 1, 1, ...</td>\n",
       "    </tr>\n",
       "    <tr>\n",
       "      <th>2</th>\n",
       "      <td>79.250</td>\n",
       "      <td>229672.0</td>\n",
       "      <td>1</td>\n",
       "      <td>28</td>\n",
       "      <td>1</td>\n",
       "      <td>10</td>\n",
       "      <td>[{'channels': 32, 'kernel_size': 3, 'stride': ...</td>\n",
       "      <td>ActivationModule.RELU</td>\n",
       "      <td>QMode.DET</td>\n",
       "      <td>0.0</td>\n",
       "      <td>[{'height': 784, 'weight_qmode': WeightQuantMo...</td>\n",
       "      <td>{'activation': ActivationModule.RELU, 'binary_...</td>\n",
       "      <td>QMode.DET</td>\n",
       "      <td>0.0</td>\n",
       "      <td>1</td>\n",
       "      <td>0.0050</td>\n",
       "      <td>0.001</td>\n",
       "      <td>5</td>\n",
       "      <td>[0, 2, 2, 1, 1, 1, 0, 0, 2, 0, 0, 2, 2, 2, 2, ...</td>\n",
       "    </tr>\n",
       "  </tbody>\n",
       "</table>\n",
       "</div>"
      ],
      "text/plain": [
       "   Accuracy  Complexity  conv_in_channels  conv_in_dimensions  \\\n",
       "0    41.750    229672.0                 1                  28   \n",
       "1    44.375    626305.6                 1                  28   \n",
       "2    79.250    229672.0                 1                  28   \n",
       "\n",
       "   conv_in_bitwidth  conv_out_height  \\\n",
       "0                 4               10   \n",
       "1                 1               10   \n",
       "2                 1               10   \n",
       "\n",
       "                                         conv_layers  \\\n",
       "0  [{'channels': 24, 'kernel_size': 3, 'stride': ...   \n",
       "1  [{'channels': 16, 'kernel_size': 3, 'stride': ...   \n",
       "2  [{'channels': 32, 'kernel_size': 3, 'stride': ...   \n",
       "\n",
       "              conv_activation   conv_qmode  conv_dropout_rate  \\\n",
       "0       ActivationModule.RELU  QMode.STOCH                0.2   \n",
       "1  ActivationModule.TERNARIZE  QMode.STOCH                0.0   \n",
       "2       ActivationModule.RELU    QMode.DET                0.0   \n",
       "\n",
       "                                           fc_layers  \\\n",
       "0  [{'height': 784, 'weight_qmode': WeightQuantMo...   \n",
       "1  [{'height': 784, 'weight_qmode': WeightQuantMo...   \n",
       "2  [{'height': 784, 'weight_qmode': WeightQuantMo...   \n",
       "\n",
       "                                       fc_activation     fc_qmode  \\\n",
       "0  {'activation': ActivationModule.RELU, 'binary_...  QMode.STOCH   \n",
       "1  {'activation': ActivationModule.TERNARIZE, 'bi...  QMode.STOCH   \n",
       "2  {'activation': ActivationModule.RELU, 'binary_...    QMode.DET   \n",
       "\n",
       "   fc_dropout_rate  train_epochs  train_learning_rate  train_weight_decay  \\\n",
       "0              0.2             1               0.0005               0.001   \n",
       "1              0.0             1               0.0100               0.010   \n",
       "2              0.0             1               0.0050               0.001   \n",
       "\n",
       "   train_early_stop_patience  \\\n",
       "0                          5   \n",
       "1                          5   \n",
       "2                          5   \n",
       "\n",
       "                                          Chromosome  \n",
       "0  [3, 1, 1, 0, 1, 0, 1, 1, 2, 0, 1, 0, 2, 2, 2, ...  \n",
       "1  [0, 0, 0, 0, 1, 2, 1, 1, 0, 1, 1, 0, 2, 1, 1, ...  \n",
       "2  [0, 2, 2, 1, 1, 1, 0, 0, 2, 0, 0, 2, 2, 2, 2, ...  "
      ]
     },
     "execution_count": 17,
     "metadata": {},
     "output_type": "execute_result"
    }
   ],
   "source": [
    "df = cnn_problem.result_as_df(res)\n",
    "df"
   ]
  },
  {
   "cell_type": "code",
   "execution_count": 18,
   "id": "6f9a2908",
   "metadata": {},
   "outputs": [
    {
     "name": "stdout",
     "output_type": "stream",
     "text": [
      "CNNParams(conv=ConvParams(in_channels=1,\n",
      "                          in_dimensions=28,\n",
      "                          in_bitwidth=4,\n",
      "                          out_height=10,\n",
      "                          layers=[ConvLayerParams(channels=24,\n",
      "                                                  kernel_size=3,\n",
      "                                                  stride=1,\n",
      "                                                  padding=0,\n",
      "                                                  dilation=1,\n",
      "                                                  groups=1,\n",
      "                                                  bias=True,\n",
      "                                                  pooling_kernel_size=2),\n",
      "                                  ConvLayerParams(channels=16,\n",
      "                                                  kernel_size=3,\n",
      "                                                  stride=2,\n",
      "                                                  padding=0,\n",
      "                                                  dilation=1,\n",
      "                                                  groups=1,\n",
      "                                                  bias=True,\n",
      "                                                  pooling_kernel_size=2)],\n",
      "                          activation=<ActivationModule.RELU: 'relu'>,\n",
      "                          qmode=<QMode.STOCH: 'stoch'>,\n",
      "                          dropout_rate=0.2),\n",
      "          fc=FCParams(layers=[FCLayerParams(height=784,\n",
      "                                            weight_qmode=<WeightQuantMode.NBITS: 'nbits'>,\n",
      "                                            weight_bitwidth=4),\n",
      "                              FCLayerParams(height=64,\n",
      "                                            weight_qmode=<WeightQuantMode.NBITS: 'nbits'>,\n",
      "                                            weight_bitwidth=3),\n",
      "                              FCLayerParams(height=10,\n",
      "                                            weight_qmode=<WeightQuantMode.NONE: 'none'>,\n",
      "                                            weight_bitwidth=32)],\n",
      "                      activation=ActivationParams(activation=<ActivationModule.RELU: 'relu'>,\n",
      "                                                  binary_qmode=<QMode.STOCH: 'stoch'>,\n",
      "                                                  reste_o=4.0,\n",
      "                                                  reste_threshold=1.5),\n",
      "                      qmode=<QMode.STOCH: 'stoch'>,\n",
      "                      dropout_rate=0.2),\n",
      "          train=NNTrainParams(train_loader=<torch.utils.data.dataloader.DataLoader object at 0x7aceb8c36150>,\n",
      "                              test_loader=<torch.utils.data.dataloader.DataLoader object at 0x7aceb8c36450>,\n",
      "                              epochs=1,\n",
      "                              learning_rate=0.0005,\n",
      "                              weight_decay=0.001,\n",
      "                              early_stop_patience=5),\n",
      "          in_bitwidth=4)\n"
     ]
    }
   ],
   "source": [
    "pprint(cnn_problem.get_nn_params(RawCNNChromosome(res.X[0]).parse()))"
   ]
  },
  {
   "cell_type": "code",
   "execution_count": 19,
   "id": "5d63a31b",
   "metadata": {},
   "outputs": [
    {
     "data": {
      "image/png": "[encoded data removed]",
      "text/plain": [
       "<Figure size 640x480 with 1 Axes>"
      ]
     },
     "metadata": {},
     "output_type": "display_data"
    }
   ],
   "source": [
    "fig = hist_accuracies(df[\"Accuracy\"])"
   ]
  },
  {
   "cell_type": "code",
   "execution_count": 20,
   "id": "1eac7fea",
   "metadata": {},
   "outputs": [
    {
     "data": {
      "image/png": "[encoded data removed]",
      "text/plain": [
       "<Figure size 1000x600 with 1 Axes>"
      ]
     },
     "metadata": {},
     "output_type": "display_data"
    }
   ],
   "source": [
    "from src.nas import plot\n",
    "\n",
    "plot.plot_pareto_front(df[\"Accuracy\"], df[\"Complexity\"])"
   ]
  }
 ],
 "metadata": {
  "kernelspec": {
   "display_name": "venv",
   "language": "python",
   "name": "python3"
  },
  "language_info": {
   "codemirror_mode": {
    "name": "ipython",
    "version": 3
   },
   "file_extension": ".py",
   "mimetype": "text/x-python",
   "name": "python",
   "nbconvert_exporter": "python",
   "pygments_lexer": "ipython3",
   "version": "3.13.2"
  }
 },
 "nbformat": 4,
 "nbformat_minor": 5
}
